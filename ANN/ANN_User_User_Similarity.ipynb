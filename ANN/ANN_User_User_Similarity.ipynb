{
  "nbformat": 4,
  "nbformat_minor": 0,
  "metadata": {
    "colab": {
      "name": "ANN User User Similarity.ipynb",
      "provenance": [],
      "collapsed_sections": []
    },
    "kernelspec": {
      "display_name": "Python 3",
      "name": "python3"
    }
  },
  "cells": [
    {
      "cell_type": "markdown",
      "metadata": {
        "id": "BdK0MebeROxc"
      },
      "source": [
        "ANN"
      ]
    },
    {
      "cell_type": "code",
      "metadata": {
        "id": "DCJvmJMEkNZL"
      },
      "source": [
        "!pip install surprise"
      ],
      "execution_count": null,
      "outputs": []
    },
    {
      "cell_type": "code",
      "metadata": {
        "id": "mbKbHYVNSDiC"
      },
      "source": [
        "!pip install annoy"
      ],
      "execution_count": null,
      "outputs": []
    },
    {
      "cell_type": "code",
      "metadata": {
        "id": "wcoF4uS2RSDQ"
      },
      "source": [
        "from surprise import Dataset, SVD, Reader,NMF\n",
        "from surprise.model_selection import cross_validate,train_test_split\n",
        "from surprise.model_selection import GridSearchCV,RandomizedSearchCV\n",
        "from surprise import accuracy\n",
        "from hyperopt import tpe, fmin, hp, Trials, STATUS_OK,space_eval\n",
        "import sys\n",
        "import seaborn as sns\n",
        "from timeit import Timer\n",
        "from datetime import datetime\n",
        "from surprise import Dataset, SVD, Reader,NMF\n",
        "from surprise.model_selection import cross_validate,train_test_split\n",
        "from surprise.model_selection import GridSearchCV,RandomizedSearchCV\n",
        "from surprise import accuracy\n",
        "from hyperopt import tpe, fmin, hp, Trials, STATUS_OK,space_eval\n",
        "from collections import defaultdict\n",
        "import random\n",
        "from sklearn.metrics import mean_squared_error\n",
        "from numpy.linalg import inv\n",
        "import pandas as pd\n",
        "import numpy as np\n",
        "import math\n",
        "from numpy.linalg import inv\n",
        "from numpy.linalg import multi_dot\n",
        "import matplotlib.pyplot as plt\n",
        "import itertools\n",
        "import warnings\n",
        "warnings.filterwarnings(\"ignore\")"
      ],
      "execution_count": null,
      "outputs": []
    },
    {
      "cell_type": "code",
      "metadata": {
        "id": "G6pHnhtHRWhG"
      },
      "source": [
        "data = pd.read_csv('/data/sample_data.csv')"
      ],
      "execution_count": null,
      "outputs": []
    },
    {
      "cell_type": "code",
      "metadata": {
        "colab": {
          "base_uri": "https://localhost:8080/",
          "height": 424
        },
        "id": "95qj-DqdViDB",
        "outputId": "841de942-9a39-43ab-db68-3805e05fccce"
      },
      "source": [
        "data.drop(columns=['Unnamed: 0','timestamp','date','year'],inplace=True)\n",
        "data"
      ],
      "execution_count": null,
      "outputs": [
        {
          "output_type": "execute_result",
          "data": {
            "text/html": [
              "<div>\n",
              "<style scoped>\n",
              "    .dataframe tbody tr th:only-of-type {\n",
              "        vertical-align: middle;\n",
              "    }\n",
              "\n",
              "    .dataframe tbody tr th {\n",
              "        vertical-align: top;\n",
              "    }\n",
              "\n",
              "    .dataframe thead th {\n",
              "        text-align: right;\n",
              "    }\n",
              "</style>\n",
              "<table border=\"1\" class=\"dataframe\">\n",
              "  <thead>\n",
              "    <tr style=\"text-align: right;\">\n",
              "      <th></th>\n",
              "      <th>userId</th>\n",
              "      <th>movieId</th>\n",
              "      <th>rating</th>\n",
              "    </tr>\n",
              "  </thead>\n",
              "  <tbody>\n",
              "    <tr>\n",
              "      <th>0</th>\n",
              "      <td>2</td>\n",
              "      <td>849</td>\n",
              "      <td>3.5</td>\n",
              "    </tr>\n",
              "    <tr>\n",
              "      <th>1</th>\n",
              "      <td>339</td>\n",
              "      <td>849</td>\n",
              "      <td>5.0</td>\n",
              "    </tr>\n",
              "    <tr>\n",
              "      <th>2</th>\n",
              "      <td>1707</td>\n",
              "      <td>849</td>\n",
              "      <td>2.5</td>\n",
              "    </tr>\n",
              "    <tr>\n",
              "      <th>3</th>\n",
              "      <td>2040</td>\n",
              "      <td>849</td>\n",
              "      <td>1.0</td>\n",
              "    </tr>\n",
              "    <tr>\n",
              "      <th>4</th>\n",
              "      <td>2759</td>\n",
              "      <td>849</td>\n",
              "      <td>4.0</td>\n",
              "    </tr>\n",
              "    <tr>\n",
              "      <th>...</th>\n",
              "      <td>...</td>\n",
              "      <td>...</td>\n",
              "      <td>...</td>\n",
              "    </tr>\n",
              "    <tr>\n",
              "      <th>897059</th>\n",
              "      <td>279416</td>\n",
              "      <td>4090</td>\n",
              "      <td>4.0</td>\n",
              "    </tr>\n",
              "    <tr>\n",
              "      <th>897060</th>\n",
              "      <td>279765</td>\n",
              "      <td>4090</td>\n",
              "      <td>3.0</td>\n",
              "    </tr>\n",
              "    <tr>\n",
              "      <th>897061</th>\n",
              "      <td>279869</td>\n",
              "      <td>4090</td>\n",
              "      <td>3.0</td>\n",
              "    </tr>\n",
              "    <tr>\n",
              "      <th>897062</th>\n",
              "      <td>280137</td>\n",
              "      <td>4090</td>\n",
              "      <td>3.0</td>\n",
              "    </tr>\n",
              "    <tr>\n",
              "      <th>897063</th>\n",
              "      <td>282586</td>\n",
              "      <td>4090</td>\n",
              "      <td>5.0</td>\n",
              "    </tr>\n",
              "  </tbody>\n",
              "</table>\n",
              "<p>897064 rows × 3 columns</p>\n",
              "</div>"
            ],
            "text/plain": [
              "        userId  movieId  rating\n",
              "0            2      849     3.5\n",
              "1          339      849     5.0\n",
              "2         1707      849     2.5\n",
              "3         2040      849     1.0\n",
              "4         2759      849     4.0\n",
              "...        ...      ...     ...\n",
              "897059  279416     4090     4.0\n",
              "897060  279765     4090     3.0\n",
              "897061  279869     4090     3.0\n",
              "897062  280137     4090     3.0\n",
              "897063  282586     4090     5.0\n",
              "\n",
              "[897064 rows x 3 columns]"
            ]
          },
          "metadata": {
            "tags": []
          },
          "execution_count": 4
        }
      ]
    },
    {
      "cell_type": "markdown",
      "metadata": {
        "id": "TA_Hdqgqyr_e"
      },
      "source": [
        "## Splitting Main dataset to a train and a test dataset"
      ]
    },
    {
      "cell_type": "code",
      "metadata": {
        "id": "NCHFQrfCU4wg"
      },
      "source": [
        "user_freq=data.groupby(['userId']).size().reset_index(name='counts')\n",
        "users_lt3=user_freq[user_freq['counts']<3][['userId']]\n",
        "users_ge3=user_freq[user_freq['counts']>=3][['userId']]\n",
        "train1 = pd.merge(data, users_lt3, on=['userId'],how='inner')\n",
        "data1 = pd.merge(data, users_ge3, on=['userId'],how='inner')\n",
        "random.seed(2)\n",
        "test=data1.groupby('userId').sample(frac=.3, random_state=2)\n",
        "test_idx = data1.index.isin(test.index.to_list())\n",
        "train = train1.append(data1[~test_idx])\n",
        "\n",
        "\n",
        "train_df = train\n",
        "test_df = test"
      ],
      "execution_count": null,
      "outputs": []
    },
    {
      "cell_type": "markdown",
      "metadata": {
        "id": "VZat979Ayw16"
      },
      "source": [
        "## Splitting Train data to a train and validation dataset for Hyperparameter Optimization of Annoy (ANN)"
      ]
    },
    {
      "cell_type": "code",
      "metadata": {
        "id": "cs7MoPHtCf8L"
      },
      "source": [
        "user_freq1 = data.groupby(['userId']).size().reset_index(name='counts')\r\n",
        "\r\n",
        "users_lt2=user_freq1[user_freq1['counts']<2][['userId']]\r\n",
        "users_ge2=user_freq1[user_freq1['counts']>=2][['userId']]\r\n",
        "train2 = pd.merge(train, users_lt2, on=['userId'],how='inner')\r\n",
        "data2 = pd.merge(train, users_ge2, on=['userId'],how='inner')\r\n",
        "random.seed(2)\r\n",
        "\r\n",
        "validation = data2.groupby('userId').sample(frac=0.2, random_state=5)\r\n",
        "validation_idx = data2.index.isin(validation.index.to_list())\r\n",
        "train_data = train2.append(data2[~validation_idx])"
      ],
      "execution_count": null,
      "outputs": []
    },
    {
      "cell_type": "markdown",
      "metadata": {
        "id": "ETpZp05do-r2"
      },
      "source": [
        "##  Before Applying ANN, it is a prerequisite that we have our latent matrix i.e. U and V matrices ready.\n",
        "Therefore, I am reusing code from the SVD Collaborative Filtering model to get the latent matrix."
      ]
    },
    {
      "cell_type": "code",
      "metadata": {
        "id": "uRotfcuHVozJ"
      },
      "source": [
        "reader = Reader(rating_scale=(1,5))\n",
        "train = Dataset.load_from_df(train[['userId', 'movieId', 'rating']], reader=reader)\n",
        "test = Dataset.load_from_df(test[['userId', 'movieId', 'rating']], reader=reader)\n",
        "raw_ratings = test.raw_ratings\n",
        "threshold = int(1 * len(raw_ratings))\n",
        "A_raw_ratings = raw_ratings[:threshold]\n",
        "\n",
        "test = test.construct_testset(A_raw_ratings)"
      ],
      "execution_count": null,
      "outputs": []
    },
    {
      "cell_type": "code",
      "metadata": {
        "id": "AEEu8REZVqBr"
      },
      "source": [
        "raw_ratings1 = train.raw_ratings\n",
        "threshold = int(1 * len(raw_ratings1))\n",
        "B_raw_ratings = raw_ratings1[:threshold]\n",
        "train_test = train.construct_testset(B_raw_ratings)"
      ],
      "execution_count": null,
      "outputs": []
    },
    {
      "cell_type": "markdown",
      "metadata": {
        "id": "pzcLvKa6UziX"
      },
      "source": [
        "The hyperparameters are taken from the hyperparameter optimization performed in homework 2"
      ]
    },
    {
      "cell_type": "code",
      "metadata": {
        "colab": {
          "base_uri": "https://localhost:8080/"
        },
        "id": "mud4Ib_JkqS3",
        "outputId": "aa9b2620-163f-45f8-95c7-b0b37919fd3c"
      },
      "source": [
        "model = SVD(n_epochs=50,n_factors=15,reg_all=0.1,lr_all=0.02)\n",
        "trainset = train.build_full_trainset()\n",
        "model.fit(trainset)"
      ],
      "execution_count": null,
      "outputs": [
        {
          "output_type": "execute_result",
          "data": {
            "text/plain": [
              "<surprise.prediction_algorithms.matrix_factorization.SVD at 0x7efdac24d208>"
            ]
          },
          "metadata": {
            "tags": []
          },
          "execution_count": 63
        }
      ]
    },
    {
      "cell_type": "code",
      "metadata": {
        "colab": {
          "base_uri": "https://localhost:8080/"
        },
        "id": "ReMhPFsZELHY",
        "outputId": "89ccd98f-b9a2-4c5b-c432-b8a5b45916cc"
      },
      "source": [
        "# Retrieiving inner ids, as used by surprise package during model training\n",
        "user_inner_ids = [x for x in trainset.all_users()]\n",
        "item_inner_ids = [i for i in trainset.all_items()]\n",
        "\n",
        "# All ids mapped back to values in the actual train set \n",
        "user_raw_ids = [trainset.to_raw_uid(x) for x in user_inner_ids]\n",
        "item_raw_ids = [trainset.to_raw_iid(x) for x in item_inner_ids]\n",
        "\n",
        "print(user_raw_ids[:5])\n",
        "print(item_raw_ids[:5])"
      ],
      "execution_count": null,
      "outputs": [
        {
          "output_type": "stream",
          "text": [
            "[16421, 260732, 102234, 115586, 137983]\n",
            "[849, 2746, 256, 1186, 45447]\n"
          ],
          "name": "stdout"
        }
      ]
    },
    {
      "cell_type": "code",
      "metadata": {
        "colab": {
          "base_uri": "https://localhost:8080/"
        },
        "id": "q85th3jvlt_n",
        "outputId": "64fdf5f6-0a35-4b40-a780-546517d77dfb"
      },
      "source": [
        "U = model.pu \n",
        "V = model.qi\n",
        "print(U[0])\n",
        "print(V[0])"
      ],
      "execution_count": null,
      "outputs": [
        {
          "output_type": "stream",
          "text": [
            "[-0.2766652   0.05129945  0.02482979  0.14175177 -0.03045088 -0.06725312\n",
            " -0.15028632 -0.09776681 -0.09589824 -0.03254704 -0.07360083 -0.04562828\n",
            "  0.20186044 -0.01711213  0.22403736]\n",
            "[-0.23008582  0.27722892  0.11150006  0.05654918  0.18898329 -0.25740454\n",
            "  0.08487099 -0.55804598  0.1612683   0.05774241  0.14376097 -0.62298298\n",
            "  0.25338719  0.26446005  0.50896676]\n"
          ],
          "name": "stdout"
        }
      ]
    },
    {
      "cell_type": "code",
      "metadata": {
        "colab": {
          "base_uri": "https://localhost:8080/"
        },
        "id": "dlLaKcuDlg30",
        "outputId": "9b32a0dc-451a-4a0a-e6a0-f7c0a3b61e0e"
      },
      "source": [
        "print(model.pu.shape) # (n_user, n_factors)\n",
        "print(model.qi.shape) # (n_items, n_factors)"
      ],
      "execution_count": null,
      "outputs": [
        {
          "output_type": "stream",
          "text": [
            "(20974, 15)\n",
            "(1103, 15)\n"
          ],
          "name": "stdout"
        }
      ]
    },
    {
      "cell_type": "markdown",
      "metadata": {
        "id": "t8U0hqU8x0x-"
      },
      "source": [
        "# Exploratory Data Analysis"
      ]
    },
    {
      "cell_type": "markdown",
      "metadata": {
        "id": "wC4jyFKHzAV8"
      },
      "source": [
        "### Movie frequency per user for all users in our training dataset"
      ]
    },
    {
      "cell_type": "code",
      "metadata": {
        "id": "_usOl4W7x20l"
      },
      "source": [
        "user_freq = train_df.groupby('userId', as_index=False).agg(num_movies=('movieId','count'))"
      ],
      "execution_count": null,
      "outputs": []
    },
    {
      "cell_type": "code",
      "metadata": {
        "colab": {
          "base_uri": "https://localhost:8080/",
          "height": 334
        },
        "id": "ZZz8S43W3Hfq",
        "outputId": "3105848b-a835-4c1c-e42a-706f9c6b0848"
      },
      "source": [
        "plt.figure(figsize=(15,5))\n",
        "plt.hist(user_freq['num_movies'], bins=100, edgecolor='b', log=True)\n",
        "plt.xlim(0,)\n",
        "plt.xticks(np.arange(0,1000,50))\n",
        "plt.xlabel('Number of ratings')\n",
        "plt.ylabel('Number of users')\n",
        "plt.show()\n"
      ],
      "execution_count": null,
      "outputs": [
        {
          "output_type": "display_data",
          "data": {
            "image/png": "[encoded data removed]",
            "text/plain": [
              "<Figure size 1080x360 with 1 Axes>"
            ]
          },
          "metadata": {
            "tags": []
          }
        }
      ]
    },
    {
      "cell_type": "markdown",
      "metadata": {
        "id": "nGhwOGOTAUDg"
      },
      "source": [
        "We have a lot of users who have rated more than 50 ratings.\n",
        "We will be looking at using nearest neighbours to reduce the size of the the user-movie pairs in the train dataset."
      ]
    },
    {
      "cell_type": "code",
      "metadata": {
        "colab": {
          "base_uri": "https://localhost:8080/",
          "height": 334
        },
        "id": "-EcePdmn3Mpe",
        "outputId": "3c92b83f-8d9b-46c8-e2d8-66dbc4bb8c82"
      },
      "source": [
        "plt.figure(figsize=(15,5))\n",
        "plt.hist(user_freq['num_movies'], bins=100, edgecolor='b', log=True)\n",
        "plt.xlim(0,200)\n",
        "plt.xticks(np.arange(0,200,50))\n",
        "plt.xlabel('Number of ratings')\n",
        "plt.ylabel('Number of users')\n",
        "plt.show()"
      ],
      "execution_count": null,
      "outputs": [
        {
          "output_type": "display_data",
          "data": {
            "image/png": "[encoded data removed]",
            "text/plain": [
              "<Figure size 1080x360 with 1 Axes>"
            ]
          },
          "metadata": {
            "tags": []
          }
        }
      ]
    },
    {
      "cell_type": "markdown",
      "metadata": {
        "id": "qz7GedxTBTOP"
      },
      "source": [
        "The latent matrix is a numpy array of shape (n_items, n_factors. The first raw corresponds to the first raw item id (see this: http://surprise.readthedocs.io/en/latest/FAQ.html#what-are-raw-and-inner-ids), the second correspond to the second raw item id, etc..."
      ]
    },
    {
      "cell_type": "markdown",
      "metadata": {
        "id": "qv_VReVyfiqO"
      },
      "source": [
        "# Annoy package \n",
        "\n",
        "Annoy is a C++ library with Python bindings that builds random projection trees. An index is built with a forest of k trees, where k is a tunable parameter that trades off between precision and performance. It also creates large read-only, file-based data structures that are mapped into memory so that many processes can share the data."
      ]
    },
    {
      "cell_type": "code",
      "metadata": {
        "id": "udvhe0zyT3ih"
      },
      "source": [
        "from annoy import AnnoyIndex"
      ],
      "execution_count": null,
      "outputs": []
    },
    {
      "cell_type": "markdown",
      "metadata": {
        "id": "ifxD8aljLO2O"
      },
      "source": [
        "HYPERPARAMETER OPTIMIZATION FOR ANN (FINDING THE OPTIMUM NUMBER OF TREES)"
      ]
    },
    {
      "cell_type": "code",
      "metadata": {
        "id": "q3avO7qplzI6"
      },
      "source": [
        "from google.colab import drive\n",
        "drive.mount('/content/drive')"
      ],
      "execution_count": null,
      "outputs": []
    },
    {
      "cell_type": "code",
      "metadata": {
        "id": "DQzM79oIQXdu"
      },
      "source": [
        "def filter_nn_user(nn_sim, movie_id,movie_to_users): \r\n",
        "    if nn_sim[0] in movie_to_users[movie_id]:\r\n",
        "      return True\r\n",
        "    return False"
      ],
      "execution_count": null,
      "outputs": []
    },
    {
      "cell_type": "code",
      "metadata": {
        "id": "Q6ZlFoUCPI75"
      },
      "source": [
        "def calc_raw_uid(inner_id):\r\n",
        "  return trainset.to_raw_uid(inner_id)"
      ],
      "execution_count": null,
      "outputs": []
    },
    {
      "cell_type": "code",
      "metadata": {
        "id": "Yzmamj9CPJA4"
      },
      "source": [
        "def calc_cosine(dist):\r\n",
        "  return 1 - (dist/2)"
      ],
      "execution_count": null,
      "outputs": []
    },
    {
      "cell_type": "code",
      "metadata": {
        "id": "WHW3nbh6awCX"
      },
      "source": [
        "def Ann_predictions(train, test, n):\r\n",
        "  train_users = train['userId'].unique()\r\n",
        "  train_df_pivoted = train.pivot(index='userId', columns='movieId', values='rating')\r\n",
        "\r\n",
        "  # Finding the average rating value per user\r\n",
        "  avg_value = train_df_pivoted.mean(axis=1)\r\n",
        "  user_mean_df = pd.DataFrame(avg_value,columns=['mean'])\r\n",
        "\r\n",
        "  # Subtracting the average rating value from all the ratings of a user\r\n",
        "  train_df_centered = train_df_pivoted.sub(train_df_pivoted.mean(axis=1), axis=0)\r\n",
        "\r\n",
        "  movie_to_users = defaultdict(list)\r\n",
        "  movie_to_users = train.groupby('movieId')['userId'].apply(list).to_dict()\r\n",
        "\r\n",
        "  # Building Annoy Trees\r\n",
        "\r\n",
        "  f = 15 # n_factors\r\n",
        "\r\n",
        "  model_user_nn = AnnoyIndex(f, 'angular')  # Length of item vector that will be indexed\r\n",
        "  for i,u in zip(user_inner_ids,U):\r\n",
        "      model_user_nn.add_item(i, u)\r\n",
        "\r\n",
        "  model_user_nn.build(n) # n trees \r\n",
        "  # model_user_nn.save('test_user.ann')\r\n",
        "\r\n",
        "  # Finding the 100 nearest neighbors to a user\r\n",
        "  def find_nn(user_id):\r\n",
        "    return model_user_nn.get_nns_by_item(trainset.to_inner_uid(user_id), 101, include_distances=True)\r\n",
        "  \r\n",
        "  l = list(map(find_nn,train_users))\r\n",
        "\r\n",
        "  matrix_similarity_with_nn = {}\r\n",
        "\r\n",
        "\r\n",
        "  # Filling in similar users and their distances to all users \r\n",
        "  for user_id,nn_dist in zip(train_users,l):\r\n",
        "    matrix_similarity_with_nn[user_id] = [(nn,sim) for nn,sim in zip(list(map(calc_raw_uid,nn_dist[0]))[1:],list(map(calc_cosine,nn_dist[1]))[1:])]\r\n",
        "\r\n",
        "  # Prediction function to predict ratings for all user-movie pair in test/validation dataset \r\n",
        "  def predict_nn_rating(user_movie_pair):\r\n",
        "    user_id, movie_id = user_movie_pair\r\n",
        "    reduced_nn_sim = pd.DataFrame(filter(lambda x: filter_nn_user(x, movie_id, movie_to_users),matrix_similarity_with_nn[user_id]))\r\n",
        "    prediction = user_mean_df.loc[user_id].values[0]\r\n",
        "\r\n",
        "    if len(reduced_nn_sim)==0:\r\n",
        "      return prediction\r\n",
        "\r\n",
        "    u_list = reduced_nn_sim[0].to_list()\r\n",
        "    nr = np.dot(train_df_centered.loc[u_list][movie_id],reduced_nn_sim[1])\r\n",
        "    dr = np.sum(np.abs(reduced_nn_sim[1]))\r\n",
        "    if(dr!=0):\r\n",
        "      prediction += (nr/dr)\r\n",
        "    return prediction\r\n",
        "\r\n",
        "\r\n",
        "  preds = list(map(predict_nn_rating,[(user_id,movie_id) for user_id, movie_id in zip(test['userId'],test['movieId'])]))\r\n",
        "  rmse = np.sqrt(mean_squared_error(test['rating'],preds))\r\n",
        "  return rmse\r\n"
      ],
      "execution_count": null,
      "outputs": []
    },
    {
      "cell_type": "code",
      "metadata": {
        "id": "Cyba2PWSbTgP"
      },
      "source": [
        "rmse_validation = {}\r\n",
        "rmse_validation[10] = Ann_predictions(train_data,validation,10)\r\n",
        "rmse_validation[15] = Ann_predictions(train_data,validation,15)\r\n",
        "rmse_validation[20] = Ann_predictions(train_data,validation,20)\r\n",
        "\r\n",
        "df1 = pd.DataFrame(list(rmse_validation.items()),columns = ['num_of_trees','RMSE'])\r\n",
        "df1.to_csv('/data/hyperparameters_rmse.csv')"
      ],
      "execution_count": null,
      "outputs": []
    },
    {
      "cell_type": "code",
      "metadata": {
        "id": "ErEzRI-EwjMz"
      },
      "source": [
        "rmse_validation = {}\r\n",
        "rmse_validation[25] = Ann_predictions(train_data,validation,25)\r\n",
        "rmse_validation[50] = Ann_predictions(train_data,validation,50)\r\n",
        "rmse_validation[80] = Ann_predictions(train_data,validation,80)\r\n",
        "df2 = pd.DataFrame(list(rmse_validation.items()),columns = ['num_of_trees','RMSE'])\r\n",
        "df2.to_csv('/data/hyperparameters_rmse2.csv')"
      ],
      "execution_count": null,
      "outputs": []
    },
    {
      "cell_type": "code",
      "metadata": {
        "id": "tHZuFkc9wnlq"
      },
      "source": [
        "rmse_validation = {}\r\n",
        "rmse_validation[60] = Ann_predictions(train_data,validation,60)\r\n",
        "rmse_validation[70] = Ann_predictions(train_data,validation,70)\r\n",
        "rmse_validation[90] = Ann_predictions(train_data,validation,90)\r\n",
        "\r\n",
        "df3 = pd.DataFrame(list(rmse_validation.items()),columns = ['num_of_trees','RMSE'])\r\n",
        "df3.to_csv('/data/hyperparameters_rmse_3.csv')"
      ],
      "execution_count": null,
      "outputs": []
    },
    {
      "cell_type": "code",
      "metadata": {
        "id": "XvCCauj2gqIJ"
      },
      "source": [
        "df1 = pd.read_csv(\"/data/hyperparameters_rmse.csv\") \r\n",
        "df2 = pd.read_csv(\"/data/hyperparameters_rmse2.csv\") \r\n",
        "df3 = pd.read_csv(\"/data/hyperparameters_rmse_3.csv\") "
      ],
      "execution_count": null,
      "outputs": []
    },
    {
      "cell_type": "code",
      "metadata": {
        "colab": {
          "base_uri": "https://localhost:8080/",
          "height": 324
        },
        "id": "AXh6wMhkg-6G",
        "outputId": "979d5bcc-430c-4040-88dd-380ffdb6c528"
      },
      "source": [
        "frames = [df1,df2,df3]\r\n",
        "df = pd.concat(frames)\r\n",
        "df.drop(columns=['Unnamed: 0'],inplace=True)\r\n",
        "df = df.reset_index().drop(columns=['index'])\r\n",
        "df = df.sort_values(by='num_of_trees')\r\n",
        "df"
      ],
      "execution_count": null,
      "outputs": [
        {
          "output_type": "execute_result",
          "data": {
            "text/html": [
              "<div>\n",
              "<style scoped>\n",
              "    .dataframe tbody tr th:only-of-type {\n",
              "        vertical-align: middle;\n",
              "    }\n",
              "\n",
              "    .dataframe tbody tr th {\n",
              "        vertical-align: top;\n",
              "    }\n",
              "\n",
              "    .dataframe thead th {\n",
              "        text-align: right;\n",
              "    }\n",
              "</style>\n",
              "<table border=\"1\" class=\"dataframe\">\n",
              "  <thead>\n",
              "    <tr style=\"text-align: right;\">\n",
              "      <th></th>\n",
              "      <th>num_of_trees</th>\n",
              "      <th>RMSE</th>\n",
              "    </tr>\n",
              "  </thead>\n",
              "  <tbody>\n",
              "    <tr>\n",
              "      <th>0</th>\n",
              "      <td>10</td>\n",
              "      <td>0.833872</td>\n",
              "    </tr>\n",
              "    <tr>\n",
              "      <th>1</th>\n",
              "      <td>15</td>\n",
              "      <td>0.831930</td>\n",
              "    </tr>\n",
              "    <tr>\n",
              "      <th>2</th>\n",
              "      <td>20</td>\n",
              "      <td>0.830830</td>\n",
              "    </tr>\n",
              "    <tr>\n",
              "      <th>3</th>\n",
              "      <td>25</td>\n",
              "      <td>0.830714</td>\n",
              "    </tr>\n",
              "    <tr>\n",
              "      <th>4</th>\n",
              "      <td>50</td>\n",
              "      <td>0.830228</td>\n",
              "    </tr>\n",
              "    <tr>\n",
              "      <th>6</th>\n",
              "      <td>60</td>\n",
              "      <td>0.830230</td>\n",
              "    </tr>\n",
              "    <tr>\n",
              "      <th>7</th>\n",
              "      <td>70</td>\n",
              "      <td>0.830232</td>\n",
              "    </tr>\n",
              "    <tr>\n",
              "      <th>5</th>\n",
              "      <td>80</td>\n",
              "      <td>0.830234</td>\n",
              "    </tr>\n",
              "    <tr>\n",
              "      <th>8</th>\n",
              "      <td>90</td>\n",
              "      <td>0.830402</td>\n",
              "    </tr>\n",
              "  </tbody>\n",
              "</table>\n",
              "</div>"
            ],
            "text/plain": [
              "   num_of_trees      RMSE\n",
              "0            10  0.833872\n",
              "1            15  0.831930\n",
              "2            20  0.830830\n",
              "3            25  0.830714\n",
              "4            50  0.830228\n",
              "6            60  0.830230\n",
              "7            70  0.830232\n",
              "5            80  0.830234\n",
              "8            90  0.830402"
            ]
          },
          "metadata": {
            "tags": []
          },
          "execution_count": 59
        }
      ]
    },
    {
      "cell_type": "code",
      "metadata": {
        "colab": {
          "base_uri": "https://localhost:8080/",
          "height": 295
        },
        "id": "hbWh08alKWe6",
        "outputId": "f1c436bd-b07e-4696-9de6-14fd3b1af6a8"
      },
      "source": [
        "plt.scatter(df['num_of_trees'],df['RMSE'])\r\n",
        "plt.plot(df['num_of_trees'],df['RMSE'])\r\n",
        "plt.title(\"Number of trees  vs RMSE on Validation Dataset\")\r\n",
        "plt.xlabel(\"Number of trees build for Annoy \")\r\n",
        "plt.ylabel(\"rmse on validation set\")\r\n",
        "plt.show()"
      ],
      "execution_count": null,
      "outputs": [
        {
          "output_type": "display_data",
          "data": {
            "image/png": "[encoded data removed]",
            "text/plain": [
              "<Figure size 432x288 with 1 Axes>"
            ]
          },
          "metadata": {
            "tags": []
          }
        }
      ]
    },
    {
      "cell_type": "code",
      "metadata": {
        "colab": {
          "base_uri": "https://localhost:8080/",
          "height": 324
        },
        "id": "8NNc2JhdgeeY",
        "outputId": "c71a7447-eb59-4e7f-9d36-55ff176f3f91"
      },
      "source": [
        "df = df.sort_values(by='RMSE')\r\n",
        "df"
      ],
      "execution_count": null,
      "outputs": [
        {
          "output_type": "execute_result",
          "data": {
            "text/html": [
              "<div>\n",
              "<style scoped>\n",
              "    .dataframe tbody tr th:only-of-type {\n",
              "        vertical-align: middle;\n",
              "    }\n",
              "\n",
              "    .dataframe tbody tr th {\n",
              "        vertical-align: top;\n",
              "    }\n",
              "\n",
              "    .dataframe thead th {\n",
              "        text-align: right;\n",
              "    }\n",
              "</style>\n",
              "<table border=\"1\" class=\"dataframe\">\n",
              "  <thead>\n",
              "    <tr style=\"text-align: right;\">\n",
              "      <th></th>\n",
              "      <th>num_of_trees</th>\n",
              "      <th>RMSE</th>\n",
              "    </tr>\n",
              "  </thead>\n",
              "  <tbody>\n",
              "    <tr>\n",
              "      <th>4</th>\n",
              "      <td>50</td>\n",
              "      <td>0.830228</td>\n",
              "    </tr>\n",
              "    <tr>\n",
              "      <th>6</th>\n",
              "      <td>60</td>\n",
              "      <td>0.830230</td>\n",
              "    </tr>\n",
              "    <tr>\n",
              "      <th>7</th>\n",
              "      <td>70</td>\n",
              "      <td>0.830232</td>\n",
              "    </tr>\n",
              "    <tr>\n",
              "      <th>5</th>\n",
              "      <td>80</td>\n",
              "      <td>0.830234</td>\n",
              "    </tr>\n",
              "    <tr>\n",
              "      <th>8</th>\n",
              "      <td>90</td>\n",
              "      <td>0.830402</td>\n",
              "    </tr>\n",
              "    <tr>\n",
              "      <th>3</th>\n",
              "      <td>25</td>\n",
              "      <td>0.830714</td>\n",
              "    </tr>\n",
              "    <tr>\n",
              "      <th>2</th>\n",
              "      <td>20</td>\n",
              "      <td>0.830830</td>\n",
              "    </tr>\n",
              "    <tr>\n",
              "      <th>1</th>\n",
              "      <td>15</td>\n",
              "      <td>0.831930</td>\n",
              "    </tr>\n",
              "    <tr>\n",
              "      <th>0</th>\n",
              "      <td>10</td>\n",
              "      <td>0.833872</td>\n",
              "    </tr>\n",
              "  </tbody>\n",
              "</table>\n",
              "</div>"
            ],
            "text/plain": [
              "   num_of_trees      RMSE\n",
              "4            50  0.830228\n",
              "6            60  0.830230\n",
              "7            70  0.830232\n",
              "5            80  0.830234\n",
              "8            90  0.830402\n",
              "3            25  0.830714\n",
              "2            20  0.830830\n",
              "1            15  0.831930\n",
              "0            10  0.833872"
            ]
          },
          "metadata": {
            "tags": []
          },
          "execution_count": 61
        }
      ]
    },
    {
      "cell_type": "markdown",
      "metadata": {
        "id": "uT-WxIU_gfgZ"
      },
      "source": [
        "We find the optimum number of trees to be 50. Hence we now use n = 50 for training our Annoy ANN model to find user-user similarities"
      ]
    },
    {
      "cell_type": "markdown",
      "metadata": {
        "id": "HmvsxKTIsJkJ"
      },
      "source": [
        "## Using ANN to Fill the User-Movie Matrix by taking hyperparameter n=50"
      ]
    },
    {
      "cell_type": "code",
      "metadata": {
        "id": "2sYKtuYEb6CE"
      },
      "source": [
        "# Cross Join to Generate User - Movie Matrix\r\n",
        "train_movies = train_df['movieId'].unique()\r\n",
        "all_movies = pd.DataFrame(train_movies,columns=['movieId'])\r\n",
        "all_movies['k'] = 0\r\n",
        "all_users = pd.DataFrame(train_users,columns=['userId'])\r\n",
        "all_users['k'] = 0\r\n",
        "main_data = pd.merge(all_users,all_movies, on='k',how='outer').drop('k', axis=1)\r\n"
      ],
      "execution_count": null,
      "outputs": []
    },
    {
      "cell_type": "code",
      "metadata": {
        "id": "e5pXeTIkUuSp"
      },
      "source": [
        "main_data = pd.merge(main_data,train_df, on=['userId','movieId'],how='left')\r\n",
        "main_data = main_data[main_data['rating'].isnull()]"
      ],
      "execution_count": null,
      "outputs": []
    },
    {
      "cell_type": "code",
      "metadata": {
        "colab": {
          "base_uri": "https://localhost:8080/"
        },
        "id": "GB5xtPVNWKrP",
        "outputId": "8b68582a-0df1-48ea-f130-414f6783a8ed"
      },
      "source": [
        "len(main_data)"
      ],
      "execution_count": null,
      "outputs": [
        {
          "output_type": "execute_result",
          "data": {
            "text/plain": [
              "22506504"
            ]
          },
          "metadata": {
            "tags": []
          },
          "execution_count": 22
        }
      ]
    },
    {
      "cell_type": "code",
      "metadata": {
        "id": "TqNR12H4fox2"
      },
      "source": [
        "a, b, c, d = np.split(main_data, 4)"
      ],
      "execution_count": null,
      "outputs": []
    },
    {
      "cell_type": "code",
      "metadata": {
        "id": "LklEpgRmW8Wg"
      },
      "source": [
        "a[['userId','movieId']].to_csv('/data/a.csv',index=False)\r\n",
        "b[['userId','movieId']].to_csv('/data/b.csv',index=False)\r\n",
        "c[['userId','movieId']].to_csv('/data/c.csv',index=False)\r\n",
        "d[['userId','movieId']].to_csv('/data/d.csv',index=False)"
      ],
      "execution_count": null,
      "outputs": []
    },
    {
      "cell_type": "code",
      "metadata": {
        "id": "JctHCh97vf07"
      },
      "source": [
        "def calc_raw_uid(inner_id):\r\n",
        "  return trainset.to_raw_uid(inner_id)"
      ],
      "execution_count": null,
      "outputs": []
    },
    {
      "cell_type": "code",
      "metadata": {
        "id": "s5mjoUpVvle8"
      },
      "source": [
        "def calc_cosine(dist):\r\n",
        "  return 1 - (dist/2)"
      ],
      "execution_count": null,
      "outputs": []
    },
    {
      "cell_type": "code",
      "metadata": {
        "id": "8HQLSOeUx-in"
      },
      "source": [
        "def filter_nn_user(nn_sim, movie_id,movie_to_users): \r\n",
        "    if nn_sim[0] in movie_to_users[movie_id]:\r\n",
        "      return True\r\n",
        "    return False"
      ],
      "execution_count": null,
      "outputs": []
    },
    {
      "cell_type": "code",
      "metadata": {
        "id": "7gqtEhdHW1WB"
      },
      "source": [
        "def Ann_predictions_all(train, df, n):\r\n",
        "  train_users = train['userId'].unique()\r\n",
        "  train_df_pivoted = train.pivot(index='userId', columns='movieId', values='rating')\r\n",
        "\r\n",
        "  avg_value = train_df_pivoted.mean(axis=1)\r\n",
        "  user_mean_df = pd.DataFrame(avg_value,columns=['mean'])\r\n",
        "  train_df_centered = train_df_pivoted.sub(train_df_pivoted.mean(axis=1), axis=0)\r\n",
        "\r\n",
        "  movie_to_users = defaultdict(list)\r\n",
        "  movie_to_users = train.groupby('movieId')['userId'].apply(list).to_dict()\r\n",
        "\r\n",
        "  f = 15 # n_factors\r\n",
        "  model_user_nn = AnnoyIndex(f, 'angular')  # Length of item vector that will be indexed\r\n",
        "  for i,u in zip(user_inner_ids,U):\r\n",
        "      model_user_nn.add_item(i, u)\r\n",
        "\r\n",
        "  model_user_nn.build(n) # n trees \r\n",
        "  # model_user_nn.save('test_user.ann')\r\n",
        "  def find_nn(user_id):\r\n",
        "    return model_user_nn.get_nns_by_item(trainset.to_inner_uid(user_id), 101, include_distances=True)\r\n",
        "  \r\n",
        "  l = list(map(find_nn,train_users))\r\n",
        "\r\n",
        "  matrix_similarity_with_nn = {}\r\n",
        "\r\n",
        "  for user_id,nn_dist in zip(train_users,l):\r\n",
        "    matrix_similarity_with_nn[user_id] = [(nn,sim) for nn,sim in zip(list(map(calc_raw_uid,nn_dist[0]))[1:],list(map(calc_cosine,nn_dist[1]))[1:])]\r\n",
        "\r\n",
        "\r\n",
        "  def predict_nn_rating(user_movie_pair):\r\n",
        "    user_id, movie_id = user_movie_pair\r\n",
        "    reduced_nn_sim = pd.DataFrame(filter(lambda x: filter_nn_user(x, movie_id, movie_to_users),matrix_similarity_with_nn[user_id]))\r\n",
        "    prediction = user_mean_df.loc[user_id].values[0]\r\n",
        "\r\n",
        "    if len(reduced_nn_sim)==0:\r\n",
        "      return prediction\r\n",
        "\r\n",
        "    u_list = reduced_nn_sim[0].to_list()\r\n",
        "    nr = np.dot(train_df_centered.loc[u_list][movie_id],reduced_nn_sim[1])\r\n",
        "    dr = np.sum(np.abs(reduced_nn_sim[1]))\r\n",
        "    if(dr!=0):\r\n",
        "      prediction += (nr/dr)\r\n",
        "    return prediction\r\n",
        "\r\n",
        "\r\n",
        "  preds = list(map(predict_nn_rating,[(user_id,movie_id) for user_id,movie_id in zip(df['userId'],df['movieId'])]))\r\n",
        "  #rmse = np.sqrt(mean_squared_error(test['rating'],preds))\r\n",
        "  return preds\r\n",
        "\r\n",
        "df = pd.read_csv('/data/b.csv')\r\n",
        "file_name = 'b'\r\n",
        "\r\n",
        "t = np.array_split(df, 10)\r\n",
        "\r\n",
        "for i  in range(0,10):\r\n",
        "    p=t[i]\r\n",
        "    p['predictions']=Ann_predictions_all(train_df, p, 50)\r\n",
        "    p.to_csv('/data/'+file_name+'_'+str(i)+'.csv')\r\n",
        "    "
      ],
      "execution_count": null,
      "outputs": []
    },
    {
      "cell_type": "code",
      "metadata": {
        "id": "TnU_NnMqcsHJ"
      },
      "source": [
        "t = pd.DataFrame(columns=['userId','movieId','predictions'])\r\n",
        "for i in range(0,10):\r\n",
        "  df = pd.read_csv('/data/'+'b_'+str(i)+'.csv') \r\n",
        "  t = pd.concat([t,df])\r\n",
        "\r\n",
        "for i in range(0,10):\r\n",
        "  df = pd.read_csv('/data/'+'a_'+str(i)+'.csv') \r\n",
        "  t = pd.concat([t,df])\r\n",
        "\r\n",
        "\r\n",
        "for i in range(0,10):\r\n",
        "  df = pd.read_csv('/data/'+'c_'+str(i)+'.csv') \r\n",
        "  t = pd.concat([t,df])\r\n",
        "\r\n",
        "for i in range(0,10):\r\n",
        "  df = pd.read_csv('/data/'+'d_'+str(i)+'.csv') \r\n",
        "  t = pd.concat([t,df])"
      ],
      "execution_count": null,
      "outputs": []
    },
    {
      "cell_type": "code",
      "metadata": {
        "id": "y9LKQnPRoy9P"
      },
      "source": [
        "t.drop(columns= ['Unnamed: 0'],inplace=True)"
      ],
      "execution_count": null,
      "outputs": []
    },
    {
      "cell_type": "code",
      "metadata": {
        "id": "Tg-DFvMFKQYW"
      },
      "source": [
        "t.to_csv('/data/complete_predictions_ANN.csv',index=False)"
      ],
      "execution_count": null,
      "outputs": []
    },
    {
      "cell_type": "code",
      "metadata": {
        "colab": {
          "base_uri": "https://localhost:8080/",
          "height": 415
        },
        "id": "5PxmiHK8oziY",
        "outputId": "46207552-51e0-4952-9a89-9ba08751e60e"
      },
      "source": [
        "rating_preds = pd.merge(test_df,t,on=['userId','movieId'],how='inner')\r\n",
        "rating_preds"
      ],
      "execution_count": null,
      "outputs": [
        {
          "output_type": "execute_result",
          "data": {
            "text/html": [
              "<div>\n",
              "<style scoped>\n",
              "    .dataframe tbody tr th:only-of-type {\n",
              "        vertical-align: middle;\n",
              "    }\n",
              "\n",
              "    .dataframe tbody tr th {\n",
              "        vertical-align: top;\n",
              "    }\n",
              "\n",
              "    .dataframe thead th {\n",
              "        text-align: right;\n",
              "    }\n",
              "</style>\n",
              "<table border=\"1\" class=\"dataframe\">\n",
              "  <thead>\n",
              "    <tr style=\"text-align: right;\">\n",
              "      <th></th>\n",
              "      <th>userId</th>\n",
              "      <th>movieId</th>\n",
              "      <th>rating</th>\n",
              "      <th>predictions</th>\n",
              "    </tr>\n",
              "  </thead>\n",
              "  <tbody>\n",
              "    <tr>\n",
              "      <th>0</th>\n",
              "      <td>2</td>\n",
              "      <td>2243</td>\n",
              "      <td>4.5</td>\n",
              "      <td>3.651865</td>\n",
              "    </tr>\n",
              "    <tr>\n",
              "      <th>1</th>\n",
              "      <td>2</td>\n",
              "      <td>1186</td>\n",
              "      <td>3.5</td>\n",
              "      <td>4.072440</td>\n",
              "    </tr>\n",
              "    <tr>\n",
              "      <th>2</th>\n",
              "      <td>2</td>\n",
              "      <td>2707</td>\n",
              "      <td>3.5</td>\n",
              "      <td>3.139096</td>\n",
              "    </tr>\n",
              "    <tr>\n",
              "      <th>3</th>\n",
              "      <td>12</td>\n",
              "      <td>2302</td>\n",
              "      <td>2.5</td>\n",
              "      <td>2.883758</td>\n",
              "    </tr>\n",
              "    <tr>\n",
              "      <th>4</th>\n",
              "      <td>12</td>\n",
              "      <td>2012</td>\n",
              "      <td>1.5</td>\n",
              "      <td>3.165337</td>\n",
              "    </tr>\n",
              "    <tr>\n",
              "      <th>...</th>\n",
              "      <td>...</td>\n",
              "      <td>...</td>\n",
              "      <td>...</td>\n",
              "      <td>...</td>\n",
              "    </tr>\n",
              "    <tr>\n",
              "      <th>269241</th>\n",
              "      <td>283184</td>\n",
              "      <td>5621</td>\n",
              "      <td>1.0</td>\n",
              "      <td>1.496341</td>\n",
              "    </tr>\n",
              "    <tr>\n",
              "      <th>269242</th>\n",
              "      <td>283184</td>\n",
              "      <td>5971</td>\n",
              "      <td>4.5</td>\n",
              "      <td>4.416029</td>\n",
              "    </tr>\n",
              "    <tr>\n",
              "      <th>269243</th>\n",
              "      <td>283184</td>\n",
              "      <td>2863</td>\n",
              "      <td>4.0</td>\n",
              "      <td>4.362661</td>\n",
              "    </tr>\n",
              "    <tr>\n",
              "      <th>269244</th>\n",
              "      <td>283187</td>\n",
              "      <td>1298</td>\n",
              "      <td>4.0</td>\n",
              "      <td>3.204252</td>\n",
              "    </tr>\n",
              "    <tr>\n",
              "      <th>269245</th>\n",
              "      <td>283187</td>\n",
              "      <td>3396</td>\n",
              "      <td>5.0</td>\n",
              "      <td>3.658755</td>\n",
              "    </tr>\n",
              "  </tbody>\n",
              "</table>\n",
              "<p>269246 rows × 4 columns</p>\n",
              "</div>"
            ],
            "text/plain": [
              "        userId movieId  rating  predictions\n",
              "0            2    2243     4.5     3.651865\n",
              "1            2    1186     3.5     4.072440\n",
              "2            2    2707     3.5     3.139096\n",
              "3           12    2302     2.5     2.883758\n",
              "4           12    2012     1.5     3.165337\n",
              "...        ...     ...     ...          ...\n",
              "269241  283184    5621     1.0     1.496341\n",
              "269242  283184    5971     4.5     4.416029\n",
              "269243  283184    2863     4.0     4.362661\n",
              "269244  283187    1298     4.0     3.204252\n",
              "269245  283187    3396     5.0     3.658755\n",
              "\n",
              "[269246 rows x 4 columns]"
            ]
          },
          "metadata": {
            "tags": []
          },
          "execution_count": 27
        }
      ]
    },
    {
      "cell_type": "code",
      "metadata": {
        "colab": {
          "base_uri": "https://localhost:8080/"
        },
        "id": "6JZW_FVZ-8e6",
        "outputId": "4b77917a-f155-4343-aead-044d8cfaf72b"
      },
      "source": [
        "Rmse_Ann = np.sqrt(mean_squared_error(rating_preds['rating'],rating_preds['predictions']))\r\n",
        "print(\"The RMSE obtained is\",Rmse_Ann)"
      ],
      "execution_count": null,
      "outputs": [
        {
          "output_type": "stream",
          "text": [
            "The RMSE obtained is 0.9200872451353155\n"
          ],
          "name": "stdout"
        }
      ]
    }
  ]
}