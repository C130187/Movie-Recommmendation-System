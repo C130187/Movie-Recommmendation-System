{
  "nbformat": 4,
  "nbformat_minor": 0,
  "metadata": {
    "colab": {
      "name": "ANN User Item.ipynb",
      "provenance": [],
      "collapsed_sections": []
    },
    "kernelspec": {
      "name": "python3",
      "display_name": "Python 3"
    }
  },
  "cells": [
    {
      "cell_type": "markdown",
      "metadata": {
        "id": "BdK0MebeROxc"
      },
      "source": [
        "ANN"
      ]
    },
    {
      "cell_type": "code",
      "metadata": {
        "id": "DCJvmJMEkNZL"
      },
      "source": [
        "!pip install surprise"
      ],
      "execution_count": null,
      "outputs": []
    },
    {
      "cell_type": "code",
      "metadata": {
        "id": "mbKbHYVNSDiC"
      },
      "source": [
        "!pip install annoy"
      ],
      "execution_count": null,
      "outputs": []
    },
    {
      "cell_type": "code",
      "metadata": {
        "id": "wcoF4uS2RSDQ"
      },
      "source": [
        "from surprise import Dataset, SVD, Reader,NMF\n",
        "from surprise.model_selection import cross_validate,train_test_split\n",
        "from surprise.model_selection import GridSearchCV,RandomizedSearchCV\n",
        "from surprise import accuracy\n",
        "from hyperopt import tpe, fmin, hp, Trials, STATUS_OK,space_eval\n",
        "import sys\n",
        "import seaborn as sns\n",
        "from timeit import Timer\n",
        "from datetime import datetime\n",
        "from surprise import Dataset, SVD, Reader,NMF\n",
        "from surprise.model_selection import cross_validate,train_test_split\n",
        "from surprise.model_selection import GridSearchCV,RandomizedSearchCV\n",
        "from surprise import accuracy\n",
        "import functools\n",
        "from hyperopt import tpe, fmin, hp, Trials, STATUS_OK,space_eval\n",
        "from collections import defaultdict\n",
        "import random\n",
        "from sklearn.metrics import mean_squared_error\n",
        "from numpy.linalg import inv\n",
        "import pandas as pd\n",
        "import numpy as np\n",
        "import math\n",
        "from numpy.linalg import inv\n",
        "from numpy.linalg import multi_dot\n",
        "import matplotlib.pyplot as plt\n",
        "import itertools\n",
        "import warnings\n",
        "warnings.filterwarnings(\"ignore\")"
      ],
      "execution_count": null,
      "outputs": []
    },
    {
      "cell_type": "code",
      "metadata": {
        "id": "G6pHnhtHRWhG"
      },
      "source": [
        "data = pd.read_csv('/data/sample_data.csv')"
      ],
      "execution_count": null,
      "outputs": []
    },
    {
      "cell_type": "code",
      "metadata": {
        "id": "95qj-DqdViDB",
        "colab": {
          "base_uri": "https://localhost:8080/",
          "height": 415
        },
        "outputId": "c293c365-b477-4793-9f2b-ddb83e907243"
      },
      "source": [
        "data.drop(columns=['Unnamed: 0','timestamp','date','year'],inplace=True)\n",
        "data"
      ],
      "execution_count": null,
      "outputs": [
        {
          "output_type": "execute_result",
          "data": {
            "text/html": [
              "<div>\n",
              "<style scoped>\n",
              "    .dataframe tbody tr th:only-of-type {\n",
              "        vertical-align: middle;\n",
              "    }\n",
              "\n",
              "    .dataframe tbody tr th {\n",
              "        vertical-align: top;\n",
              "    }\n",
              "\n",
              "    .dataframe thead th {\n",
              "        text-align: right;\n",
              "    }\n",
              "</style>\n",
              "<table border=\"1\" class=\"dataframe\">\n",
              "  <thead>\n",
              "    <tr style=\"text-align: right;\">\n",
              "      <th></th>\n",
              "      <th>userId</th>\n",
              "      <th>movieId</th>\n",
              "      <th>rating</th>\n",
              "    </tr>\n",
              "  </thead>\n",
              "  <tbody>\n",
              "    <tr>\n",
              "      <th>0</th>\n",
              "      <td>2</td>\n",
              "      <td>849</td>\n",
              "      <td>3.5</td>\n",
              "    </tr>\n",
              "    <tr>\n",
              "      <th>1</th>\n",
              "      <td>339</td>\n",
              "      <td>849</td>\n",
              "      <td>5.0</td>\n",
              "    </tr>\n",
              "    <tr>\n",
              "      <th>2</th>\n",
              "      <td>1707</td>\n",
              "      <td>849</td>\n",
              "      <td>2.5</td>\n",
              "    </tr>\n",
              "    <tr>\n",
              "      <th>3</th>\n",
              "      <td>2040</td>\n",
              "      <td>849</td>\n",
              "      <td>1.0</td>\n",
              "    </tr>\n",
              "    <tr>\n",
              "      <th>4</th>\n",
              "      <td>2759</td>\n",
              "      <td>849</td>\n",
              "      <td>4.0</td>\n",
              "    </tr>\n",
              "    <tr>\n",
              "      <th>...</th>\n",
              "      <td>...</td>\n",
              "      <td>...</td>\n",
              "      <td>...</td>\n",
              "    </tr>\n",
              "    <tr>\n",
              "      <th>897059</th>\n",
              "      <td>279416</td>\n",
              "      <td>4090</td>\n",
              "      <td>4.0</td>\n",
              "    </tr>\n",
              "    <tr>\n",
              "      <th>897060</th>\n",
              "      <td>279765</td>\n",
              "      <td>4090</td>\n",
              "      <td>3.0</td>\n",
              "    </tr>\n",
              "    <tr>\n",
              "      <th>897061</th>\n",
              "      <td>279869</td>\n",
              "      <td>4090</td>\n",
              "      <td>3.0</td>\n",
              "    </tr>\n",
              "    <tr>\n",
              "      <th>897062</th>\n",
              "      <td>280137</td>\n",
              "      <td>4090</td>\n",
              "      <td>3.0</td>\n",
              "    </tr>\n",
              "    <tr>\n",
              "      <th>897063</th>\n",
              "      <td>282586</td>\n",
              "      <td>4090</td>\n",
              "      <td>5.0</td>\n",
              "    </tr>\n",
              "  </tbody>\n",
              "</table>\n",
              "<p>897064 rows × 3 columns</p>\n",
              "</div>"
            ],
            "text/plain": [
              "        userId  movieId  rating\n",
              "0            2      849     3.5\n",
              "1          339      849     5.0\n",
              "2         1707      849     2.5\n",
              "3         2040      849     1.0\n",
              "4         2759      849     4.0\n",
              "...        ...      ...     ...\n",
              "897059  279416     4090     4.0\n",
              "897060  279765     4090     3.0\n",
              "897061  279869     4090     3.0\n",
              "897062  280137     4090     3.0\n",
              "897063  282586     4090     5.0\n",
              "\n",
              "[897064 rows x 3 columns]"
            ]
          },
          "metadata": {
            "tags": []
          },
          "execution_count": 5
        }
      ]
    },
    {
      "cell_type": "markdown",
      "metadata": {
        "id": "zMVEbhI11cBS"
      },
      "source": [
        "### Splitting Main dataset to a train and a test dataset"
      ]
    },
    {
      "cell_type": "code",
      "metadata": {
        "id": "NCHFQrfCU4wg"
      },
      "source": [
        "user_freq=data.groupby(['userId']).size().reset_index(name='counts')\n",
        "users_lt3=user_freq[user_freq['counts']<3][['userId']]\n",
        "users_ge3=user_freq[user_freq['counts']>=3][['userId']]\n",
        "train1 = pd.merge(data, users_lt3, on=['userId'],how='inner')\n",
        "data1 = pd.merge(data, users_ge3, on=['userId'],how='inner')\n",
        "\n",
        "random.seed(2)\n",
        "test=data1.groupby('userId').sample(frac=.3, random_state=2)\n",
        "test_idx = data1.index.isin(test.index.to_list())\n",
        "train = train1.append(data1[~test_idx])\n",
        "\n",
        "train_df = train\n",
        "test_df = test"
      ],
      "execution_count": null,
      "outputs": []
    },
    {
      "cell_type": "markdown",
      "metadata": {
        "id": "ETpZp05do-r2"
      },
      "source": [
        "##  Before Applying ANN, it is a prerequisite that we have our latent matrix i.e. U and V matrices ready.\n",
        "Therefore, I am reusing code from the SVD Collaborative Filtering model to get the latent matrix."
      ]
    },
    {
      "cell_type": "code",
      "metadata": {
        "id": "uRotfcuHVozJ"
      },
      "source": [
        "reader = Reader(rating_scale=(1,5))\n",
        "train = Dataset.load_from_df(train[['userId', 'movieId', 'rating']], reader=reader)\n",
        "test = Dataset.load_from_df(test[['userId', 'movieId', 'rating']], reader=reader)\n",
        "raw_ratings = test.raw_ratings\n",
        "threshold = int(1 * len(raw_ratings))\n",
        "A_raw_ratings = raw_ratings[:threshold]\n",
        "test = test.construct_testset(A_raw_ratings)"
      ],
      "execution_count": null,
      "outputs": []
    },
    {
      "cell_type": "code",
      "metadata": {
        "id": "AEEu8REZVqBr"
      },
      "source": [
        "raw_ratings1 = train.raw_ratings\n",
        "threshold = int(1 * len(raw_ratings1))\n",
        "B_raw_ratings = raw_ratings1[:threshold]\n",
        "train_test = train.construct_testset(B_raw_ratings)"
      ],
      "execution_count": null,
      "outputs": []
    },
    {
      "cell_type": "markdown",
      "metadata": {
        "id": "_353SApqXhd8"
      },
      "source": [
        "The hyperparameters are taken from the hyperparameter optimization performed in homework 2"
      ]
    },
    {
      "cell_type": "code",
      "metadata": {
        "id": "mud4Ib_JkqS3",
        "colab": {
          "base_uri": "https://localhost:8080/"
        },
        "outputId": "bb0b446a-31fa-4401-b668-f722e449c02b"
      },
      "source": [
        "model = SVD(n_epochs=50,n_factors=15,reg_all=0.1,lr_all=0.02)\n",
        "trainset = train.build_full_trainset()\n",
        "model.fit(trainset)"
      ],
      "execution_count": null,
      "outputs": [
        {
          "output_type": "execute_result",
          "data": {
            "text/plain": [
              "<surprise.prediction_algorithms.matrix_factorization.SVD at 0x7f8590bf9080>"
            ]
          },
          "metadata": {
            "tags": []
          },
          "execution_count": 9
        }
      ]
    },
    {
      "cell_type": "code",
      "metadata": {
        "id": "ReMhPFsZELHY",
        "colab": {
          "base_uri": "https://localhost:8080/"
        },
        "outputId": "b3dc4ac3-8c63-4958-e828-f3eb82a0eced"
      },
      "source": [
        "# Retrieiving inner ids, as used by surprise package during model training\n",
        "user_inner_ids = [x for x in trainset.all_users()]\n",
        "item_inner_ids = [i for i in trainset.all_items()]\n",
        "\n",
        "# All ids mapped back to values in the actual train set \n",
        "user_raw_ids = [trainset.to_raw_uid(x) for x in user_inner_ids]\n",
        "item_raw_ids = [trainset.to_raw_iid(x) for x in item_inner_ids]\n",
        "\n",
        "print(user_raw_ids[:5])\n",
        "print(item_raw_ids[:5])"
      ],
      "execution_count": null,
      "outputs": [
        {
          "output_type": "stream",
          "text": [
            "[16421, 260732, 102234, 115586, 137983]\n",
            "[849, 2746, 256, 1186, 45447]\n"
          ],
          "name": "stdout"
        }
      ]
    },
    {
      "cell_type": "code",
      "metadata": {
        "id": "q85th3jvlt_n",
        "colab": {
          "base_uri": "https://localhost:8080/"
        },
        "outputId": "b3e200d6-7fd4-4add-d2b0-4a7f8b409346"
      },
      "source": [
        "U = model.pu \n",
        "V = model.qi\n",
        "print(U[0])\n",
        "print(V[0])"
      ],
      "execution_count": null,
      "outputs": [
        {
          "output_type": "stream",
          "text": [
            "[-0.05302268 -0.02227303  0.05578189 -0.01359157 -0.14927086  0.35572043\n",
            "  0.21943662  0.24762818 -0.14297904  0.01439977 -0.00919634  0.07778417\n",
            "  0.13208344  0.03271715  0.05610183]\n",
            "[-0.36837336 -0.27820455 -0.04462046  0.09576319 -0.27990917  0.33515672\n",
            "  0.45887813  0.49758119 -0.5457651  -0.18949795 -0.18231612  0.0459107\n",
            "  0.31084306 -0.2042985   0.03751827]\n"
          ],
          "name": "stdout"
        }
      ]
    },
    {
      "cell_type": "code",
      "metadata": {
        "id": "dlLaKcuDlg30",
        "colab": {
          "base_uri": "https://localhost:8080/"
        },
        "outputId": "cb06b90f-78f8-4f87-d1fa-4c60cb70514d"
      },
      "source": [
        "print(model.pu.shape) # (n_user, n_factors)\n",
        "print(model.qi.shape) # (n_items, n_factors)"
      ],
      "execution_count": null,
      "outputs": [
        {
          "output_type": "stream",
          "text": [
            "(20974, 15)\n",
            "(1103, 15)\n"
          ],
          "name": "stdout"
        }
      ]
    },
    {
      "cell_type": "markdown",
      "metadata": {
        "id": "t8U0hqU8x0x-"
      },
      "source": [
        "# Exploratory Data Analysis"
      ]
    },
    {
      "cell_type": "code",
      "metadata": {
        "id": "_usOl4W7x20l"
      },
      "source": [
        "# Movie frequency per user for all users in our training dataset\n",
        "user_freq = train_df.groupby('userId', as_index=False).agg(num_movies=('movieId','count'))"
      ],
      "execution_count": null,
      "outputs": []
    },
    {
      "cell_type": "code",
      "metadata": {
        "colab": {
          "base_uri": "https://localhost:8080/",
          "height": 334
        },
        "id": "ZZz8S43W3Hfq",
        "outputId": "a1ed76e9-4684-489c-b133-fa0ff20bd853"
      },
      "source": [
        "plt.figure(figsize=(15,5))\n",
        "plt.hist(user_freq['num_movies'], bins=100, edgecolor='b', log=True)\n",
        "plt.xlim(0,)\n",
        "plt.xticks(np.arange(0,1000,50))\n",
        "plt.xlabel('Number of ratings')\n",
        "plt.ylabel('Number of users')\n",
        "plt.show()\n"
      ],
      "execution_count": null,
      "outputs": [
        {
          "output_type": "display_data",
          "data": {
            "image/png": "[encoded data removed]",
            "text/plain": [
              "<Figure size 1080x360 with 1 Axes>"
            ]
          },
          "metadata": {
            "tags": [],
            "needs_background": "light"
          }
        }
      ]
    },
    {
      "cell_type": "markdown",
      "metadata": {
        "id": "nGhwOGOTAUDg"
      },
      "source": [
        "We have a lot of users who have rated more than 50 ratings.\n",
        "We will be looking at using nearest neighbours to reduce the size of the the user-movie pairs in the train dataset."
      ]
    },
    {
      "cell_type": "code",
      "metadata": {
        "colab": {
          "base_uri": "https://localhost:8080/",
          "height": 334
        },
        "id": "-EcePdmn3Mpe",
        "outputId": "2a377ed8-8190-44e8-bb6d-62625d71467b"
      },
      "source": [
        "plt.figure(figsize=(15,5))\n",
        "plt.hist(user_freq['num_movies'], bins=100, edgecolor='b', log=True)\n",
        "plt.xlim(0,200)\n",
        "plt.xticks(np.arange(0,200,50))\n",
        "plt.xlabel('Number of ratings')\n",
        "plt.ylabel('Number of users')\n",
        "plt.show()"
      ],
      "execution_count": null,
      "outputs": [
        {
          "output_type": "display_data",
          "data": {
            "image/png": "[encoded data removed]",
            "text/plain": [
              "<Figure size 1080x360 with 1 Axes>"
            ]
          },
          "metadata": {
            "tags": [],
            "needs_background": "light"
          }
        }
      ]
    },
    {
      "cell_type": "markdown",
      "metadata": {
        "id": "qz7GedxTBTOP"
      },
      "source": [
        "The latent matrix is a numpy array of shape (n_items, n_factors. The first raw corresponds to the first raw item id (see this: http://surprise.readthedocs.io/en/latest/FAQ.html#what-are-raw-and-inner-ids), the second correspond to the second raw item id, etc..."
      ]
    },
    {
      "cell_type": "markdown",
      "metadata": {
        "id": "qv_VReVyfiqO"
      },
      "source": [
        "# Annoy package \n",
        "\n",
        "Annoy is a C++ library with Python bindings that builds random projection trees. An index is built with a forest of k trees, where k is a tunable parameter that trades off between precision and performance. It also creates large read-only, file-based data structures that are mapped into memory so that many processes can share the data."
      ]
    },
    {
      "cell_type": "code",
      "metadata": {
        "id": "udvhe0zyT3ih"
      },
      "source": [
        "from annoy import AnnoyIndex"
      ],
      "execution_count": null,
      "outputs": []
    },
    {
      "cell_type": "code",
      "metadata": {
        "colab": {
          "base_uri": "https://localhost:8080/"
        },
        "id": "7e1lee8fhf4f",
        "outputId": "d95ec844-4b31-48bf-c044-3bf4dc2064d6"
      },
      "source": [
        "# To be used for serialized pipeline; user item search\n",
        "\n",
        "f = 15 # n_factors\n",
        "t = AnnoyIndex(f, 'angular')  # Length of item vector that will be indexed\n",
        "for i,v in zip(user_inner_ids,V):\n",
        "    t.add_item(i, v)\n",
        "\n",
        "t.build(50)\n",
        "t.save('test_user_item.ann')"
      ],
      "execution_count": null,
      "outputs": [
        {
          "output_type": "execute_result",
          "data": {
            "text/plain": [
              "True"
            ]
          },
          "metadata": {
            "tags": []
          },
          "execution_count": 24
        }
      ]
    },
    {
      "cell_type": "code",
      "metadata": {
        "id": "k2YTCWArGXXG",
        "colab": {
          "base_uri": "https://localhost:8080/"
        },
        "outputId": "347ed70c-756b-434f-9b3e-391cfd724f1c"
      },
      "source": [
        "u = AnnoyIndex(f, 'angular')\n",
        "u.load('test_user_item.ann') \n",
        "# super fast, will just map the file"
      ],
      "execution_count": null,
      "outputs": [
        {
          "output_type": "execute_result",
          "data": {
            "text/plain": [
              "True"
            ]
          },
          "metadata": {
            "tags": []
          },
          "execution_count": 25
        }
      ]
    },
    {
      "cell_type": "markdown",
      "metadata": {
        "id": "DWgy-Gncgtj1"
      },
      "source": [
        "### Creating filtered training model with reduced rows per user "
      ]
    },
    {
      "cell_type": "code",
      "metadata": {
        "id": "5Cq1H9Uk8j0s"
      },
      "source": [
        "user_ids_nn = list(user_freq[user_freq['num_movies']>50]['userId'].values)"
      ],
      "execution_count": null,
      "outputs": []
    },
    {
      "cell_type": "code",
      "metadata": {
        "id": "o80U0vDe9O88"
      },
      "source": [
        "def find_nn_greater_than_k(user_id, k=100):\n",
        "  return t.get_nns_by_vector(U[trainset.to_inner_uid(user_id)], k) "
      ],
      "execution_count": null,
      "outputs": []
    },
    {
      "cell_type": "code",
      "metadata": {
        "id": "yFkCtod2-XOK"
      },
      "source": [
        "user_nn_items = list(map(find_nn_greater_than_k,user_ids_nn))\n",
        "user_nn_items_dict={}\n",
        "for userid,items in zip(user_ids_nn,user_nn_items):\n",
        "  user_nn_items_dict[userid] = [trainset.to_raw_iid(i) for i in items]"
      ],
      "execution_count": null,
      "outputs": []
    },
    {
      "cell_type": "code",
      "metadata": {
        "colab": {
          "base_uri": "https://localhost:8080/",
          "height": 415
        },
        "id": "fLewm3bt_Jbk",
        "outputId": "c1e7bf33-8a0b-4c4f-812f-695e6be8b44b"
      },
      "source": [
        "user_nn_items_df = pd.concat({k: pd.Series(v) for k, v in user_nn_items_dict.items()})\n",
        "user_nn_items_df = user_nn_items_df.reset_index()\n",
        "user_nn_items_df = user_nn_items_df.drop(columns=['level_1'])\n",
        "user_nn_items_df.rename(columns={'level_0': 'userId', 0: 'movieId'}, inplace=True)\n",
        "user_nn_items_df"
      ],
      "execution_count": null,
      "outputs": [
        {
          "output_type": "execute_result",
          "data": {
            "text/html": [
              "<div>\n",
              "<style scoped>\n",
              "    .dataframe tbody tr th:only-of-type {\n",
              "        vertical-align: middle;\n",
              "    }\n",
              "\n",
              "    .dataframe tbody tr th {\n",
              "        vertical-align: top;\n",
              "    }\n",
              "\n",
              "    .dataframe thead th {\n",
              "        text-align: right;\n",
              "    }\n",
              "</style>\n",
              "<table border=\"1\" class=\"dataframe\">\n",
              "  <thead>\n",
              "    <tr style=\"text-align: right;\">\n",
              "      <th></th>\n",
              "      <th>userId</th>\n",
              "      <th>movieId</th>\n",
              "    </tr>\n",
              "  </thead>\n",
              "  <tbody>\n",
              "    <tr>\n",
              "      <th>0</th>\n",
              "      <td>73</td>\n",
              "      <td>1617</td>\n",
              "    </tr>\n",
              "    <tr>\n",
              "      <th>1</th>\n",
              "      <td>73</td>\n",
              "      <td>6016</td>\n",
              "    </tr>\n",
              "    <tr>\n",
              "      <th>2</th>\n",
              "      <td>73</td>\n",
              "      <td>1228</td>\n",
              "    </tr>\n",
              "    <tr>\n",
              "      <th>3</th>\n",
              "      <td>73</td>\n",
              "      <td>1178</td>\n",
              "    </tr>\n",
              "    <tr>\n",
              "      <th>4</th>\n",
              "      <td>73</td>\n",
              "      <td>1218</td>\n",
              "    </tr>\n",
              "    <tr>\n",
              "      <th>...</th>\n",
              "      <td>...</td>\n",
              "      <td>...</td>\n",
              "    </tr>\n",
              "    <tr>\n",
              "      <th>176645</th>\n",
              "      <td>283184</td>\n",
              "      <td>2467</td>\n",
              "    </tr>\n",
              "    <tr>\n",
              "      <th>176646</th>\n",
              "      <td>283184</td>\n",
              "      <td>1212</td>\n",
              "    </tr>\n",
              "    <tr>\n",
              "      <th>176647</th>\n",
              "      <td>283184</td>\n",
              "      <td>6286</td>\n",
              "    </tr>\n",
              "    <tr>\n",
              "      <th>176648</th>\n",
              "      <td>283184</td>\n",
              "      <td>8014</td>\n",
              "    </tr>\n",
              "    <tr>\n",
              "      <th>176649</th>\n",
              "      <td>283184</td>\n",
              "      <td>1927</td>\n",
              "    </tr>\n",
              "  </tbody>\n",
              "</table>\n",
              "<p>176650 rows × 2 columns</p>\n",
              "</div>"
            ],
            "text/plain": [
              "        userId  movieId\n",
              "0           73     1617\n",
              "1           73     6016\n",
              "2           73     1228\n",
              "3           73     1178\n",
              "4           73     1218\n",
              "...        ...      ...\n",
              "176645  283184     2467\n",
              "176646  283184     1212\n",
              "176647  283184     6286\n",
              "176648  283184     8014\n",
              "176649  283184     1927\n",
              "\n",
              "[176650 rows x 2 columns]"
            ]
          },
          "metadata": {
            "tags": []
          },
          "execution_count": 60
        }
      ]
    },
    {
      "cell_type": "code",
      "metadata": {
        "colab": {
          "base_uri": "https://localhost:8080/"
        },
        "id": "jX4LeYArEsj7",
        "outputId": "1a249efb-4c44-4ab6-faed-7940ca82653b"
      },
      "source": [
        "merged_df= pd.merge(train_df,user_nn_items_df,how='inner',on=['userId','movieId'])\n",
        "len(merged_df['userId'].unique())"
      ],
      "execution_count": null,
      "outputs": [
        {
          "output_type": "execute_result",
          "data": {
            "text/plain": [
              "3511"
            ]
          },
          "metadata": {
            "tags": []
          },
          "execution_count": 62
        }
      ]
    },
    {
      "cell_type": "code",
      "metadata": {
        "colab": {
          "base_uri": "https://localhost:8080/"
        },
        "id": "QXekdYlqGWVZ",
        "outputId": "e8e585e6-7e2c-4e1a-dbcc-ec1b8a4766ef"
      },
      "source": [
        "#concatenate data for users who rated less than 50 movies merged_df\n",
        "user_ids_without_nn = set(list(train_df['userId'].unique())) - set(user_ids_nn)\n",
        "user_ids_without_nn_df = pd.DataFrame(user_ids_without_nn,columns =['userId']) \n",
        "len(user_ids_without_nn_df['userId'].unique())"
      ],
      "execution_count": null,
      "outputs": [
        {
          "output_type": "execute_result",
          "data": {
            "text/plain": [
              "17441"
            ]
          },
          "metadata": {
            "tags": []
          },
          "execution_count": 63
        }
      ]
    },
    {
      "cell_type": "code",
      "metadata": {
        "colab": {
          "base_uri": "https://localhost:8080/"
        },
        "id": "MpJ-4I4mHVpM",
        "outputId": "a98f6c15-e88a-43a5-c51a-479a3af1baf1"
      },
      "source": [
        "user_ids_without_nn_df = pd.merge(train_df,user_ids_without_nn_df,how='inner',on='userId')\n",
        "len(user_ids_without_nn_df['userId'].unique())"
      ],
      "execution_count": null,
      "outputs": [
        {
          "output_type": "execute_result",
          "data": {
            "text/plain": [
              "17441"
            ]
          },
          "metadata": {
            "tags": []
          },
          "execution_count": 64
        }
      ]
    },
    {
      "cell_type": "code",
      "metadata": {
        "colab": {
          "base_uri": "https://localhost:8080/",
          "height": 415
        },
        "id": "QMzAIE0KIge6",
        "outputId": "a62bcfff-f8ce-4707-dbb6-b5f67cbd0634"
      },
      "source": [
        "# ANN reduced matrix\n",
        "train_concat_df = pd.concat([user_ids_without_nn_df, merged_df])\n",
        "#train_concat_df = merged_df\n",
        "train_concat_df"
      ],
      "execution_count": null,
      "outputs": [
        {
          "output_type": "execute_result",
          "data": {
            "text/html": [
              "<div>\n",
              "<style scoped>\n",
              "    .dataframe tbody tr th:only-of-type {\n",
              "        vertical-align: middle;\n",
              "    }\n",
              "\n",
              "    .dataframe tbody tr th {\n",
              "        vertical-align: top;\n",
              "    }\n",
              "\n",
              "    .dataframe thead th {\n",
              "        text-align: right;\n",
              "    }\n",
              "</style>\n",
              "<table border=\"1\" class=\"dataframe\">\n",
              "  <thead>\n",
              "    <tr style=\"text-align: right;\">\n",
              "      <th></th>\n",
              "      <th>userId</th>\n",
              "      <th>movieId</th>\n",
              "      <th>rating</th>\n",
              "    </tr>\n",
              "  </thead>\n",
              "  <tbody>\n",
              "    <tr>\n",
              "      <th>0</th>\n",
              "      <td>16421</td>\n",
              "      <td>849</td>\n",
              "      <td>4.5</td>\n",
              "    </tr>\n",
              "    <tr>\n",
              "      <th>1</th>\n",
              "      <td>16421</td>\n",
              "      <td>2746</td>\n",
              "      <td>4.0</td>\n",
              "    </tr>\n",
              "    <tr>\n",
              "      <th>2</th>\n",
              "      <td>260732</td>\n",
              "      <td>849</td>\n",
              "      <td>3.0</td>\n",
              "    </tr>\n",
              "    <tr>\n",
              "      <th>3</th>\n",
              "      <td>260732</td>\n",
              "      <td>256</td>\n",
              "      <td>1.0</td>\n",
              "    </tr>\n",
              "    <tr>\n",
              "      <th>4</th>\n",
              "      <td>102234</td>\n",
              "      <td>1186</td>\n",
              "      <td>3.0</td>\n",
              "    </tr>\n",
              "    <tr>\n",
              "      <th>...</th>\n",
              "      <td>...</td>\n",
              "      <td>...</td>\n",
              "      <td>...</td>\n",
              "    </tr>\n",
              "    <tr>\n",
              "      <th>31839</th>\n",
              "      <td>139879</td>\n",
              "      <td>4025</td>\n",
              "      <td>3.5</td>\n",
              "    </tr>\n",
              "    <tr>\n",
              "      <th>31840</th>\n",
              "      <td>139879</td>\n",
              "      <td>96281</td>\n",
              "      <td>5.0</td>\n",
              "    </tr>\n",
              "    <tr>\n",
              "      <th>31841</th>\n",
              "      <td>139879</td>\n",
              "      <td>103141</td>\n",
              "      <td>4.0</td>\n",
              "    </tr>\n",
              "    <tr>\n",
              "      <th>31842</th>\n",
              "      <td>139879</td>\n",
              "      <td>132480</td>\n",
              "      <td>4.5</td>\n",
              "    </tr>\n",
              "    <tr>\n",
              "      <th>31843</th>\n",
              "      <td>139879</td>\n",
              "      <td>1022</td>\n",
              "      <td>5.0</td>\n",
              "    </tr>\n",
              "  </tbody>\n",
              "</table>\n",
              "<p>262640 rows × 3 columns</p>\n",
              "</div>"
            ],
            "text/plain": [
              "       userId  movieId  rating\n",
              "0       16421      849     4.5\n",
              "1       16421     2746     4.0\n",
              "2      260732      849     3.0\n",
              "3      260732      256     1.0\n",
              "4      102234     1186     3.0\n",
              "...       ...      ...     ...\n",
              "31839  139879     4025     3.5\n",
              "31840  139879    96281     5.0\n",
              "31841  139879   103141     4.0\n",
              "31842  139879   132480     4.5\n",
              "31843  139879     1022     5.0\n",
              "\n",
              "[262640 rows x 3 columns]"
            ]
          },
          "metadata": {
            "tags": []
          },
          "execution_count": 65
        }
      ]
    },
    {
      "cell_type": "markdown",
      "metadata": {
        "id": "Cdm8UzFOxIFE"
      },
      "source": [
        "### End of code to produce filtered matrix"
      ]
    },
    {
      "cell_type": "code",
      "metadata": {
        "id": "x-H7wDI79Qlm"
      },
      "source": [
        "def datasize(nn):\r\n",
        "\r\n",
        "  user_ids_nn = list(user_freq[user_freq['num_movies']>50]['userId'].values)\r\n",
        "\r\n",
        "\r\n",
        "  def find_nn_greater_than_k(user_id, k):\r\n",
        "    return t.get_nns_by_vector(U[trainset.to_inner_uid(user_id)], k) \r\n",
        "\r\n",
        "  user_nn_items = list(map(find_nn_greater_than_k,user_ids_nn,itertools.repeat(nn, len(user_ids_nn))))\r\n",
        "  user_nn_items_dict={}\r\n",
        "  for userid,items in zip(user_ids_nn,user_nn_items):\r\n",
        "    user_nn_items_dict[userid] = [trainset.to_raw_iid(i) for i in items]\r\n",
        "  \r\n",
        "  \r\n",
        "  user_nn_items_df = pd.concat({k: pd.Series(v) for k, v in user_nn_items_dict.items()})\r\n",
        "  user_nn_items_df = user_nn_items_df.reset_index()\r\n",
        "  user_nn_items_df = user_nn_items_df.drop(columns=['level_1'])\r\n",
        "\r\n",
        "  user_nn_items_df.rename(columns={'level_0': 'userId', 0: 'movieId'}, inplace=True)\r\n",
        "\r\n",
        "  merged_df= pd.merge(train_df,user_nn_items_df,how='inner',on=['userId','movieId'])\r\n",
        "\r\n",
        "  user_ids_without_nn = set(list(train_df['userId'].unique())) - set(user_ids_nn)\r\n",
        "  user_ids_without_nn_df = pd.DataFrame(user_ids_without_nn,columns =['userId']) \r\n",
        "  user_ids_without_nn_df = pd.merge(train_df,user_ids_without_nn_df,how='inner',on='userId')\r\n",
        "\r\n",
        "  train_concat_df = pd.concat([user_ids_without_nn_df, merged_df])\r\n",
        "  data_size = train_concat_df.shape[0] \r\n",
        "  return data_size"
      ],
      "execution_count": null,
      "outputs": []
    },
    {
      "cell_type": "code",
      "metadata": {
        "id": "8tg77uBM-m4G"
      },
      "source": [
        "data_set_reduction = {}\r\n",
        "data_set_reduction [60] = train_df.shape[0] - datasize(60)\r\n",
        "data_set_reduction [80] = train_df.shape[0] - datasize(80)\r\n",
        "data_set_reduction [100] = train_df.shape[0] -  datasize(100)\r\n",
        "data_set_reduction [140] = train_df.shape[0] -  datasize(140)\r\n",
        "data_set_reduction [180] = train_df.shape[0] -  datasize(180)"
      ],
      "execution_count": null,
      "outputs": []
    },
    {
      "cell_type": "code",
      "metadata": {
        "colab": {
          "base_uri": "https://localhost:8080/",
          "height": 202
        },
        "id": "chM3HJ8FOKMP",
        "outputId": "5a8fc9ef-e2eb-425a-fba0-9067c7226937"
      },
      "source": [
        "df = pd.DataFrame(list(data_set_reduction.items()),columns = ['num_of_neighbours','dataset_size_reduction'])\r\n",
        "df"
      ],
      "execution_count": null,
      "outputs": [
        {
          "output_type": "execute_result",
          "data": {
            "text/html": [
              "<div>\n",
              "<style scoped>\n",
              "    .dataframe tbody tr th:only-of-type {\n",
              "        vertical-align: middle;\n",
              "    }\n",
              "\n",
              "    .dataframe tbody tr th {\n",
              "        vertical-align: top;\n",
              "    }\n",
              "\n",
              "    .dataframe thead th {\n",
              "        text-align: right;\n",
              "    }\n",
              "</style>\n",
              "<table border=\"1\" class=\"dataframe\">\n",
              "  <thead>\n",
              "    <tr style=\"text-align: right;\">\n",
              "      <th></th>\n",
              "      <th>num_of_neighbours</th>\n",
              "      <th>dataset_size_reduction</th>\n",
              "    </tr>\n",
              "  </thead>\n",
              "  <tbody>\n",
              "    <tr>\n",
              "      <th>0</th>\n",
              "      <td>60</td>\n",
              "      <td>359402</td>\n",
              "    </tr>\n",
              "    <tr>\n",
              "      <th>1</th>\n",
              "      <td>80</td>\n",
              "      <td>349060</td>\n",
              "    </tr>\n",
              "    <tr>\n",
              "      <th>2</th>\n",
              "      <td>100</td>\n",
              "      <td>339284</td>\n",
              "    </tr>\n",
              "    <tr>\n",
              "      <th>3</th>\n",
              "      <td>140</td>\n",
              "      <td>320596</td>\n",
              "    </tr>\n",
              "    <tr>\n",
              "      <th>4</th>\n",
              "      <td>180</td>\n",
              "      <td>303054</td>\n",
              "    </tr>\n",
              "  </tbody>\n",
              "</table>\n",
              "</div>"
            ],
            "text/plain": [
              "   num_of_neighbours  dataset_size_reduction\n",
              "0                 60                  359402\n",
              "1                 80                  349060\n",
              "2                100                  339284\n",
              "3                140                  320596\n",
              "4                180                  303054"
            ]
          },
          "metadata": {
            "tags": []
          },
          "execution_count": 62
        }
      ]
    },
    {
      "cell_type": "code",
      "metadata": {
        "colab": {
          "base_uri": "https://localhost:8080/",
          "height": 295
        },
        "id": "otQKIokO_LFp",
        "outputId": "3b035ceb-32b3-4fee-b9cb-2128f2e1a1d2"
      },
      "source": [
        "plt.scatter(df['num_of_neighbours'],df['dataset_size_reduction'])\r\n",
        "plt.plot(df['num_of_neighbours'],df['dataset_size_reduction'])\r\n",
        "plt.xlabel(\"Number of nearest movies considered\")\r\n",
        "plt.ylabel(\"Size reduction from original dataset\")\r\n",
        "plt.title(\"Dataset size Reduction vs k\")\r\n",
        "plt.show()"
      ],
      "execution_count": null,
      "outputs": [
        {
          "output_type": "display_data",
          "data": {
            "image/png": "[encoded data removed]",
            "text/plain": [
              "<Figure size 432x288 with 1 Axes>"
            ]
          },
          "metadata": {
            "tags": [],
            "needs_background": "light"
          }
        }
      ]
    }
  ]
}