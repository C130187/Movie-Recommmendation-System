{
  "nbformat": 4,
  "nbformat_minor": 0,
  "metadata": {
    "colab": {
      "name": "Content Based Recommendation.ipynb",
      "provenance": [],
      "collapsed_sections": []
    },
    "kernelspec": {
      "name": "python3",
      "display_name": "Python 3"
    }
  },
  "cells": [
    {
      "cell_type": "code",
      "metadata": {
        "id": "BjWL2Dh_xDaO",
        "colab": {
          "base_uri": "https://localhost:8080/"
        },
        "outputId": "b4ac93e2-1041-460f-c274-29f4178496c4"
      },
      "source": [
        "import pandas as pd\n",
        "import math\n",
        "import numpy as np\n",
        "import random\n",
        "from gensim.models.doc2vec import Doc2Vec, TaggedDocument\n",
        "from nltk.tokenize import word_tokenize\n",
        "import time\n",
        "from scipy import stats\n",
        "from time import time\n",
        "import matplotlib.pyplot as plt\n",
        "import itertools\n",
        "import nltk\n",
        "nltk.download('punkt')\n",
        "nltk.download('wordnet')\n",
        "from nltk.stem import PorterStemmer\n",
        "import warnings\n",
        "from io import BytesIO\n",
        "from zipfile import ZipFile\n",
        "warnings.filterwarnings(\"ignore\")"
      ],
      "execution_count": null,
      "outputs": [
        {
          "output_type": "stream",
          "text": [
            "[nltk_data] Downloading package punkt to /root/nltk_data...\n",
            "[nltk_data]   Package punkt is already up-to-date!\n",
            "[nltk_data] Downloading package wordnet to /root/nltk_data...\n",
            "[nltk_data]   Package wordnet is already up-to-date!\n"
          ],
          "name": "stdout"
        }
      ]
    },
    {
      "cell_type": "code",
      "metadata": {
        "id": "isn-sEy5xqib"
      },
      "source": [
        "data = pd.read_csv('/data/sample_data.csv')"
      ],
      "execution_count": null,
      "outputs": []
    },
    {
      "cell_type": "code",
      "metadata": {
        "id": "LkMr_xwKxrED"
      },
      "source": [
        "data_url = 'http://files.grouplens.org/datasets/movielens/ml-latest.zip'\n",
        "res = requests.get(data_url)\n",
        "file = ZipFile(BytesIO(res.content)).open('ml-latest/movies.csv')\n",
        "movies = pd.read_csv(file)"
      ],
      "execution_count": null,
      "outputs": []
    },
    {
      "cell_type": "code",
      "metadata": {
        "colab": {
          "base_uri": "https://localhost:8080/",
          "height": 415
        },
        "id": "Zu5_cNjN0neV",
        "outputId": "7698db36-ab50-4181-b790-718a86e250b5"
      },
      "source": [
        "movies"
      ],
      "execution_count": null,
      "outputs": [
        {
          "output_type": "execute_result",
          "data": {
            "text/html": [
              "<div>\n",
              "<style scoped>\n",
              "    .dataframe tbody tr th:only-of-type {\n",
              "        vertical-align: middle;\n",
              "    }\n",
              "\n",
              "    .dataframe tbody tr th {\n",
              "        vertical-align: top;\n",
              "    }\n",
              "\n",
              "    .dataframe thead th {\n",
              "        text-align: right;\n",
              "    }\n",
              "</style>\n",
              "<table border=\"1\" class=\"dataframe\">\n",
              "  <thead>\n",
              "    <tr style=\"text-align: right;\">\n",
              "      <th></th>\n",
              "      <th>movieId</th>\n",
              "      <th>title</th>\n",
              "      <th>genres</th>\n",
              "    </tr>\n",
              "  </thead>\n",
              "  <tbody>\n",
              "    <tr>\n",
              "      <th>0</th>\n",
              "      <td>1</td>\n",
              "      <td>Toy Story (1995)</td>\n",
              "      <td>Adventure|Animation|Children|Comedy|Fantasy</td>\n",
              "    </tr>\n",
              "    <tr>\n",
              "      <th>1</th>\n",
              "      <td>2</td>\n",
              "      <td>Jumanji (1995)</td>\n",
              "      <td>Adventure|Children|Fantasy</td>\n",
              "    </tr>\n",
              "    <tr>\n",
              "      <th>2</th>\n",
              "      <td>3</td>\n",
              "      <td>Grumpier Old Men (1995)</td>\n",
              "      <td>Comedy|Romance</td>\n",
              "    </tr>\n",
              "    <tr>\n",
              "      <th>3</th>\n",
              "      <td>4</td>\n",
              "      <td>Waiting to Exhale (1995)</td>\n",
              "      <td>Comedy|Drama|Romance</td>\n",
              "    </tr>\n",
              "    <tr>\n",
              "      <th>4</th>\n",
              "      <td>5</td>\n",
              "      <td>Father of the Bride Part II (1995)</td>\n",
              "      <td>Comedy</td>\n",
              "    </tr>\n",
              "    <tr>\n",
              "      <th>...</th>\n",
              "      <td>...</td>\n",
              "      <td>...</td>\n",
              "      <td>...</td>\n",
              "    </tr>\n",
              "    <tr>\n",
              "      <th>58093</th>\n",
              "      <td>193876</td>\n",
              "      <td>The Great Glinka (1946)</td>\n",
              "      <td>(no genres listed)</td>\n",
              "    </tr>\n",
              "    <tr>\n",
              "      <th>58094</th>\n",
              "      <td>193878</td>\n",
              "      <td>Les tribulations d'une caissière (2011)</td>\n",
              "      <td>Comedy</td>\n",
              "    </tr>\n",
              "    <tr>\n",
              "      <th>58095</th>\n",
              "      <td>193880</td>\n",
              "      <td>Her Name Was Mumu (2016)</td>\n",
              "      <td>Drama</td>\n",
              "    </tr>\n",
              "    <tr>\n",
              "      <th>58096</th>\n",
              "      <td>193882</td>\n",
              "      <td>Flora (2017)</td>\n",
              "      <td>Adventure|Drama|Horror|Sci-Fi</td>\n",
              "    </tr>\n",
              "    <tr>\n",
              "      <th>58097</th>\n",
              "      <td>193886</td>\n",
              "      <td>Leal (2018)</td>\n",
              "      <td>Action|Crime|Drama</td>\n",
              "    </tr>\n",
              "  </tbody>\n",
              "</table>\n",
              "<p>58098 rows × 3 columns</p>\n",
              "</div>"
            ],
            "text/plain": [
              "       movieId  ...                                       genres\n",
              "0            1  ...  Adventure|Animation|Children|Comedy|Fantasy\n",
              "1            2  ...                   Adventure|Children|Fantasy\n",
              "2            3  ...                               Comedy|Romance\n",
              "3            4  ...                         Comedy|Drama|Romance\n",
              "4            5  ...                                       Comedy\n",
              "...        ...  ...                                          ...\n",
              "58093   193876  ...                           (no genres listed)\n",
              "58094   193878  ...                                       Comedy\n",
              "58095   193880  ...                                        Drama\n",
              "58096   193882  ...                Adventure|Drama|Horror|Sci-Fi\n",
              "58097   193886  ...                           Action|Crime|Drama\n",
              "\n",
              "[58098 rows x 3 columns]"
            ]
          },
          "metadata": {
            "tags": []
          },
          "execution_count": 4
        }
      ]
    },
    {
      "cell_type": "code",
      "metadata": {
        "colab": {
          "base_uri": "https://localhost:8080/"
        },
        "id": "Hr42XfThAB8T",
        "outputId": "4084e99f-6df5-46b8-844a-307f63a1fba3"
      },
      "source": [
        "genres = []\n",
        "for val in movies['genres']:\n",
        "  genres.extend(val.split(\"|\"))\n",
        "\n",
        "final_genres = list(set(genres))\n",
        "print(\"The number of genres in our dataset are\", len(final_genres))"
      ],
      "execution_count": null,
      "outputs": [
        {
          "output_type": "stream",
          "text": [
            "The number of genres in our dataset are 20\n"
          ],
          "name": "stdout"
        }
      ]
    },
    {
      "cell_type": "code",
      "metadata": {
        "id": "EU9hQJ9EA1LS"
      },
      "source": [
        "movies['genres'] = movies['genres'].apply(lambda val:val.split(\"|\"))"
      ],
      "execution_count": null,
      "outputs": []
    },
    {
      "cell_type": "code",
      "metadata": {
        "colab": {
          "base_uri": "https://localhost:8080/",
          "height": 415
        },
        "id": "lgNxVG-DIcBi",
        "outputId": "e57a9204-c071-4d53-a2e7-3026b7dc83ba"
      },
      "source": [
        "file2 = ZipFile(BytesIO(res.content)).open('ml-latest/tags.csv')\n",
        "tags = pd.read_csv(file2)"
      ],
      "execution_count": null,
      "outputs": [
        {
          "output_type": "execute_result",
          "data": {
            "text/html": [
              "<div>\n",
              "<style scoped>\n",
              "    .dataframe tbody tr th:only-of-type {\n",
              "        vertical-align: middle;\n",
              "    }\n",
              "\n",
              "    .dataframe tbody tr th {\n",
              "        vertical-align: top;\n",
              "    }\n",
              "\n",
              "    .dataframe thead th {\n",
              "        text-align: right;\n",
              "    }\n",
              "</style>\n",
              "<table border=\"1\" class=\"dataframe\">\n",
              "  <thead>\n",
              "    <tr style=\"text-align: right;\">\n",
              "      <th></th>\n",
              "      <th>userId</th>\n",
              "      <th>movieId</th>\n",
              "      <th>tag</th>\n",
              "      <th>timestamp</th>\n",
              "    </tr>\n",
              "  </thead>\n",
              "  <tbody>\n",
              "    <tr>\n",
              "      <th>0</th>\n",
              "      <td>14</td>\n",
              "      <td>110</td>\n",
              "      <td>epic</td>\n",
              "      <td>1443148538</td>\n",
              "    </tr>\n",
              "    <tr>\n",
              "      <th>1</th>\n",
              "      <td>14</td>\n",
              "      <td>110</td>\n",
              "      <td>Medieval</td>\n",
              "      <td>1443148532</td>\n",
              "    </tr>\n",
              "    <tr>\n",
              "      <th>2</th>\n",
              "      <td>14</td>\n",
              "      <td>260</td>\n",
              "      <td>sci-fi</td>\n",
              "      <td>1442169410</td>\n",
              "    </tr>\n",
              "    <tr>\n",
              "      <th>3</th>\n",
              "      <td>14</td>\n",
              "      <td>260</td>\n",
              "      <td>space action</td>\n",
              "      <td>1442169421</td>\n",
              "    </tr>\n",
              "    <tr>\n",
              "      <th>4</th>\n",
              "      <td>14</td>\n",
              "      <td>318</td>\n",
              "      <td>imdb top 250</td>\n",
              "      <td>1442615195</td>\n",
              "    </tr>\n",
              "    <tr>\n",
              "      <th>...</th>\n",
              "      <td>...</td>\n",
              "      <td>...</td>\n",
              "      <td>...</td>\n",
              "      <td>...</td>\n",
              "    </tr>\n",
              "    <tr>\n",
              "      <th>1108992</th>\n",
              "      <td>283206</td>\n",
              "      <td>73017</td>\n",
              "      <td>fun</td>\n",
              "      <td>1264379059</td>\n",
              "    </tr>\n",
              "    <tr>\n",
              "      <th>1108993</th>\n",
              "      <td>283206</td>\n",
              "      <td>73017</td>\n",
              "      <td>homoerotic subtext</td>\n",
              "      <td>1264379058</td>\n",
              "    </tr>\n",
              "    <tr>\n",
              "      <th>1108994</th>\n",
              "      <td>283206</td>\n",
              "      <td>73017</td>\n",
              "      <td>pacing</td>\n",
              "      <td>1264379058</td>\n",
              "    </tr>\n",
              "    <tr>\n",
              "      <th>1108995</th>\n",
              "      <td>283206</td>\n",
              "      <td>73017</td>\n",
              "      <td>plot</td>\n",
              "      <td>1264379058</td>\n",
              "    </tr>\n",
              "    <tr>\n",
              "      <th>1108996</th>\n",
              "      <td>283221</td>\n",
              "      <td>49651</td>\n",
              "      <td>Sylvester Stallone</td>\n",
              "      <td>1168346830</td>\n",
              "    </tr>\n",
              "  </tbody>\n",
              "</table>\n",
              "<p>1108997 rows × 4 columns</p>\n",
              "</div>"
            ],
            "text/plain": [
              "         userId  movieId                 tag   timestamp\n",
              "0            14      110                epic  1443148538\n",
              "1            14      110            Medieval  1443148532\n",
              "2            14      260              sci-fi  1442169410\n",
              "3            14      260        space action  1442169421\n",
              "4            14      318        imdb top 250  1442615195\n",
              "...         ...      ...                 ...         ...\n",
              "1108992  283206    73017                 fun  1264379059\n",
              "1108993  283206    73017  homoerotic subtext  1264379058\n",
              "1108994  283206    73017              pacing  1264379058\n",
              "1108995  283206    73017                plot  1264379058\n",
              "1108996  283221    49651  Sylvester Stallone  1168346830\n",
              "\n",
              "[1108997 rows x 4 columns]"
            ]
          },
          "metadata": {
            "tags": []
          },
          "execution_count": 8
        }
      ]
    },
    {
      "cell_type": "code",
      "metadata": {
        "colab": {
          "base_uri": "https://localhost:8080/",
          "height": 378
        },
        "id": "CY-IoRZtMEkh",
        "outputId": "65b6cf9f-5c01-4a61-de49-033b33ea740d"
      },
      "source": [
        "frequencies = tags.groupby(\"tag\")['movieId'].count()\r\n",
        "frequencies = frequencies.sort_values(ascending=False)\r\n",
        "top_20  = frequencies[:20]\r\n",
        "top_20.plot.bar()\r\n",
        "plt.title(\"Frequency of Top 20 tags in the dataset\")\r\n",
        "plt.ylabel(\"Frequency\")\r\n",
        "plt.show()"
      ],
      "execution_count": null,
      "outputs": [
        {
          "output_type": "display_data",
          "data": {
            "image/png": "[encoded data removed]",
            "text/plain": [
              "<Figure size 432x288 with 1 Axes>"
            ]
          },
          "metadata": {
            "tags": [],
            "needs_background": "light"
          }
        }
      ]
    },
    {
      "cell_type": "code",
      "metadata": {
        "id": "y79IaSksGOmV"
      },
      "source": [
        "movie_freq = tags.groupby('movieId', as_index=False).agg(num_tags=('tag','count'))\r\n",
        "movie_freq  = movie_freq [(np.abs(stats.zscore(movie_freq )) < 3).all(axis=1)]\r\n",
        "user_freq = tags.groupby('userId', as_index=False).agg(num_tags=('tag','count'))\r\n",
        "user_freq = user_freq [(np.abs(stats.zscore(user_freq )) < 3).all(axis=1)]"
      ],
      "execution_count": null,
      "outputs": []
    },
    {
      "cell_type": "code",
      "metadata": {
        "colab": {
          "base_uri": "https://localhost:8080/",
          "height": 334
        },
        "id": "tAMEPpqeHhUx",
        "outputId": "fe714de0-0b1d-4d73-97a8-3672aad1d5a3"
      },
      "source": [
        "plt.figure(figsize=(15,5))\r\n",
        "plt.hist(movie_freq['num_tags'], bins=50, edgecolor='b', log=True)\r\n",
        "plt.xlim(0,)\r\n",
        "plt.xticks(np.arange(0,400,40))\r\n",
        "plt.xlabel('Number of tags')\r\n",
        "plt.ylabel('Number of movies')\r\n",
        "plt.show()"
      ],
      "execution_count": null,
      "outputs": [
        {
          "output_type": "display_data",
          "data": {
            "image/png": "[encoded data removed]",
            "text/plain": [
              "<Figure size 1080x360 with 1 Axes>"
            ]
          },
          "metadata": {
            "tags": [],
            "needs_background": "light"
          }
        }
      ]
    },
    {
      "cell_type": "code",
      "metadata": {
        "colab": {
          "base_uri": "https://localhost:8080/",
          "height": 334
        },
        "id": "ZWaB5eXeIbak",
        "outputId": "d0a9e9cf-4796-4828-92e5-40813dfdf9a0"
      },
      "source": [
        "plt.figure(figsize=(15,5))\r\n",
        "plt.hist(user_freq['num_tags'], bins=100, edgecolor='b', log=True)\r\n",
        "plt.xlim(0,)\r\n",
        "plt.xticks(np.arange(0,5000,200))\r\n",
        "plt.xlabel('Number of tags')\r\n",
        "plt.ylabel('Number of users')\r\n",
        "plt.show()"
      ],
      "execution_count": null,
      "outputs": [
        {
          "output_type": "display_data",
          "data": {
            "image/png": "[encoded data removed]",
            "text/plain": [
              "<Figure size 1080x360 with 1 Axes>"
            ]
          },
          "metadata": {
            "tags": [],
            "needs_background": "light"
          }
        }
      ]
    },
    {
      "cell_type": "code",
      "metadata": {
        "colab": {
          "base_uri": "https://localhost:8080/",
          "height": 415
        },
        "id": "I0ZWILkyJqWZ",
        "outputId": "ffea19e8-b388-44c5-8149-c73f03262dc6"
      },
      "source": [
        "tag = tags.groupby(['movieId'])['tag'].apply(list).reset_index(name='tags')\n",
        "tag"
      ],
      "execution_count": null,
      "outputs": [
        {
          "output_type": "execute_result",
          "data": {
            "text/html": [
              "<div>\n",
              "<style scoped>\n",
              "    .dataframe tbody tr th:only-of-type {\n",
              "        vertical-align: middle;\n",
              "    }\n",
              "\n",
              "    .dataframe tbody tr th {\n",
              "        vertical-align: top;\n",
              "    }\n",
              "\n",
              "    .dataframe thead th {\n",
              "        text-align: right;\n",
              "    }\n",
              "</style>\n",
              "<table border=\"1\" class=\"dataframe\">\n",
              "  <thead>\n",
              "    <tr style=\"text-align: right;\">\n",
              "      <th></th>\n",
              "      <th>movieId</th>\n",
              "      <th>tags</th>\n",
              "    </tr>\n",
              "  </thead>\n",
              "  <tbody>\n",
              "    <tr>\n",
              "      <th>0</th>\n",
              "      <td>1</td>\n",
              "      <td>[animated, buddy movie, Cartoon, cgi, comedy, ...</td>\n",
              "    </tr>\n",
              "    <tr>\n",
              "      <th>1</th>\n",
              "      <td>2</td>\n",
              "      <td>[fantasy, adapted from:book, animals, bad cgi,...</td>\n",
              "    </tr>\n",
              "    <tr>\n",
              "      <th>2</th>\n",
              "      <td>3</td>\n",
              "      <td>[moldy, old, Ann Margaret, Burgess Meredith, D...</td>\n",
              "    </tr>\n",
              "    <tr>\n",
              "      <th>3</th>\n",
              "      <td>4</td>\n",
              "      <td>[characters, girl movie, characters, chick fli...</td>\n",
              "    </tr>\n",
              "    <tr>\n",
              "      <th>4</th>\n",
              "      <td>5</td>\n",
              "      <td>[steve martin, steve martin, pregnancy, remake...</td>\n",
              "    </tr>\n",
              "    <tr>\n",
              "      <th>...</th>\n",
              "      <td>...</td>\n",
              "      <td>...</td>\n",
              "    </tr>\n",
              "    <tr>\n",
              "      <th>45976</th>\n",
              "      <td>193761</td>\n",
              "      <td>[concert, hostage, kidnapping, opera singer, r...</td>\n",
              "    </tr>\n",
              "    <tr>\n",
              "      <th>45977</th>\n",
              "      <td>193811</td>\n",
              "      <td>[doppelganger, Julie Delpy]</td>\n",
              "    </tr>\n",
              "    <tr>\n",
              "      <th>45978</th>\n",
              "      <td>193837</td>\n",
              "      <td>[aliens, anime, cat, space marines, virus]</td>\n",
              "    </tr>\n",
              "    <tr>\n",
              "      <th>45979</th>\n",
              "      <td>193864</td>\n",
              "      <td>[Alfredo Landa, anticonception, comic, family,...</td>\n",
              "    </tr>\n",
              "    <tr>\n",
              "      <th>45980</th>\n",
              "      <td>193868</td>\n",
              "      <td>[black and white, comedy, friendship, fun, mar...</td>\n",
              "    </tr>\n",
              "  </tbody>\n",
              "</table>\n",
              "<p>45981 rows × 2 columns</p>\n",
              "</div>"
            ],
            "text/plain": [
              "       movieId                                               tags\n",
              "0            1  [animated, buddy movie, Cartoon, cgi, comedy, ...\n",
              "1            2  [fantasy, adapted from:book, animals, bad cgi,...\n",
              "2            3  [moldy, old, Ann Margaret, Burgess Meredith, D...\n",
              "3            4  [characters, girl movie, characters, chick fli...\n",
              "4            5  [steve martin, steve martin, pregnancy, remake...\n",
              "...        ...                                                ...\n",
              "45976   193761  [concert, hostage, kidnapping, opera singer, r...\n",
              "45977   193811                        [doppelganger, Julie Delpy]\n",
              "45978   193837         [aliens, anime, cat, space marines, virus]\n",
              "45979   193864  [Alfredo Landa, anticonception, comic, family,...\n",
              "45980   193868  [black and white, comedy, friendship, fun, mar...\n",
              "\n",
              "[45981 rows x 2 columns]"
            ]
          },
          "metadata": {
            "tags": []
          },
          "execution_count": 58
        }
      ]
    },
    {
      "cell_type": "markdown",
      "metadata": {
        "id": "O0phozymGq7T"
      },
      "source": [
        "CONTENT BASED ITEM-ITEM RECOMMENDATION MODEL \r\n",
        "\r\n",
        "\r\n"
      ]
    },
    {
      "cell_type": "code",
      "metadata": {
        "id": "qFVlXFU9HLvx"
      },
      "source": [
        "metadata = pd.merge(movies,tag,on = \"movieId\",how='inner',right_index=False)\r\n",
        "metadata['content'] = metadata['genres'] + metadata['tags']"
      ],
      "execution_count": null,
      "outputs": []
    },
    {
      "cell_type": "code",
      "metadata": {
        "id": "d7-QwEZzPluI"
      },
      "source": [
        "def stem_content(content):\r\n",
        "  porter = PorterStemmer()\r\n",
        "  st=[]\r\n",
        "  for word in content:\r\n",
        "    st.append(porter.stem(str(word)))\r\n",
        "  return st"
      ],
      "execution_count": null,
      "outputs": []
    },
    {
      "cell_type": "code",
      "metadata": {
        "id": "bJsDV4xSLgIf"
      },
      "source": [
        "a = metadata.loc[:,'content']\r\n",
        "\r\n",
        "list_=[]\r\n",
        "for i in range(len(a)):\r\n",
        "    list_.append(stem_content(a[i]))\r\n",
        "metadata['content'] = list_"
      ],
      "execution_count": null,
      "outputs": []
    },
    {
      "cell_type": "code",
      "metadata": {
        "colab": {
          "base_uri": "https://localhost:8080/",
          "height": 415
        },
        "id": "lh1TfrqDQWDJ",
        "outputId": "8d11577d-5208-4279-a6c2-24c3c6bfa8dc"
      },
      "source": [
        "metadata['content'] = [','.join(map(str, l)) for l in metadata['content']]\r\n",
        "metadata"
      ],
      "execution_count": null,
      "outputs": [
        {
          "output_type": "execute_result",
          "data": {
            "text/html": [
              "<div>\n",
              "<style scoped>\n",
              "    .dataframe tbody tr th:only-of-type {\n",
              "        vertical-align: middle;\n",
              "    }\n",
              "\n",
              "    .dataframe tbody tr th {\n",
              "        vertical-align: top;\n",
              "    }\n",
              "\n",
              "    .dataframe thead th {\n",
              "        text-align: right;\n",
              "    }\n",
              "</style>\n",
              "<table border=\"1\" class=\"dataframe\">\n",
              "  <thead>\n",
              "    <tr style=\"text-align: right;\">\n",
              "      <th></th>\n",
              "      <th>movieId</th>\n",
              "      <th>title</th>\n",
              "      <th>genres</th>\n",
              "      <th>tags</th>\n",
              "      <th>content</th>\n",
              "    </tr>\n",
              "  </thead>\n",
              "  <tbody>\n",
              "    <tr>\n",
              "      <th>0</th>\n",
              "      <td>1</td>\n",
              "      <td>Toy Story (1995)</td>\n",
              "      <td>[Adventure, Animation, Children, Comedy, Fantasy]</td>\n",
              "      <td>[animated, buddy movie, Cartoon, cgi, comedy, ...</td>\n",
              "      <td>adventur,anim,children,comedi,fantasi,anim,bud...</td>\n",
              "    </tr>\n",
              "    <tr>\n",
              "      <th>1</th>\n",
              "      <td>2</td>\n",
              "      <td>Jumanji (1995)</td>\n",
              "      <td>[Adventure, Children, Fantasy]</td>\n",
              "      <td>[fantasy, adapted from:book, animals, bad cgi,...</td>\n",
              "      <td>adventur,children,fantasi,fantasi,adapted from...</td>\n",
              "    </tr>\n",
              "    <tr>\n",
              "      <th>2</th>\n",
              "      <td>3</td>\n",
              "      <td>Grumpier Old Men (1995)</td>\n",
              "      <td>[Comedy, Romance]</td>\n",
              "      <td>[moldy, old, Ann Margaret, Burgess Meredith, D...</td>\n",
              "      <td>comedi,romanc,moldi,old,ann margaret,burgess m...</td>\n",
              "    </tr>\n",
              "    <tr>\n",
              "      <th>3</th>\n",
              "      <td>4</td>\n",
              "      <td>Waiting to Exhale (1995)</td>\n",
              "      <td>[Comedy, Drama, Romance]</td>\n",
              "      <td>[characters, girl movie, characters, chick fli...</td>\n",
              "      <td>comedi,drama,romanc,charact,girl movi,charact,...</td>\n",
              "    </tr>\n",
              "    <tr>\n",
              "      <th>4</th>\n",
              "      <td>5</td>\n",
              "      <td>Father of the Bride Part II (1995)</td>\n",
              "      <td>[Comedy]</td>\n",
              "      <td>[steve martin, steve martin, pregnancy, remake...</td>\n",
              "      <td>comedi,steve martin,steve martin,pregnanc,rema...</td>\n",
              "    </tr>\n",
              "    <tr>\n",
              "      <th>...</th>\n",
              "      <td>...</td>\n",
              "      <td>...</td>\n",
              "      <td>...</td>\n",
              "      <td>...</td>\n",
              "      <td>...</td>\n",
              "    </tr>\n",
              "    <tr>\n",
              "      <th>45976</th>\n",
              "      <td>193761</td>\n",
              "      <td>Bel Canto (2018)</td>\n",
              "      <td>[Drama, Thriller]</td>\n",
              "      <td>[concert, hostage, kidnapping, opera singer, r...</td>\n",
              "      <td>drama,thriller,concert,hostag,kidnap,opera sin...</td>\n",
              "    </tr>\n",
              "    <tr>\n",
              "      <th>45977</th>\n",
              "      <td>193811</td>\n",
              "      <td>Burning Shadow (2018)</td>\n",
              "      <td>[Thriller]</td>\n",
              "      <td>[doppelganger, Julie Delpy]</td>\n",
              "      <td>thriller,doppelgang,julie delpi</td>\n",
              "    </tr>\n",
              "    <tr>\n",
              "      <th>45978</th>\n",
              "      <td>193837</td>\n",
              "      <td>Lily C.A.T. (1987)</td>\n",
              "      <td>[Animation, Horror, Sci-Fi]</td>\n",
              "      <td>[aliens, anime, cat, space marines, virus]</td>\n",
              "      <td>anim,horror,sci-fi,alien,anim,cat,space marin,...</td>\n",
              "    </tr>\n",
              "    <tr>\n",
              "      <th>45979</th>\n",
              "      <td>193864</td>\n",
              "      <td>No somos de piedra (1968)</td>\n",
              "      <td>[Comedy]</td>\n",
              "      <td>[Alfredo Landa, anticonception, comic, family,...</td>\n",
              "      <td>comedi,alfredo landa,anticoncept,comic,famili,...</td>\n",
              "    </tr>\n",
              "    <tr>\n",
              "      <th>45980</th>\n",
              "      <td>193868</td>\n",
              "      <td>Dos tipos de cuidado (1953)</td>\n",
              "      <td>[Comedy, Drama, Romance, Western]</td>\n",
              "      <td>[black and white, comedy, friendship, fun, mar...</td>\n",
              "      <td>comedi,drama,romanc,western,black and whit,com...</td>\n",
              "    </tr>\n",
              "  </tbody>\n",
              "</table>\n",
              "<p>45981 rows × 5 columns</p>\n",
              "</div>"
            ],
            "text/plain": [
              "       movieId  ...                                            content\n",
              "0            1  ...  adventur,anim,children,comedi,fantasi,anim,bud...\n",
              "1            2  ...  adventur,children,fantasi,fantasi,adapted from...\n",
              "2            3  ...  comedi,romanc,moldi,old,ann margaret,burgess m...\n",
              "3            4  ...  comedi,drama,romanc,charact,girl movi,charact,...\n",
              "4            5  ...  comedi,steve martin,steve martin,pregnanc,rema...\n",
              "...        ...  ...                                                ...\n",
              "45976   193761  ...  drama,thriller,concert,hostag,kidnap,opera sin...\n",
              "45977   193811  ...                    thriller,doppelgang,julie delpi\n",
              "45978   193837  ...  anim,horror,sci-fi,alien,anim,cat,space marin,...\n",
              "45979   193864  ...  comedi,alfredo landa,anticoncept,comic,famili,...\n",
              "45980   193868  ...  comedi,drama,romanc,western,black and whit,com...\n",
              "\n",
              "[45981 rows x 5 columns]"
            ]
          },
          "metadata": {
            "tags": []
          },
          "execution_count": 64
        }
      ]
    },
    {
      "cell_type": "code",
      "metadata": {
        "id": "uzstlj0lGpKP"
      },
      "source": [
        "from bs4 import BeautifulSoup\r\n",
        "import re\r\n",
        "def cleanText(text):\r\n",
        "    text = re.sub('\\n','', text)\r\n",
        "    text = re.sub(',',' ', text)\r\n",
        "    text = re.sub('__',' ', text)\r\n",
        "    \r\n",
        "    text = re.sub(':',' ', text)\r\n",
        "    text = text.lower()  # Remove caps\r\n",
        "    text = text.strip()\r\n",
        "    return text\r\n",
        "\r\n",
        "a = metadata.loc[:,'content']\r\n",
        "\r\n",
        "clean=[]\r\n",
        "for i in range(len(a)):\r\n",
        "    clean.append(cleanText(a[i]))\r\n",
        "metadata['movie_content']=clean"
      ],
      "execution_count": null,
      "outputs": []
    },
    {
      "cell_type": "code",
      "metadata": {
        "id": "J66moeIpKnVM"
      },
      "source": [
        "data1 = list(metadata['movie_content'])\r\n",
        "tagged_data = [TaggedDocument(words=word_tokenize(_d.lower()), tags=[str(i)]) for i, _d in enumerate(data1)]\r\n",
        "\r\n",
        "max_epochs = 100\r\n",
        "vec_size = 20\r\n",
        "alpha = 0.025\r\n",
        "\r\n",
        "model = Doc2Vec(size=vec_size,\r\n",
        "                alpha=alpha, \r\n",
        "                min_alpha=0.00025,\r\n",
        "                min_count=1,\r\n",
        "                dm =1)\r\n",
        "  \r\n",
        "model.build_vocab(tagged_data)\r\n",
        "\r\n",
        "start_time = time()\r\n",
        "for epoch in range(max_epochs):\r\n",
        "    #print('iteration {0}'.format(epoch))\r\n",
        "    model.train(tagged_data,\r\n",
        "                total_examples=model.corpus_count,\r\n",
        "                epochs=model.iter)\r\n",
        "    \r\n",
        "    # decrease the learning rate\r\n",
        "    model.alpha -= 0.0004\r\n",
        "    \r\n",
        "    # fix the learning rate, no decay\r\n",
        "    model.min_alpha = model.alpha\r\n",
        "\r\n",
        "end_time = time()\r\n",
        "print('Execution time:'+str((end_time-start_time)//60)+' min, '+str(round((end_time-start_time)%60,1))+' seconds')\r\n"
      ],
      "execution_count": null,
      "outputs": []
    },
    {
      "cell_type": "code",
      "metadata": {
        "colab": {
          "base_uri": "https://localhost:8080/"
        },
        "id": "Xd4eBv9mKyGH",
        "outputId": "1d080f88-2422-4111-c8cd-a8c0ae3bd719"
      },
      "source": [
        "model.save(\"/data/d2vmovies.model\")\r\n",
        "print(\"Model Saved\")"
      ],
      "execution_count": null,
      "outputs": [
        {
          "output_type": "stream",
          "text": [
            "Model Saved\n"
          ],
          "name": "stdout"
        }
      ]
    },
    {
      "cell_type": "code",
      "metadata": {
        "colab": {
          "base_uri": "https://localhost:8080/"
        },
        "id": "AWG_xcbAhVHn",
        "outputId": "de0ca992-7956-4bc8-8f66-28334fc95656"
      },
      "source": [
        "downloaded.GetContentFile('d2vmovies.model')  \r\n",
        "model = Doc2Vec.load(\"/data/d2vmovies.model\")\r\n",
        "print(\"Model Loaded\")"
      ],
      "execution_count": null,
      "outputs": [
        {
          "output_type": "stream",
          "text": [
            "Model Loaded\n"
          ],
          "name": "stdout"
        }
      ]
    },
    {
      "cell_type": "code",
      "metadata": {
        "colab": {
          "base_uri": "https://localhost:8080/"
        },
        "id": "4O2vdwj7hs61",
        "outputId": "0d1f8378-d89e-4df5-cc00-5b1dbefb9152"
      },
      "source": [
        "similar_doc_test = model.docvecs.most_similar('1')\r\n",
        "print(similar_doc_test)"
      ],
      "execution_count": null,
      "outputs": [
        {
          "output_type": "stream",
          "text": [
            "[('8863', 0.8765408992767334), ('10192', 0.875840425491333), ('12769', 0.8525252938270569), ('5438', 0.8506702184677124), ('8998', 0.8333911895751953), ('12806', 0.8229997158050537), ('10352', 0.8120715022087097), ('11390', 0.8009260892868042), ('7412', 0.7934632301330566), ('12352', 0.7876929044723511)]\n"
          ],
          "name": "stdout"
        }
      ]
    },
    {
      "cell_type": "code",
      "metadata": {
        "id": "0k8ij95ehl3J"
      },
      "source": [
        "def similar_movies(key,k): # key is title of Movie and n is the number of similar movie recommendations we need\r\n",
        "    \r\n",
        "    key_index = metadata.index[metadata['title'] == key]\r\n",
        "    similar_doc_test = model.docvecs.most_similar(key_index,topn=k)\r\n",
        "    movie = []\r\n",
        "\r\n",
        "    for i in range(len(similar_doc_test)):\r\n",
        "\r\n",
        "        score = similar_doc_test[i][1]\r\n",
        "        ind = int(similar_doc_test[i][0])\r\n",
        "        key_value = metadata['title'][ind]\r\n",
        "        movie.append((key_value,score))\r\n",
        "        \r\n",
        "    return movie"
      ],
      "execution_count": null,
      "outputs": []
    },
    {
      "cell_type": "code",
      "metadata": {
        "id": "l4t5ACKjwNd7"
      },
      "source": [
        "movie_recommendations = {}"
      ],
      "execution_count": null,
      "outputs": []
    },
    {
      "cell_type": "code",
      "metadata": {
        "id": "FOAZCpCsi-nq"
      },
      "source": [
        "movie_recommendations[\"Star Wars: Episode IV - A New Hope (1977)\"] =  [tuple1[0] for tuple1 in similar_movies(\"Star Wars: Episode IV - A New Hope (1977)\",5)]\r\n",
        "movie_recommendations[\"Die Hard: With a Vengeance (1995)\"] = [tuple1[0] for tuple1 in similar_movies(\"Die Hard: With a Vengeance (1995)\",5)]\r\n",
        "movie_recommendations[\"Batman Forever (1995)\"] =  [tuple1[0] for tuple1 in similar_movies(\"Batman Forever (1995)\",5)]\r\n",
        "movie_recommendations[\"Usual Suspects, The (1995)\"] = [tuple1[0] for tuple1 in similar_movies(\"Usual Suspects, The (1995)\",5)]\r\n",
        "movie_recommendations[\"Schindler's List (1993)\"] = [tuple1[0] for tuple1 in similar_movies(\"Schindler's List (1993)\",5)]\r\n",
        "movie_recommendations[\"Mortal Kombat (1995)\"] = [tuple1[0] for tuple1 in similar_movies(\"Mortal Kombat (1995)\",5)]\r\n",
        "movie_recommendations[\"The Hunger Games: Mockingjay - Part 1 (2014)\"] = [tuple1[0] for tuple1 in similar_movies(\"The Hunger Games: Mockingjay - Part 1 (2014)\",5)]"
      ],
      "execution_count": null,
      "outputs": []
    },
    {
      "cell_type": "code",
      "metadata": {
        "colab": {
          "base_uri": "https://localhost:8080/",
          "height": 223
        },
        "id": "QS65sAeAwf2d",
        "outputId": "50c42f5d-0002-4e2b-f39d-bb7a2ff41205"
      },
      "source": [
        "recommendations = pd.DataFrame.from_dict(movie_recommendations, orient ='index')\r\n",
        "recommendations.columns = ['Movie 1','Movie 2','Movie 3','Movie 4','Movie 5']\r\n",
        "recommendations"
      ],
      "execution_count": null,
      "outputs": [
        {
          "output_type": "execute_result",
          "data": {
            "text/html": [
              "<div>\n",
              "<style scoped>\n",
              "    .dataframe tbody tr th:only-of-type {\n",
              "        vertical-align: middle;\n",
              "    }\n",
              "\n",
              "    .dataframe tbody tr th {\n",
              "        vertical-align: top;\n",
              "    }\n",
              "\n",
              "    .dataframe thead th {\n",
              "        text-align: right;\n",
              "    }\n",
              "</style>\n",
              "<table border=\"1\" class=\"dataframe\">\n",
              "  <thead>\n",
              "    <tr style=\"text-align: right;\">\n",
              "      <th></th>\n",
              "      <th>Movie 1</th>\n",
              "      <th>Movie 2</th>\n",
              "      <th>Movie 3</th>\n",
              "      <th>Movie 4</th>\n",
              "      <th>Movie 5</th>\n",
              "    </tr>\n",
              "  </thead>\n",
              "  <tbody>\n",
              "    <tr>\n",
              "      <th>Star Wars: Episode IV - A New Hope (1977)</th>\n",
              "      <td>Star Wars: Episode VI - Return of the Jedi (1983)</td>\n",
              "      <td>Star Wars: Episode I - The Phantom Menace (1999)</td>\n",
              "      <td>Star Wars: Episode II - Attack of the Clones (...</td>\n",
              "      <td>Star Wars: Episode V - The Empire Strikes Back...</td>\n",
              "      <td>Star Wars: Episode III - Revenge of the Sith (...</td>\n",
              "    </tr>\n",
              "    <tr>\n",
              "      <th>Batman Forever (1995)</th>\n",
              "      <td>Ant-Man and the Wasp (2018)</td>\n",
              "      <td>Spider-Man 3 (2007)</td>\n",
              "      <td>Fantastic Four: Rise of the Silver Surfer (2007)</td>\n",
              "      <td>Amazing Spider-Man, The (2012)</td>\n",
              "      <td>Iron Man 3 (2013)</td>\n",
              "    </tr>\n",
              "    <tr>\n",
              "      <th>Usual Suspects, The (1995)</th>\n",
              "      <td>Departed, The (2006)</td>\n",
              "      <td>L.A. Confidential (1997)</td>\n",
              "      <td>Inside Man (2006)</td>\n",
              "      <td>Ghost Writer, The (2010)</td>\n",
              "      <td>Nick of Time (1995)</td>\n",
              "    </tr>\n",
              "    <tr>\n",
              "      <th>The Hunger Games: Mockingjay - Part 1 (2014)</th>\n",
              "      <td>Allegiant: Part 1 (2016)</td>\n",
              "      <td>The Hunger Games: Catching Fire (2013)</td>\n",
              "      <td>Insurgent (2015)</td>\n",
              "      <td>Divergent (2014)</td>\n",
              "      <td>FAQ: Frequently Asked Questions (2004)</td>\n",
              "    </tr>\n",
              "  </tbody>\n",
              "</table>\n",
              "</div>"
            ],
            "text/plain": [
              "                                                                                        Movie 1  ...                                            Movie 5\n",
              "Star Wars: Episode IV - A New Hope (1977)     Star Wars: Episode VI - Return of the Jedi (1983)  ...  Star Wars: Episode III - Revenge of the Sith (...\n",
              "Batman Forever (1995)                                               Ant-Man and the Wasp (2018)  ...                                  Iron Man 3 (2013)\n",
              "Usual Suspects, The (1995)                                                 Departed, The (2006)  ...                                Nick of Time (1995)\n",
              "The Hunger Games: Mockingjay - Part 1 (2014)                           Allegiant: Part 1 (2016)  ...             FAQ: Frequently Asked Questions (2004)\n",
              "\n",
              "[4 rows x 5 columns]"
            ]
          },
          "metadata": {
            "tags": []
          },
          "execution_count": 70
        }
      ]
    },
    {
      "cell_type": "code",
      "metadata": {
        "colab": {
          "base_uri": "https://localhost:8080/"
        },
        "id": "q3pW3mBFw0gN",
        "outputId": "c2243cb4-58bd-4e75-ded7-640cb64249ed"
      },
      "source": [
        "similar_movies(\"The Hunger Games: Mockingjay - Part 1 (2014)\",10)"
      ],
      "execution_count": null,
      "outputs": [
        {
          "output_type": "execute_result",
          "data": {
            "text/plain": [
              "[('Allegiant: Part 1 (2016)', 0.8808690905570984),\n",
              " ('The Hunger Games: Catching Fire (2013)', 0.8771207928657532),\n",
              " ('Insurgent (2015)', 0.8687823414802551),\n",
              " ('Divergent (2014)', 0.8524252772331238),\n",
              " ('FAQ: Frequently Asked Questions (2004)', 0.8320668339729309),\n",
              " ('The Hunger Games (2012)', 0.8226839303970337),\n",
              " ('Aeon Flux (2005)', 0.8107877969741821),\n",
              " ('Hulk (2003)', 0.7983793020248413),\n",
              " ('Ultraviolet (2006)', 0.7959374189376831),\n",
              " ('V for Vendetta (2006)', 0.7780249118804932)]"
            ]
          },
          "metadata": {
            "tags": []
          },
          "execution_count": 60
        }
      ]
    }
  ]
}