{
  "nbformat": 4,
  "nbformat_minor": 0,
  "metadata": {
    "colab": {
      "name": "Evaluations.ipynb",
      "provenance": [],
      "collapsed_sections": []
    },
    "kernelspec": {
      "name": "python3",
      "display_name": "Python 3"
    }
  },
  "cells": [
    {
      "cell_type": "code",
      "metadata": {
        "colab": {
          "base_uri": "https://localhost:8080/"
        },
        "id": "uiqdMj6_FFIq",
        "outputId": "8e213ca4-8ddb-43a5-be9b-12a338f3e6d0"
      },
      "source": [
        "!pip install surprise\r\n",
        "!pip uninstall tensorflow\r\n",
        "!pip install tensorflow==1.15\r\n",
        "!pip install annoy"
      ],
      "execution_count": 2,
      "outputs": [
        {
          "output_type": "stream",
          "text": [
            "Collecting surprise\n",
            "  Downloading https://files.pythonhosted.org/packages/61/de/e5cba8682201fcf9c3719a6fdda95693468ed061945493dea2dd37c5618b/surprise-0.1-py2.py3-none-any.whl\n",
            "Collecting scikit-surprise\n",
            "\u001b[?25l  Downloading https://files.pythonhosted.org/packages/97/37/5d334adaf5ddd65da99fc65f6507e0e4599d092ba048f4302fe8775619e8/scikit-surprise-1.1.1.tar.gz (11.8MB)\n",
            "\u001b[K     |████████████████████████████████| 11.8MB 5.3MB/s \n",
            "\u001b[?25hRequirement already satisfied: joblib>=0.11 in /usr/local/lib/python3.6/dist-packages (from scikit-surprise->surprise) (1.0.0)\n",
            "Requirement already satisfied: numpy>=1.11.2 in /usr/local/lib/python3.6/dist-packages (from scikit-surprise->surprise) (1.19.4)\n",
            "Requirement already satisfied: scipy>=1.0.0 in /usr/local/lib/python3.6/dist-packages (from scikit-surprise->surprise) (1.4.1)\n",
            "Requirement already satisfied: six>=1.10.0 in /usr/local/lib/python3.6/dist-packages (from scikit-surprise->surprise) (1.15.0)\n",
            "Building wheels for collected packages: scikit-surprise\n",
            "  Building wheel for scikit-surprise (setup.py) ... \u001b[?25l\u001b[?25hdone\n",
            "  Created wheel for scikit-surprise: filename=scikit_surprise-1.1.1-cp36-cp36m-linux_x86_64.whl size=1618305 sha256=6a5a5b9a836d7211020dc0d33d0b8b9c0adf06b4a245d6c5d4d1eb60e1f128b5\n",
            "  Stored in directory: /root/.cache/pip/wheels/78/9c/3d/41b419c9d2aff5b6e2b4c0fc8d25c538202834058f9ed110d0\n",
            "Successfully built scikit-surprise\n",
            "Installing collected packages: scikit-surprise, surprise\n",
            "Successfully installed scikit-surprise-1.1.1 surprise-0.1\n",
            "Uninstalling tensorflow-2.4.0:\n",
            "  Would remove:\n",
            "    /usr/local/bin/estimator_ckpt_converter\n",
            "    /usr/local/bin/import_pb_to_tensorboard\n",
            "    /usr/local/bin/saved_model_cli\n",
            "    /usr/local/bin/tensorboard\n",
            "    /usr/local/bin/tf_upgrade_v2\n",
            "    /usr/local/bin/tflite_convert\n",
            "    /usr/local/bin/toco\n",
            "    /usr/local/bin/toco_from_protos\n",
            "    /usr/local/lib/python3.6/dist-packages/tensorflow-2.4.0.dist-info/*\n",
            "    /usr/local/lib/python3.6/dist-packages/tensorflow/*\n",
            "Proceed (y/n)? y\n",
            "  Successfully uninstalled tensorflow-2.4.0\n",
            "Collecting tensorflow==1.15\n",
            "\u001b[?25l  Downloading https://files.pythonhosted.org/packages/3f/98/5a99af92fb911d7a88a0005ad55005f35b4c1ba8d75fba02df726cd936e6/tensorflow-1.15.0-cp36-cp36m-manylinux2010_x86_64.whl (412.3MB)\n",
            "\u001b[K     |████████████████████████████████| 412.3MB 42kB/s \n",
            "\u001b[?25hRequirement already satisfied: termcolor>=1.1.0 in /usr/local/lib/python3.6/dist-packages (from tensorflow==1.15) (1.1.0)\n",
            "Requirement already satisfied: keras-preprocessing>=1.0.5 in /usr/local/lib/python3.6/dist-packages (from tensorflow==1.15) (1.1.2)\n",
            "Requirement already satisfied: wheel>=0.26 in /usr/local/lib/python3.6/dist-packages (from tensorflow==1.15) (0.36.2)\n",
            "Requirement already satisfied: opt-einsum>=2.3.2 in /usr/local/lib/python3.6/dist-packages (from tensorflow==1.15) (3.3.0)\n",
            "Collecting tensorflow-estimator==1.15.1\n",
            "\u001b[?25l  Downloading https://files.pythonhosted.org/packages/de/62/2ee9cd74c9fa2fa450877847ba560b260f5d0fb70ee0595203082dafcc9d/tensorflow_estimator-1.15.1-py2.py3-none-any.whl (503kB)\n",
            "\u001b[K     |████████████████████████████████| 512kB 44.3MB/s \n",
            "\u001b[?25hRequirement already satisfied: numpy<2.0,>=1.16.0 in /usr/local/lib/python3.6/dist-packages (from tensorflow==1.15) (1.19.4)\n",
            "Requirement already satisfied: google-pasta>=0.1.6 in /usr/local/lib/python3.6/dist-packages (from tensorflow==1.15) (0.2.0)\n",
            "Collecting tensorboard<1.16.0,>=1.15.0\n",
            "\u001b[?25l  Downloading https://files.pythonhosted.org/packages/1e/e9/d3d747a97f7188f48aa5eda486907f3b345cd409f0a0850468ba867db246/tensorboard-1.15.0-py3-none-any.whl (3.8MB)\n",
            "\u001b[K     |████████████████████████████████| 3.8MB 43.1MB/s \n",
            "\u001b[?25hRequirement already satisfied: wrapt>=1.11.1 in /usr/local/lib/python3.6/dist-packages (from tensorflow==1.15) (1.12.1)\n",
            "Requirement already satisfied: absl-py>=0.7.0 in /usr/local/lib/python3.6/dist-packages (from tensorflow==1.15) (0.10.0)\n",
            "Requirement already satisfied: six>=1.10.0 in /usr/local/lib/python3.6/dist-packages (from tensorflow==1.15) (1.15.0)\n",
            "Requirement already satisfied: protobuf>=3.6.1 in /usr/local/lib/python3.6/dist-packages (from tensorflow==1.15) (3.12.4)\n",
            "Requirement already satisfied: astor>=0.6.0 in /usr/local/lib/python3.6/dist-packages (from tensorflow==1.15) (0.8.1)\n",
            "Requirement already satisfied: grpcio>=1.8.6 in /usr/local/lib/python3.6/dist-packages (from tensorflow==1.15) (1.32.0)\n",
            "Collecting keras-applications>=1.0.8\n",
            "\u001b[?25l  Downloading https://files.pythonhosted.org/packages/71/e3/19762fdfc62877ae9102edf6342d71b28fbfd9dea3d2f96a882ce099b03f/Keras_Applications-1.0.8-py3-none-any.whl (50kB)\n",
            "\u001b[K     |████████████████████████████████| 51kB 6.3MB/s \n",
            "\u001b[?25hCollecting gast==0.2.2\n",
            "  Downloading https://files.pythonhosted.org/packages/4e/35/11749bf99b2d4e3cceb4d55ca22590b0d7c2c62b9de38ac4a4a7f4687421/gast-0.2.2.tar.gz\n",
            "Requirement already satisfied: markdown>=2.6.8 in /usr/local/lib/python3.6/dist-packages (from tensorboard<1.16.0,>=1.15.0->tensorflow==1.15) (3.3.3)\n",
            "Requirement already satisfied: werkzeug>=0.11.15 in /usr/local/lib/python3.6/dist-packages (from tensorboard<1.16.0,>=1.15.0->tensorflow==1.15) (1.0.1)\n",
            "Requirement already satisfied: setuptools>=41.0.0 in /usr/local/lib/python3.6/dist-packages (from tensorboard<1.16.0,>=1.15.0->tensorflow==1.15) (50.3.2)\n",
            "Requirement already satisfied: h5py in /usr/local/lib/python3.6/dist-packages (from keras-applications>=1.0.8->tensorflow==1.15) (2.10.0)\n",
            "Requirement already satisfied: importlib-metadata; python_version < \"3.8\" in /usr/local/lib/python3.6/dist-packages (from markdown>=2.6.8->tensorboard<1.16.0,>=1.15.0->tensorflow==1.15) (3.3.0)\n",
            "Requirement already satisfied: typing-extensions>=3.6.4; python_version < \"3.8\" in /usr/local/lib/python3.6/dist-packages (from importlib-metadata; python_version < \"3.8\"->markdown>=2.6.8->tensorboard<1.16.0,>=1.15.0->tensorflow==1.15) (3.7.4.3)\n",
            "Requirement already satisfied: zipp>=0.5 in /usr/local/lib/python3.6/dist-packages (from importlib-metadata; python_version < \"3.8\"->markdown>=2.6.8->tensorboard<1.16.0,>=1.15.0->tensorflow==1.15) (3.4.0)\n",
            "Building wheels for collected packages: gast\n",
            "  Building wheel for gast (setup.py) ... \u001b[?25l\u001b[?25hdone\n",
            "  Created wheel for gast: filename=gast-0.2.2-cp36-none-any.whl size=7540 sha256=5ce0e2ea53c38a85e823dec0be946ff96c77c77429dba53092cc1926f829bcee\n",
            "  Stored in directory: /root/.cache/pip/wheels/5c/2e/7e/a1d4d4fcebe6c381f378ce7743a3ced3699feb89bcfbdadadd\n",
            "Successfully built gast\n",
            "\u001b[31mERROR: tensorflow-probability 0.11.0 has requirement gast>=0.3.2, but you'll have gast 0.2.2 which is incompatible.\u001b[0m\n",
            "Installing collected packages: tensorflow-estimator, tensorboard, keras-applications, gast, tensorflow\n",
            "  Found existing installation: tensorflow-estimator 2.4.0\n",
            "    Uninstalling tensorflow-estimator-2.4.0:\n",
            "      Successfully uninstalled tensorflow-estimator-2.4.0\n",
            "  Found existing installation: tensorboard 2.4.0\n",
            "    Uninstalling tensorboard-2.4.0:\n",
            "      Successfully uninstalled tensorboard-2.4.0\n",
            "  Found existing installation: gast 0.3.3\n",
            "    Uninstalling gast-0.3.3:\n",
            "      Successfully uninstalled gast-0.3.3\n",
            "Successfully installed gast-0.2.2 keras-applications-1.0.8 tensorboard-1.15.0 tensorflow-1.15.0 tensorflow-estimator-1.15.1\n",
            "Collecting annoy\n",
            "\u001b[?25l  Downloading https://files.pythonhosted.org/packages/a1/5b/1c22129f608b3f438713b91cd880dc681d747a860afe3e8e0af86e921942/annoy-1.17.0.tar.gz (646kB)\n",
            "\u001b[K     |████████████████████████████████| 655kB 4.5MB/s \n",
            "\u001b[?25hBuilding wheels for collected packages: annoy\n",
            "  Building wheel for annoy (setup.py) ... \u001b[?25l\u001b[?25hdone\n",
            "  Created wheel for annoy: filename=annoy-1.17.0-cp36-cp36m-linux_x86_64.whl size=390358 sha256=d4b30221a41ab78e8ce7c965bbac6903ebd8c5290740932a0d45ca74222715ca\n",
            "  Stored in directory: /root/.cache/pip/wheels/3a/c5/59/cce7e67b52c8e987389e53f917b6bb2a9d904a03246fadcb1e\n",
            "Successfully built annoy\n",
            "Installing collected packages: annoy\n",
            "Successfully installed annoy-1.17.0\n"
          ],
          "name": "stdout"
        }
      ]
    },
    {
      "cell_type": "markdown",
      "metadata": {
        "id": "HY54wYaPJFU5"
      },
      "source": [
        "## Imports"
      ]
    },
    {
      "cell_type": "code",
      "metadata": {
        "id": "VoXQ97iXFQa5"
      },
      "source": [
        "from surprise import Dataset, SVD, Reader,NMF\r\n",
        "from surprise.model_selection import cross_validate,train_test_split\r\n",
        "from surprise.model_selection import GridSearchCV,RandomizedSearchCV\r\n",
        "from surprise import accuracy\r\n",
        "from hyperopt import tpe, fmin, hp, Trials, STATUS_OK,space_eval\r\n",
        "import sys\r\n",
        "import seaborn as sns\r\n",
        "from timeit import Timer\r\n",
        "from datetime import datetime\r\n",
        "from surprise import Dataset, SVD, Reader,NMF\r\n",
        "from surprise.model_selection import cross_validate,train_test_split\r\n",
        "from surprise.model_selection import GridSearchCV,RandomizedSearchCV\r\n",
        "from surprise import accuracy\r\n",
        "from hyperopt import tpe, fmin, hp, Trials, STATUS_OK,space_eval\r\n",
        "from collections import defaultdict\r\n",
        "import random\r\n",
        "from sklearn.metrics import mean_squared_error\r\n",
        "from numpy.linalg import inv\r\n",
        "import pandas as pd\r\n",
        "import numpy as np\r\n",
        "import math\r\n",
        "from numpy.linalg import inv\r\n",
        "from numpy.linalg import multi_dot\r\n",
        "import matplotlib.pyplot as plt\r\n",
        "import itertools\r\n",
        "import warnings\r\n",
        "from ncf_singlenode import *\r\n",
        "from dataset import Dataset as NCFDataset\r\n",
        "from constants import SEED as DEFAULT_SEED\r\n",
        "from python_evaluation import (rmse, mae, rsquared, exp_var, map_at_k, ndcg_at_k, precision_at_k, \r\n",
        "                                                     recall_at_k, get_top_k_items)\r\n",
        "SEED = DEFAULT_SEED\r\n",
        "warnings.filterwarnings(\"ignore\")"
      ],
      "execution_count": 1,
      "outputs": []
    },
    {
      "cell_type": "code",
      "metadata": {
        "id": "Qu6OPTgXFo_W"
      },
      "source": [
        "!pip install -U -q PyDrive\r\n",
        "from pydrive.auth import GoogleAuth\r\n",
        "from pydrive.drive import GoogleDrive\r\n",
        "from google.colab import auth\r\n",
        "from oauth2client.client import GoogleCredentials\r\n",
        "\r\n",
        "auth.authenticate_user()\r\n",
        "gauth = GoogleAuth()\r\n",
        "gauth.credentials = GoogleCredentials.get_application_default()\r\n",
        "drive = GoogleDrive(gauth)\r\n",
        "\r\n",
        "id = \"1FFYnZRIuzQLeBkDUuJpK_oRtUmdxMd9O\"\r\n",
        "\r\n",
        "downloaded = drive.CreateFile({'id':id}) \r\n",
        "downloaded.GetContentFile('final_dataset.csv')  \r\n",
        "data = pd.read_csv('final_dataset.csv')"
      ],
      "execution_count": 2,
      "outputs": []
    },
    {
      "cell_type": "code",
      "metadata": {
        "id": "1_WPWFWPFv5N"
      },
      "source": [
        "data.drop(columns=['Unnamed: 0','timestamp','date','year'],inplace=True)"
      ],
      "execution_count": 3,
      "outputs": []
    },
    {
      "cell_type": "code",
      "metadata": {
        "id": "kMBqJ0Sm3q4c"
      },
      "source": [
        "def sigmoid(z):\r\n",
        "    return 1/(1 + np.exp(-z))\r\n",
        "def get_pred_data(all_predictions,test):\r\n",
        "  data=pd.merge(all_predictions,test,on=['userID','itemID'],how='inner')\r\n",
        "  return(data)\r\n",
        "def pred_rank(pred):\r\n",
        "    pred.sort_values(['userID', 'rating'], ascending=[True, False],inplace=True)\r\n",
        "    pred[\"rating_rank\"] = pred.groupby(\"userID\")[\"rating\"].rank(\"min\", ascending=False)\r\n",
        "    pred.sort_values(['userID', 'prediction'], ascending=[True, False],inplace=True)\r\n",
        "    pred[\"pred_rank\"] = pred.groupby(\"userID\")[\"prediction\"].rank(\"min\", ascending=False)\r\n",
        "    return(pred)\r\n",
        "def test_all_for_ndcg(pred,data):\r\n",
        "    data.sort_values(['userID', 'prediction'], ascending=[True, False],inplace=True)\r\n",
        "    data[\"pred_rank\"] = data.groupby(\"userID\")[\"prediction\"].rank(\"min\", ascending=False)\r\n",
        "    pred=pred[['userID','itemID','rating_rank','rating']]\r\n",
        "    df = pd.merge(pred, data, on=['userID','itemID'],how='inner')\r\n",
        "    return(df)\r\n",
        "\r\n",
        "\r\n",
        "\r\n",
        "def ndcg_k(data1,k=10):\r\n",
        "    data1['top_10_pred']=1\r\n",
        "    data1.loc[(data1['pred_rank']>=k) ,'top_10_pred'] = 0\r\n",
        "    data1['top_10_rating']=1\r\n",
        "    data1.loc[(data1['rating_rank']>=k) ,'top_10_rating'] = 0\r\n",
        "    data1['relevance']=data1['top_10_pred']*data1['top_10_rating']\r\n",
        "    data1['log_den']=1/(np.log2(data1['pred_rank']+1))\r\n",
        "    data1['dcg_num']=data1['relevance']*data1['log_den']\r\n",
        "    data1[\"idcg_rank\"] = data1.groupby(\"userID\")[\"relevance\"].rank(\"first\", ascending=False)\r\n",
        "    data1[\"idcg_log\"]=1/(np.log2(data1['idcg_rank']+1))\r\n",
        "    data1['idcg_num']=data1['relevance']*data1['idcg_log']\r\n",
        "    user_list = data1['userID'].unique()\r\n",
        "    ndcg=0\r\n",
        "    len_ls=data1['userID'].nunique()\r\n",
        "    for user in user_list:\r\n",
        "      #print(user)\r\n",
        "        _d=data1[data1['userID']==user]\r\n",
        "        if _d['userID'].count()==1:\r\n",
        "            len_ls=len_ls-1\r\n",
        "        else:\r\n",
        "            num=np.sum(data1[data1['userID']==user]['dcg_num'])\r\n",
        "            den=np.sum(data1[data1['userID']==user]['idcg_num'])\r\n",
        "            if den==0:\r\n",
        "                continue\r\n",
        "            else:\r\n",
        "                ndcg+=num/den\r\n",
        "            #break\r\n",
        "    \r\n",
        "    ndcg=ndcg/len_ls\r\n",
        "    return(ndcg)\r\n",
        "\r\n",
        "def get_ndcg(all_predictions):\r\n",
        "  pred=get_pred_data(all_predictions,test)\r\n",
        "  pred=pred_rank(pred)\r\n",
        "  test_all_for_ndcg_=test_all_for_ndcg(pred,all_predictions)\r\n",
        "  lst=[]\r\n",
        "  for i in range(10):\r\n",
        "    lst.append([ndcg_k(test_all_for_ndcg_,k=i+1),i+1])\r\n",
        "  return(lst)"
      ],
      "execution_count": 4,
      "outputs": []
    },
    {
      "cell_type": "markdown",
      "metadata": {
        "id": "tSp7Cwt3JMQe"
      },
      "source": [
        "## Train - test split"
      ]
    },
    {
      "cell_type": "code",
      "metadata": {
        "id": "rVVCBuKLFyL3"
      },
      "source": [
        "# Splitting Main dataset to a train and a test dataset\r\n",
        "user_freq=data.groupby(['userId']).size().reset_index(name='counts')\r\n",
        "users_lt3=user_freq[user_freq['counts']<3][['userId']]\r\n",
        "users_ge3=user_freq[user_freq['counts']>=3][['userId']]\r\n",
        "train1 = pd.merge(data, users_lt3, on=['userId'],how='inner')\r\n",
        "data1 = pd.merge(data, users_ge3, on=['userId'],how='inner')\r\n",
        "random.seed(2)\r\n",
        "test=data1.groupby('userId').sample(frac=.3, random_state=2)\r\n",
        "test_idx = data1.index.isin(test.index.to_list())\r\n",
        "train = train1.append(data1[~test_idx])\r\n",
        "\r\n",
        "\r\n",
        "\r\n",
        "train_df = train\r\n",
        "test_df = test"
      ],
      "execution_count": 5,
      "outputs": []
    },
    {
      "cell_type": "code",
      "metadata": {
        "id": "jWcZgKTEF_R7"
      },
      "source": [
        "test.rename({'userId': 'userID', 'movieId': 'itemID'}, axis=1, inplace=True)"
      ],
      "execution_count": 6,
      "outputs": []
    },
    {
      "cell_type": "code",
      "metadata": {
        "id": "1oLt-NhAGQ7o"
      },
      "source": [
        "del test_df ,train_df ,data1,train1,user_freq,users_ge3,users_lt3,data"
      ],
      "execution_count": 7,
      "outputs": []
    },
    {
      "cell_type": "markdown",
      "metadata": {
        "id": "YkWyJ6ZzJSfp"
      },
      "source": [
        "## Main evaluation func defs - NDCG, MAP, Precision"
      ]
    },
    {
      "cell_type": "code",
      "metadata": {
        "id": "YJAnk0okiQZE"
      },
      "source": [
        "def evals(all_predictions,test):\r\n",
        "  lst=[]\r\n",
        "  for k in range(10):\r\n",
        "    i=k+1\r\n",
        "    TOP_K = i\r\n",
        "    eval_map = map_at_k(test, all_predictions, col_prediction='prediction', k=TOP_K)\r\n",
        "    eval_ndcg = 0\r\n",
        "    eval_precision = precision_at_k(test, all_predictions, col_prediction='prediction', k=TOP_K)\r\n",
        "    eval_recall = recall_at_k(test, all_predictions, col_prediction='prediction', k=TOP_K)\r\n",
        "    lst.append([eval_map,eval_ndcg,eval_precision,eval_recall,i])\r\n",
        "    print(\"MAP:\\t%f\" % eval_map,\r\n",
        "      \"NDCG:\\t%f\" % eval_ndcg,\r\n",
        "      \"Precision@K:\\t%f\" % eval_precision,\r\n",
        "      \"Recall@K:\\t%f\" % eval_recall, sep='\\n')\r\n",
        "  return(lst)"
      ],
      "execution_count": 8,
      "outputs": []
    },
    {
      "cell_type": "code",
      "metadata": {
        "id": "kqDaGAwtGhia"
      },
      "source": [
        "def pred_rank(pred):\r\n",
        "    pred.sort_values(['userID', 'rating'], ascending=[True, False],inplace=True)\r\n",
        "    pred[\"rating_rank\"] = pred.groupby(\"userID\")[\"rating\"].rank(\"min\", ascending=False)\r\n",
        "    pred.sort_values(['userID', 'prediction'], ascending=[True, False],inplace=True)\r\n",
        "    pred[\"pred_rank\"] = pred.groupby(\"userID\")[\"prediction\"].rank(\"min\", ascending=False)\r\n",
        "    return(pred)"
      ],
      "execution_count": 9,
      "outputs": []
    },
    {
      "cell_type": "code",
      "metadata": {
        "id": "KbBTxZgsxjsh"
      },
      "source": [
        "# FM (Jay)\r\n",
        "\r\n",
        "!pip install -U -q PyDrive\r\n",
        "from pydrive.auth import GoogleAuth\r\n",
        "from pydrive.drive import GoogleDrive\r\n",
        "from google.colab import auth\r\n",
        "from oauth2client.client import GoogleCredentials\r\n",
        "\r\n",
        "auth.authenticate_user()\r\n",
        "gauth = GoogleAuth()\r\n",
        "gauth.credentials = GoogleCredentials.get_application_default()\r\n",
        "drive = GoogleDrive(gauth)\r\n",
        "link = \"https://drive.google.com/file/d/1V5uYYt7L5-R0bNbN4evmv6qrgQACmXXZ/view?usp=sharing\"\r\n",
        "id = '1V5uYYt7L5-R0bNbN4evmv6qrgQACmXXZ'\r\n",
        "\r\n",
        "downloaded = drive.CreateFile({'id':id}) \r\n",
        "downloaded.GetContentFile('fm_jay_warp.csv')  \r\n",
        "fm_all_predictions = pd.read_csv('fm_jay_warp.csv')"
      ],
      "execution_count": 28,
      "outputs": []
    },
    {
      "cell_type": "code",
      "metadata": {
        "id": "5IU8nsanyxEs"
      },
      "source": [
        "fm_all_predictions = fm_all_predictions.rename(columns = {'userId': 'userID', 'movieId': 'itemID','predictions':'prediction'})\r\n",
        "ndcg_fm = get_ndcg(fm_all_predictions)"
      ],
      "execution_count": 12,
      "outputs": []
    },
    {
      "cell_type": "code",
      "metadata": {
        "colab": {
          "base_uri": "https://localhost:8080/",
          "height": 415
        },
        "id": "EvmCXQ6MzLuO",
        "outputId": "214da186-0d48-4f1d-d25f-e7e2852cc34f"
      },
      "source": [
        "fm_all_predictions"
      ],
      "execution_count": 13,
      "outputs": [
        {
          "output_type": "execute_result",
          "data": {
            "text/html": [
              "<div>\n",
              "<style scoped>\n",
              "    .dataframe tbody tr th:only-of-type {\n",
              "        vertical-align: middle;\n",
              "    }\n",
              "\n",
              "    .dataframe tbody tr th {\n",
              "        vertical-align: top;\n",
              "    }\n",
              "\n",
              "    .dataframe thead th {\n",
              "        text-align: right;\n",
              "    }\n",
              "</style>\n",
              "<table border=\"1\" class=\"dataframe\">\n",
              "  <thead>\n",
              "    <tr style=\"text-align: right;\">\n",
              "      <th></th>\n",
              "      <th>userID</th>\n",
              "      <th>itemID</th>\n",
              "      <th>prediction</th>\n",
              "    </tr>\n",
              "  </thead>\n",
              "  <tbody>\n",
              "    <tr>\n",
              "      <th>0</th>\n",
              "      <td>2</td>\n",
              "      <td>1</td>\n",
              "      <td>0.280174</td>\n",
              "    </tr>\n",
              "    <tr>\n",
              "      <th>1</th>\n",
              "      <td>12</td>\n",
              "      <td>1</td>\n",
              "      <td>1.717696</td>\n",
              "    </tr>\n",
              "    <tr>\n",
              "      <th>2</th>\n",
              "      <td>23</td>\n",
              "      <td>1</td>\n",
              "      <td>0.678881</td>\n",
              "    </tr>\n",
              "    <tr>\n",
              "      <th>3</th>\n",
              "      <td>26</td>\n",
              "      <td>1</td>\n",
              "      <td>-0.256426</td>\n",
              "    </tr>\n",
              "    <tr>\n",
              "      <th>4</th>\n",
              "      <td>72</td>\n",
              "      <td>1</td>\n",
              "      <td>-0.301649</td>\n",
              "    </tr>\n",
              "    <tr>\n",
              "      <th>...</th>\n",
              "      <td>...</td>\n",
              "      <td>...</td>\n",
              "      <td>...</td>\n",
              "    </tr>\n",
              "    <tr>\n",
              "      <th>22506499</th>\n",
              "      <td>283143</td>\n",
              "      <td>180031</td>\n",
              "      <td>-3.191065</td>\n",
              "    </tr>\n",
              "    <tr>\n",
              "      <th>22506500</th>\n",
              "      <td>283147</td>\n",
              "      <td>180031</td>\n",
              "      <td>-2.237424</td>\n",
              "    </tr>\n",
              "    <tr>\n",
              "      <th>22506501</th>\n",
              "      <td>283175</td>\n",
              "      <td>180031</td>\n",
              "      <td>-3.950055</td>\n",
              "    </tr>\n",
              "    <tr>\n",
              "      <th>22506502</th>\n",
              "      <td>283184</td>\n",
              "      <td>180031</td>\n",
              "      <td>-5.595064</td>\n",
              "    </tr>\n",
              "    <tr>\n",
              "      <th>22506503</th>\n",
              "      <td>283187</td>\n",
              "      <td>180031</td>\n",
              "      <td>-2.943063</td>\n",
              "    </tr>\n",
              "  </tbody>\n",
              "</table>\n",
              "<p>22506504 rows × 3 columns</p>\n",
              "</div>"
            ],
            "text/plain": [
              "          userID  itemID  prediction\n",
              "0              2       1    0.280174\n",
              "1             12       1    1.717696\n",
              "2             23       1    0.678881\n",
              "3             26       1   -0.256426\n",
              "4             72       1   -0.301649\n",
              "...          ...     ...         ...\n",
              "22506499  283143  180031   -3.191065\n",
              "22506500  283147  180031   -2.237424\n",
              "22506501  283175  180031   -3.950055\n",
              "22506502  283184  180031   -5.595064\n",
              "22506503  283187  180031   -2.943063\n",
              "\n",
              "[22506504 rows x 3 columns]"
            ]
          },
          "metadata": {
            "tags": []
          },
          "execution_count": 13
        }
      ]
    },
    {
      "cell_type": "code",
      "metadata": {
        "colab": {
          "base_uri": "https://localhost:8080/"
        },
        "id": "b4B4Nwtz1x0I",
        "outputId": "d87519a6-8fba-4593-df3f-e12c81d86024"
      },
      "source": [
        "fm_ls=evals(fm_all_predictions,test)"
      ],
      "execution_count": 14,
      "outputs": [
        {
          "output_type": "stream",
          "text": [
            "MAP:\t0.011089\n",
            "NDCG:\t0.000000\n",
            "Precision@K:\t0.100394\n",
            "Recall@K:\t0.011089\n",
            "MAP:\t0.016227\n",
            "NDCG:\t0.000000\n",
            "Precision@K:\t0.093584\n",
            "Recall@K:\t0.020455\n",
            "MAP:\t0.019264\n",
            "NDCG:\t0.000000\n",
            "Precision@K:\t0.088655\n",
            "Recall@K:\t0.028228\n",
            "MAP:\t0.021300\n",
            "NDCG:\t0.000000\n",
            "Precision@K:\t0.083722\n",
            "Recall@K:\t0.034796\n",
            "MAP:\t0.022882\n",
            "NDCG:\t0.000000\n",
            "Precision@K:\t0.079829\n",
            "Recall@K:\t0.040708\n",
            "MAP:\t0.023993\n",
            "NDCG:\t0.000000\n",
            "Precision@K:\t0.076155\n",
            "Recall@K:\t0.045431\n",
            "MAP:\t0.024886\n",
            "NDCG:\t0.000000\n",
            "Precision@K:\t0.072787\n",
            "Recall@K:\t0.049828\n",
            "MAP:\t0.025694\n",
            "NDCG:\t0.000000\n",
            "Precision@K:\t0.070121\n",
            "Recall@K:\t0.054159\n",
            "MAP:\t0.026366\n",
            "NDCG:\t0.000000\n",
            "Precision@K:\t0.067545\n",
            "Recall@K:\t0.058013\n",
            "MAP:\t0.026982\n",
            "NDCG:\t0.000000\n",
            "Precision@K:\t0.065485\n",
            "Recall@K:\t0.061851\n"
          ],
          "name": "stdout"
        }
      ]
    },
    {
      "cell_type": "code",
      "metadata": {
        "colab": {
          "base_uri": "https://localhost:8080/"
        },
        "id": "Hk3wv2bH6WW_",
        "outputId": "30482ec1-cb6c-42a6-fd33-67c25b0de8be"
      },
      "source": [
        "from google.colab import drive\n",
        "drive.mount('/content/drive')"
      ],
      "execution_count": 13,
      "outputs": [
        {
          "output_type": "stream",
          "text": [
            "Mounted at /content/drive\n"
          ],
          "name": "stdout"
        }
      ]
    },
    {
      "cell_type": "code",
      "metadata": {
        "colab": {
          "base_uri": "https://localhost:8080/",
          "height": 355
        },
        "id": "obqzpjNR6VY2",
        "outputId": "c6f7c673-480b-4379-891f-935679923876"
      },
      "source": [
        "columns = ['MAP','ndcg', 'precision','recall','k']\r\n",
        "df = pd.DataFrame(fm_ls, columns=columns)\r\n",
        "df"
      ],
      "execution_count": 16,
      "outputs": [
        {
          "output_type": "execute_result",
          "data": {
            "text/html": [
              "<div>\n",
              "<style scoped>\n",
              "    .dataframe tbody tr th:only-of-type {\n",
              "        vertical-align: middle;\n",
              "    }\n",
              "\n",
              "    .dataframe tbody tr th {\n",
              "        vertical-align: top;\n",
              "    }\n",
              "\n",
              "    .dataframe thead th {\n",
              "        text-align: right;\n",
              "    }\n",
              "</style>\n",
              "<table border=\"1\" class=\"dataframe\">\n",
              "  <thead>\n",
              "    <tr style=\"text-align: right;\">\n",
              "      <th></th>\n",
              "      <th>MAP</th>\n",
              "      <th>ndcg</th>\n",
              "      <th>precision</th>\n",
              "      <th>recall</th>\n",
              "      <th>k</th>\n",
              "    </tr>\n",
              "  </thead>\n",
              "  <tbody>\n",
              "    <tr>\n",
              "      <th>0</th>\n",
              "      <td>0.011089</td>\n",
              "      <td>0</td>\n",
              "      <td>0.100394</td>\n",
              "      <td>0.011089</td>\n",
              "      <td>1</td>\n",
              "    </tr>\n",
              "    <tr>\n",
              "      <th>1</th>\n",
              "      <td>0.016227</td>\n",
              "      <td>0</td>\n",
              "      <td>0.093584</td>\n",
              "      <td>0.020455</td>\n",
              "      <td>2</td>\n",
              "    </tr>\n",
              "    <tr>\n",
              "      <th>2</th>\n",
              "      <td>0.019264</td>\n",
              "      <td>0</td>\n",
              "      <td>0.088655</td>\n",
              "      <td>0.028228</td>\n",
              "      <td>3</td>\n",
              "    </tr>\n",
              "    <tr>\n",
              "      <th>3</th>\n",
              "      <td>0.021300</td>\n",
              "      <td>0</td>\n",
              "      <td>0.083722</td>\n",
              "      <td>0.034796</td>\n",
              "      <td>4</td>\n",
              "    </tr>\n",
              "    <tr>\n",
              "      <th>4</th>\n",
              "      <td>0.022882</td>\n",
              "      <td>0</td>\n",
              "      <td>0.079829</td>\n",
              "      <td>0.040708</td>\n",
              "      <td>5</td>\n",
              "    </tr>\n",
              "    <tr>\n",
              "      <th>5</th>\n",
              "      <td>0.023993</td>\n",
              "      <td>0</td>\n",
              "      <td>0.076155</td>\n",
              "      <td>0.045431</td>\n",
              "      <td>6</td>\n",
              "    </tr>\n",
              "    <tr>\n",
              "      <th>6</th>\n",
              "      <td>0.024886</td>\n",
              "      <td>0</td>\n",
              "      <td>0.072787</td>\n",
              "      <td>0.049828</td>\n",
              "      <td>7</td>\n",
              "    </tr>\n",
              "    <tr>\n",
              "      <th>7</th>\n",
              "      <td>0.025694</td>\n",
              "      <td>0</td>\n",
              "      <td>0.070121</td>\n",
              "      <td>0.054159</td>\n",
              "      <td>8</td>\n",
              "    </tr>\n",
              "    <tr>\n",
              "      <th>8</th>\n",
              "      <td>0.026366</td>\n",
              "      <td>0</td>\n",
              "      <td>0.067545</td>\n",
              "      <td>0.058013</td>\n",
              "      <td>9</td>\n",
              "    </tr>\n",
              "    <tr>\n",
              "      <th>9</th>\n",
              "      <td>0.026982</td>\n",
              "      <td>0</td>\n",
              "      <td>0.065485</td>\n",
              "      <td>0.061851</td>\n",
              "      <td>10</td>\n",
              "    </tr>\n",
              "  </tbody>\n",
              "</table>\n",
              "</div>"
            ],
            "text/plain": [
              "        MAP  ndcg  precision    recall   k\n",
              "0  0.011089     0   0.100394  0.011089   1\n",
              "1  0.016227     0   0.093584  0.020455   2\n",
              "2  0.019264     0   0.088655  0.028228   3\n",
              "3  0.021300     0   0.083722  0.034796   4\n",
              "4  0.022882     0   0.079829  0.040708   5\n",
              "5  0.023993     0   0.076155  0.045431   6\n",
              "6  0.024886     0   0.072787  0.049828   7\n",
              "7  0.025694     0   0.070121  0.054159   8\n",
              "8  0.026366     0   0.067545  0.058013   9\n",
              "9  0.026982     0   0.065485  0.061851  10"
            ]
          },
          "metadata": {
            "tags": []
          },
          "execution_count": 16
        }
      ]
    },
    {
      "cell_type": "code",
      "metadata": {
        "id": "nukhsqKz6ly7"
      },
      "source": [
        "df.to_csv('/content/drive/MyDrive/main_data/fm_evalj.csv')"
      ],
      "execution_count": 17,
      "outputs": []
    },
    {
      "cell_type": "code",
      "metadata": {
        "id": "X9lZafyI65SZ"
      },
      "source": [
        "columns = ['ndcg','k']\r\n",
        "df_ = pd.DataFrame(ndcg_fm, columns=columns)\r\n",
        "df_.to_csv('/content/drive/MyDrive/main_data/fmj_ndcg.csv')"
      ],
      "execution_count": 20,
      "outputs": []
    },
    {
      "cell_type": "markdown",
      "metadata": {
        "id": "jvGneEjvIVpD"
      },
      "source": [
        "HYBRID MODEL"
      ]
    },
    {
      "cell_type": "code",
      "metadata": {
        "id": "baidFHsW-oEy"
      },
      "source": [
        "# New Hybrid\r\n",
        "link = \"https://drive.google.com/file/d/1bUjoTPlRvIxfj4Vr2QjSC3NwyNqt8xQK/view?usp=sharing\"\r\n",
        "idh = '1bUjoTPlRvIxfj4Vr2QjSC3NwyNqt8xQK'\r\n",
        "\r\n",
        "downloaded = drive.CreateFile({'id':idh}) \r\n",
        "downloaded.GetContentFile('new_hybrid_preds.csv')  \r\n",
        "new_hybrid_predictions = pd.read_csv('new_hybrid_preds.csv')"
      ],
      "execution_count": 10,
      "outputs": []
    },
    {
      "cell_type": "code",
      "metadata": {
        "id": "QE01nT5R__ef"
      },
      "source": [
        "new_hybrid_predictions.drop(columns=['Unnamed: 0','ncf_ann_prediction','fm_prediction'],inplace=True)"
      ],
      "execution_count": 11,
      "outputs": []
    },
    {
      "cell_type": "code",
      "metadata": {
        "colab": {
          "base_uri": "https://localhost:8080/"
        },
        "id": "XUte4oI5AOcL",
        "outputId": "81419d13-ae33-455e-8cc5-a7f876bda0fc"
      },
      "source": [
        "ndcg_new_hybrid = get_ndcg(new_hybrid_predictions)\r\n",
        "print(ndcg_new_hybrid)"
      ],
      "execution_count": 32,
      "outputs": [
        {
          "output_type": "stream",
          "text": [
            "[[0.0, 1], [0.14830949900558765, 2], [0.25824395051310484, 3], [0.3273186674686031, 4], [0.3723917255129772, 5], [0.403644440601673, 6], [0.42446305295297343, 7], [0.4373536172575458, 8], [0.4481728967522152, 9], [0.4558907885796073, 10]]\n"
          ],
          "name": "stdout"
        }
      ]
    },
    {
      "cell_type": "code",
      "metadata": {
        "id": "c2t96lgOB6wP"
      },
      "source": [
        "columns = ['ndcg','k']\r\n",
        "df_hybrd = pd.DataFrame(ndcg_new_hybrid, columns=columns)\r\n",
        "df_hybrd.to_csv('/content/drive/MyDrive/main_data/ndcg_new_hybrid.csv')"
      ],
      "execution_count": 33,
      "outputs": []
    },
    {
      "cell_type": "code",
      "metadata": {
        "colab": {
          "base_uri": "https://localhost:8080/"
        },
        "id": "EaGoZCs1CMKj",
        "outputId": "3b025e3b-da8d-44ad-ca11-c2e3fc9ab514"
      },
      "source": [
        "new_hybrid_ls = evals(new_hybrid_predictions,test)"
      ],
      "execution_count": 12,
      "outputs": [
        {
          "output_type": "stream",
          "text": [
            "MAP:\t0.016301\n",
            "NDCG:\t0.000000\n",
            "Precision@K:\t0.170144\n",
            "Recall@K:\t0.016301\n",
            "MAP:\t0.022412\n",
            "NDCG:\t0.000000\n",
            "Precision@K:\t0.145338\n",
            "Recall@K:\t0.026566\n",
            "MAP:\t0.025892\n",
            "NDCG:\t0.000000\n",
            "Precision@K:\t0.129757\n",
            "Recall@K:\t0.034505\n",
            "MAP:\t0.028257\n",
            "NDCG:\t0.000000\n",
            "Precision@K:\t0.118221\n",
            "Recall@K:\t0.041058\n",
            "MAP:\t0.029964\n",
            "NDCG:\t0.000000\n",
            "Precision@K:\t0.109237\n",
            "Recall@K:\t0.046930\n",
            "MAP:\t0.031307\n",
            "NDCG:\t0.000000\n",
            "Precision@K:\t0.102502\n",
            "Recall@K:\t0.052009\n",
            "MAP:\t0.032417\n",
            "NDCG:\t0.000000\n",
            "Precision@K:\t0.096649\n",
            "Recall@K:\t0.056646\n",
            "MAP:\t0.033287\n",
            "NDCG:\t0.000000\n",
            "Precision@K:\t0.091523\n",
            "Recall@K:\t0.060693\n",
            "MAP:\t0.034140\n",
            "NDCG:\t0.000000\n",
            "Precision@K:\t0.087520\n",
            "Recall@K:\t0.065122\n",
            "MAP:\t0.034854\n",
            "NDCG:\t0.000000\n",
            "Precision@K:\t0.083837\n",
            "Recall@K:\t0.069230\n"
          ],
          "name": "stdout"
        }
      ]
    },
    {
      "cell_type": "code",
      "metadata": {
        "colab": {
          "base_uri": "https://localhost:8080/",
          "height": 355
        },
        "id": "fU4Xvkk5ChH8",
        "outputId": "bee51158-28c6-476b-8d53-7ba83c08bea9"
      },
      "source": [
        "columns = ['MAP','ndcg', 'precision','recall','k']\r\n",
        "hybrid_df = pd.DataFrame(new_hybrid_ls, columns=columns)\r\n",
        "hybrid_df.to_csv('/content/drive/MyDrive/main_data/eval_new_hybrid.csv')\r\n",
        "hybrid_df"
      ],
      "execution_count": 14,
      "outputs": [
        {
          "output_type": "execute_result",
          "data": {
            "text/html": [
              "<div>\n",
              "<style scoped>\n",
              "    .dataframe tbody tr th:only-of-type {\n",
              "        vertical-align: middle;\n",
              "    }\n",
              "\n",
              "    .dataframe tbody tr th {\n",
              "        vertical-align: top;\n",
              "    }\n",
              "\n",
              "    .dataframe thead th {\n",
              "        text-align: right;\n",
              "    }\n",
              "</style>\n",
              "<table border=\"1\" class=\"dataframe\">\n",
              "  <thead>\n",
              "    <tr style=\"text-align: right;\">\n",
              "      <th></th>\n",
              "      <th>MAP</th>\n",
              "      <th>ndcg</th>\n",
              "      <th>precision</th>\n",
              "      <th>recall</th>\n",
              "      <th>k</th>\n",
              "    </tr>\n",
              "  </thead>\n",
              "  <tbody>\n",
              "    <tr>\n",
              "      <th>0</th>\n",
              "      <td>0.016301</td>\n",
              "      <td>0</td>\n",
              "      <td>0.170144</td>\n",
              "      <td>0.016301</td>\n",
              "      <td>1</td>\n",
              "    </tr>\n",
              "    <tr>\n",
              "      <th>1</th>\n",
              "      <td>0.022412</td>\n",
              "      <td>0</td>\n",
              "      <td>0.145338</td>\n",
              "      <td>0.026566</td>\n",
              "      <td>2</td>\n",
              "    </tr>\n",
              "    <tr>\n",
              "      <th>2</th>\n",
              "      <td>0.025892</td>\n",
              "      <td>0</td>\n",
              "      <td>0.129757</td>\n",
              "      <td>0.034505</td>\n",
              "      <td>3</td>\n",
              "    </tr>\n",
              "    <tr>\n",
              "      <th>3</th>\n",
              "      <td>0.028257</td>\n",
              "      <td>0</td>\n",
              "      <td>0.118221</td>\n",
              "      <td>0.041058</td>\n",
              "      <td>4</td>\n",
              "    </tr>\n",
              "    <tr>\n",
              "      <th>4</th>\n",
              "      <td>0.029964</td>\n",
              "      <td>0</td>\n",
              "      <td>0.109237</td>\n",
              "      <td>0.046930</td>\n",
              "      <td>5</td>\n",
              "    </tr>\n",
              "    <tr>\n",
              "      <th>5</th>\n",
              "      <td>0.031307</td>\n",
              "      <td>0</td>\n",
              "      <td>0.102502</td>\n",
              "      <td>0.052009</td>\n",
              "      <td>6</td>\n",
              "    </tr>\n",
              "    <tr>\n",
              "      <th>6</th>\n",
              "      <td>0.032417</td>\n",
              "      <td>0</td>\n",
              "      <td>0.096649</td>\n",
              "      <td>0.056646</td>\n",
              "      <td>7</td>\n",
              "    </tr>\n",
              "    <tr>\n",
              "      <th>7</th>\n",
              "      <td>0.033287</td>\n",
              "      <td>0</td>\n",
              "      <td>0.091523</td>\n",
              "      <td>0.060693</td>\n",
              "      <td>8</td>\n",
              "    </tr>\n",
              "    <tr>\n",
              "      <th>8</th>\n",
              "      <td>0.034140</td>\n",
              "      <td>0</td>\n",
              "      <td>0.087520</td>\n",
              "      <td>0.065122</td>\n",
              "      <td>9</td>\n",
              "    </tr>\n",
              "    <tr>\n",
              "      <th>9</th>\n",
              "      <td>0.034854</td>\n",
              "      <td>0</td>\n",
              "      <td>0.083837</td>\n",
              "      <td>0.069230</td>\n",
              "      <td>10</td>\n",
              "    </tr>\n",
              "  </tbody>\n",
              "</table>\n",
              "</div>"
            ],
            "text/plain": [
              "        MAP  ndcg  precision    recall   k\n",
              "0  0.016301     0   0.170144  0.016301   1\n",
              "1  0.022412     0   0.145338  0.026566   2\n",
              "2  0.025892     0   0.129757  0.034505   3\n",
              "3  0.028257     0   0.118221  0.041058   4\n",
              "4  0.029964     0   0.109237  0.046930   5\n",
              "5  0.031307     0   0.102502  0.052009   6\n",
              "6  0.032417     0   0.096649  0.056646   7\n",
              "7  0.033287     0   0.091523  0.060693   8\n",
              "8  0.034140     0   0.087520  0.065122   9\n",
              "9  0.034854     0   0.083837  0.069230  10"
            ]
          },
          "metadata": {
            "tags": []
          },
          "execution_count": 14
        }
      ]
    },
    {
      "cell_type": "markdown",
      "metadata": {
        "id": "Ciwt43RILG58"
      },
      "source": [
        "## ANN - NCF Evaluations"
      ]
    },
    {
      "cell_type": "code",
      "metadata": {
        "id": "V3r4WuzlXLiv"
      },
      "source": [
        "all_predictions=pd.read_csv('/content/drive/MyDrive/main_data/ncf_ann100_data_preds.csv')"
      ],
      "execution_count": null,
      "outputs": []
    },
    {
      "cell_type": "code",
      "metadata": {
        "colab": {
          "base_uri": "https://localhost:8080/"
        },
        "id": "zqCvlwnMHtLv",
        "outputId": "8e87f103-db24-4241-dc68-57a22de09ce4"
      },
      "source": [
        "ann_ncf_ls=evals(all_predictions,test)"
      ],
      "execution_count": null,
      "outputs": [
        {
          "output_type": "stream",
          "text": [
            "MAP:\t0.038849\n",
            "NDCG:\t0.000000\n",
            "Precision@K:\t0.330512\n",
            "Recall@K:\t0.038849\n",
            "MAP:\t0.059252\n",
            "NDCG:\t0.000000\n",
            "Precision@K:\t0.302155\n",
            "Recall@K:\t0.068302\n",
            "MAP:\t0.073606\n",
            "NDCG:\t0.000000\n",
            "Precision@K:\t0.283444\n",
            "Recall@K:\t0.094363\n",
            "MAP:\t0.083827\n",
            "NDCG:\t0.000000\n",
            "Precision@K:\t0.268119\n",
            "Recall@K:\t0.115777\n",
            "MAP:\t0.091738\n",
            "NDCG:\t0.000000\n",
            "Precision@K:\t0.254594\n",
            "Recall@K:\t0.134254\n",
            "MAP:\t0.098400\n",
            "NDCG:\t0.000000\n",
            "Precision@K:\t0.243600\n",
            "Recall@K:\t0.151498\n",
            "MAP:\t0.103894\n",
            "NDCG:\t0.000000\n",
            "Precision@K:\t0.233224\n",
            "Recall@K:\t0.167300\n",
            "MAP:\t0.108697\n",
            "NDCG:\t0.000000\n",
            "Precision@K:\t0.224604\n",
            "Recall@K:\t0.181512\n",
            "MAP:\t0.112926\n",
            "NDCG:\t0.000000\n",
            "Precision@K:\t0.216850\n",
            "Recall@K:\t0.195114\n",
            "MAP:\t0.116667\n",
            "NDCG:\t0.000000\n",
            "Precision@K:\t0.210039\n",
            "Recall@K:\t0.207403\n"
          ],
          "name": "stdout"
        }
      ]
    },
    {
      "cell_type": "code",
      "metadata": {
        "id": "G0poqAqpnAp1"
      },
      "source": [
        "# columns = ['MAP','ndcg', 'precision','recall','k']\r\n",
        "# df_ = pd.DataFrame(ann_ncf_ls, columns=columns)\r\n",
        "# df_.to_csv('/content/drive/MyDrive/main_data/ann_ncf_eval1.csv')"
      ],
      "execution_count": null,
      "outputs": []
    },
    {
      "cell_type": "code",
      "metadata": {
        "id": "JIbl2kHtIeOK"
      },
      "source": [
        "columns = ['MAP','ndcg', 'precision','recall','k']\r\n",
        "df_ = pd.DataFrame(lst, columns=columns)\r\n",
        "df_.to_csv('/content/drive/MyDrive/main_data/ncf_ann100_eval1.csv')"
      ],
      "execution_count": null,
      "outputs": []
    },
    {
      "cell_type": "code",
      "metadata": {
        "colab": {
          "base_uri": "https://localhost:8080/"
        },
        "id": "pG_5_VILQ9EA",
        "outputId": "d2b3180b-13a7-4556-a84e-df99f4f79775"
      },
      "source": [
        "all_predictions=pd.read_csv('/content/drive/MyDrive/main_data/all_predictions_bias_baseline.csv')\r\n",
        "all_predictions.drop(['Unnamed: 0','timestamp','date','year',],axis=1,inplace=True)\r\n",
        "all_predictions.rename({'userId': 'userID', 'movieId': 'itemID','predictions':'prediction'}, axis=1, inplace=True)\r\n",
        "\r\n",
        "lst=[]\r\n",
        "for k in range(10):\r\n",
        "  i=k+1\r\n",
        "  TOP_K = i\r\n",
        "  eval_map = map_at_k(test, all_predictions, col_prediction='prediction', k=TOP_K)\r\n",
        "  eval_ndcg = 0\r\n",
        "  eval_precision = precision_at_k(test, all_predictions, col_prediction='prediction', k=TOP_K)\r\n",
        "  eval_recall = recall_at_k(test, all_predictions, col_prediction='prediction', k=TOP_K)\r\n",
        "  lst.append([eval_map,eval_ndcg,eval_precision,eval_recall,i])\r\n",
        "  print(\"MAP:\\t%f\" % eval_map,\r\n",
        "      \"NDCG:\\t%f\" % eval_ndcg,\r\n",
        "      \"Precision@K:\\t%f\" % eval_precision,\r\n",
        "      \"Recall@K:\\t%f\" % eval_recall, sep='\\n')"
      ],
      "execution_count": null,
      "outputs": [
        {
          "output_type": "stream",
          "text": [
            "MAP:\t0.000318\n",
            "NDCG:\t0.000000\n",
            "Precision@K:\t0.006810\n",
            "Recall@K:\t0.000318\n",
            "MAP:\t0.010791\n",
            "NDCG:\t0.000000\n",
            "Precision@K:\t0.071866\n",
            "Recall@K:\t0.021204\n",
            "MAP:\t0.010865\n",
            "NDCG:\t0.000000\n",
            "Precision@K:\t0.049775\n",
            "Recall@K:\t0.021382\n",
            "MAP:\t0.011012\n",
            "NDCG:\t0.000000\n",
            "Precision@K:\t0.041077\n",
            "Recall@K:\t0.021890\n",
            "MAP:\t0.012785\n",
            "NDCG:\t0.000000\n",
            "Precision@K:\t0.053125\n",
            "Recall@K:\t0.030373\n",
            "MAP:\t0.015640\n",
            "NDCG:\t0.000000\n",
            "Precision@K:\t0.064862\n",
            "Recall@K:\t0.043539\n",
            "MAP:\t0.017314\n",
            "NDCG:\t0.000000\n",
            "Precision@K:\t0.066075\n",
            "Recall@K:\t0.051490\n",
            "MAP:\t0.018137\n",
            "NDCG:\t0.000000\n",
            "Precision@K:\t0.063445\n",
            "Recall@K:\t0.055584\n",
            "MAP:\t0.018814\n",
            "NDCG:\t0.000000\n",
            "Precision@K:\t0.060190\n",
            "Recall@K:\t0.059543\n",
            "MAP:\t0.019247\n",
            "NDCG:\t0.000000\n",
            "Precision@K:\t0.056360\n",
            "Recall@K:\t0.062446\n"
          ],
          "name": "stdout"
        }
      ]
    },
    {
      "cell_type": "code",
      "metadata": {
        "id": "NKhxhcPYVnPq"
      },
      "source": [
        "columns = ['MAP','ndcg', 'precision','recall','k']\r\n",
        "df_ = pd.DataFrame(lst, columns=columns)\r\n",
        "df_.to_csv('/content/drive/MyDrive/main_data/bias_baseline_eval1.csv')"
      ],
      "execution_count": null,
      "outputs": []
    },
    {
      "cell_type": "markdown",
      "metadata": {
        "id": "x4j04fIMLN0W"
      },
      "source": [
        "## ANN- user user evaluations"
      ]
    },
    {
      "cell_type": "code",
      "metadata": {
        "id": "2mh415KQVwkD"
      },
      "source": [
        "!pip install -U -q PyDrive\r\n",
        "from pydrive.auth import GoogleAuth\r\n",
        "from pydrive.drive import GoogleDrive\r\n",
        "from google.colab import auth\r\n",
        "from oauth2client.client import GoogleCredentials\r\n",
        "\r\n",
        "auth.authenticate_user()\r\n",
        "gauth = GoogleAuth()\r\n",
        "gauth.credentials = GoogleCredentials.get_application_default()\r\n",
        "drive = GoogleDrive(gauth)\r\n",
        "\r\n",
        "id = '1rTUfHwHtHNZ4DszfBD-i0Hh9VWME4bVn'\r\n",
        "\r\n",
        "downloaded = drive.CreateFile({'id':id}) \r\n",
        "downloaded.GetContentFile('final_dataset.csv')  \r\n",
        "all_predictions = pd.read_csv('final_dataset.csv')\r\n",
        "all_predictions.rename({'userId': 'userID', 'movieId': 'itemID','predictions':'prediction'}, axis=1, inplace=True)\r\n"
      ],
      "execution_count": null,
      "outputs": []
    },
    {
      "cell_type": "code",
      "metadata": {
        "colab": {
          "base_uri": "https://localhost:8080/"
        },
        "id": "ssGuKRzfcv7F",
        "outputId": "be1fd2a5-fd3e-4070-ce1b-f102ed13eb7f"
      },
      "source": [
        "ann_uu_ls=evals(all_predictions,test)"
      ],
      "execution_count": null,
      "outputs": [
        {
          "output_type": "stream",
          "text": [
            "MAP:\t0.000466\n",
            "NDCG:\t0.000000\n",
            "Precision@K:\t0.006712\n",
            "Recall@K:\t0.000466\n",
            "MAP:\t0.000744\n",
            "NDCG:\t0.000000\n",
            "Precision@K:\t0.006712\n",
            "Recall@K:\t0.001019\n",
            "MAP:\t0.000892\n",
            "NDCG:\t0.000000\n",
            "Precision@K:\t0.006583\n",
            "Recall@K:\t0.001457\n",
            "MAP:\t0.001044\n",
            "NDCG:\t0.000000\n",
            "Precision@K:\t0.006798\n",
            "Recall@K:\t0.002054\n",
            "MAP:\t0.001124\n",
            "NDCG:\t0.000000\n",
            "Precision@K:\t0.006780\n",
            "Recall@K:\t0.002442\n",
            "MAP:\t0.001203\n",
            "NDCG:\t0.000000\n",
            "Precision@K:\t0.006964\n",
            "Recall@K:\t0.002871\n",
            "MAP:\t0.001303\n",
            "NDCG:\t0.000000\n",
            "Precision@K:\t0.007157\n",
            "Recall@K:\t0.003538\n",
            "MAP:\t0.001385\n",
            "NDCG:\t0.000000\n",
            "Precision@K:\t0.007302\n",
            "Recall@K:\t0.004153\n",
            "MAP:\t0.001453\n",
            "NDCG:\t0.000000\n",
            "Precision@K:\t0.007512\n",
            "Recall@K:\t0.004703\n",
            "MAP:\t0.001516\n",
            "NDCG:\t0.000000\n",
            "Precision@K:\t0.007627\n",
            "Recall@K:\t0.005276\n"
          ],
          "name": "stdout"
        }
      ]
    },
    {
      "cell_type": "code",
      "metadata": {
        "id": "NvsyUJ0Mc4Ht"
      },
      "source": [
        "columns = ['MAP','ndcg', 'precision','recall','k']\r\n",
        "df_ = pd.DataFrame(ann_uu_ls, columns=columns)\r\n",
        "df_.to_csv('/content/drive/MyDrive/main_data/ann_uu_eval1.csv')"
      ],
      "execution_count": null,
      "outputs": []
    },
    {
      "cell_type": "code",
      "metadata": {
        "colab": {
          "base_uri": "https://localhost:8080/"
        },
        "id": "jhIWgRRmhAVO",
        "outputId": "e7748cbd-27f4-4dfe-9c2e-fb2a24ad1cfd"
      },
      "source": [
        "all_predictions=pd.read_csv('/content/drive/MyDrive/main_data/ncf_all_data_preds.csv')\r\n",
        "ncf_all_ls=evals(all_predictions,test)\r\n",
        "columns = ['MAP','ndcg', 'precision','recall','k']\r\n",
        "df_ = pd.DataFrame(ncf_all_ls, columns=columns)\r\n",
        "df_.to_csv('/content/drive/MyDrive/main_data/ncf_all_ls_eval1.csv')"
      ],
      "execution_count": null,
      "outputs": [
        {
          "output_type": "stream",
          "text": [
            "MAP:\t0.038618\n",
            "NDCG:\t0.000000\n",
            "Precision@K:\t0.321562\n",
            "Recall@K:\t0.038618\n",
            "MAP:\t0.059432\n",
            "NDCG:\t0.000000\n",
            "Precision@K:\t0.296902\n",
            "Recall@K:\t0.069095\n",
            "MAP:\t0.073198\n",
            "NDCG:\t0.000000\n",
            "Precision@K:\t0.278726\n",
            "Recall@K:\t0.094749\n",
            "MAP:\t0.083509\n",
            "NDCG:\t0.000000\n",
            "Precision@K:\t0.263996\n",
            "Recall@K:\t0.116698\n",
            "MAP:\t0.091643\n",
            "NDCG:\t0.000000\n",
            "Precision@K:\t0.251131\n",
            "Recall@K:\t0.136244\n",
            "MAP:\t0.098209\n",
            "NDCG:\t0.000000\n",
            "Precision@K:\t0.240462\n",
            "Recall@K:\t0.153223\n",
            "MAP:\t0.103944\n",
            "NDCG:\t0.000000\n",
            "Precision@K:\t0.231397\n",
            "Recall@K:\t0.169620\n",
            "MAP:\t0.108744\n",
            "NDCG:\t0.000000\n",
            "Precision@K:\t0.223144\n",
            "Recall@K:\t0.184505\n",
            "MAP:\t0.112929\n",
            "NDCG:\t0.000000\n",
            "Precision@K:\t0.215531\n",
            "Recall@K:\t0.198282\n",
            "MAP:\t0.116664\n",
            "NDCG:\t0.000000\n",
            "Precision@K:\t0.208804\n",
            "Recall@K:\t0.211091\n"
          ],
          "name": "stdout"
        }
      ]
    },
    {
      "cell_type": "markdown",
      "metadata": {
        "id": "tdtykh6bL5bl"
      },
      "source": [
        "## MF Baseline"
      ]
    },
    {
      "cell_type": "code",
      "metadata": {
        "id": "nMQ9EUacoS2q"
      },
      "source": [
        "!pip install -U -q PyDrive\r\n",
        "from pydrive.auth import GoogleAuth\r\n",
        "from pydrive.drive import GoogleDrive\r\n",
        "from google.colab import auth\r\n",
        "from oauth2client.client import GoogleCredentials\r\n",
        "\r\n",
        "auth.authenticate_user()\r\n",
        "gauth = GoogleAuth()\r\n",
        "gauth.credentials = GoogleCredentials.get_application_default()\r\n",
        "drive = GoogleDrive(gauth)\r\n",
        "\r\n",
        "id = '1AVbw5s6aZFLZGUlupHDbASeXugc869fA'\r\n",
        "\r\n",
        "downloaded = drive.CreateFile({'id':id}) \r\n",
        "downloaded.GetContentFile('final_dataset.csv')  \r\n",
        "all_predictions = pd.read_csv('final_dataset.csv')\r\n"
      ],
      "execution_count": null,
      "outputs": []
    },
    {
      "cell_type": "code",
      "metadata": {
        "id": "brKshd0Gsb02"
      },
      "source": [
        "all_predictions.rename({'userId': 'userID', 'movieId': 'itemID','predictions':'prediction'}, axis=1, inplace=True)\r\n",
        "all_predictions.drop('rating',axis=1,inplace=True)"
      ],
      "execution_count": null,
      "outputs": []
    },
    {
      "cell_type": "code",
      "metadata": {
        "colab": {
          "base_uri": "https://localhost:8080/"
        },
        "id": "QgM_Ty8hsfZS",
        "outputId": "c999547f-5ece-4a90-f82d-3d60574d34ca"
      },
      "source": [
        "mf_baseline_ls=evals(all_predictions,test)\r\n",
        "columns = ['MAP','ndcg', 'precision','recall','k']\r\n",
        "df_ = pd.DataFrame(mf_baseline_ls, columns=columns)\r\n",
        "df_.to_csv('/content/drive/MyDrive/main_data/mf_baseline_ls_eval1.csv')"
      ],
      "execution_count": null,
      "outputs": [
        {
          "output_type": "stream",
          "text": [
            "MAP:\t0.003639\n",
            "NDCG:\t0.000000\n",
            "Precision@K:\t0.035897\n",
            "Recall@K:\t0.003639\n",
            "MAP:\t0.005797\n",
            "NDCG:\t0.000000\n",
            "Precision@K:\t0.037842\n",
            "Recall@K:\t0.007674\n",
            "MAP:\t0.007244\n",
            "NDCG:\t0.000000\n",
            "Precision@K:\t0.037891\n",
            "Recall@K:\t0.011546\n",
            "MAP:\t0.008303\n",
            "NDCG:\t0.000000\n",
            "Precision@K:\t0.038231\n",
            "Recall@K:\t0.015035\n",
            "MAP:\t0.009136\n",
            "NDCG:\t0.000000\n",
            "Precision@K:\t0.038300\n",
            "Recall@K:\t0.018382\n",
            "MAP:\t0.009932\n",
            "NDCG:\t0.000000\n",
            "Precision@K:\t0.038442\n",
            "Recall@K:\t0.022072\n",
            "MAP:\t0.010607\n",
            "NDCG:\t0.000000\n",
            "Precision@K:\t0.038475\n",
            "Recall@K:\t0.025637\n",
            "MAP:\t0.011123\n",
            "NDCG:\t0.000000\n",
            "Precision@K:\t0.038189\n",
            "Recall@K:\t0.028620\n",
            "MAP:\t0.011612\n",
            "NDCG:\t0.000000\n",
            "Precision@K:\t0.037804\n",
            "Recall@K:\t0.031604\n",
            "MAP:\t0.012063\n",
            "NDCG:\t0.000000\n",
            "Precision@K:\t0.037692\n",
            "Recall@K:\t0.034836\n"
          ],
          "name": "stdout"
        }
      ]
    },
    {
      "cell_type": "markdown",
      "metadata": {
        "id": "KcPO2u8aMc8_"
      },
      "source": [
        "## All Models"
      ]
    },
    {
      "cell_type": "code",
      "metadata": {
        "id": "JbhLBG_EtG1Q"
      },
      "source": [
        "pre='/content/drive/MyDrive/main_data/'\r\n",
        "post='_eval1.csv'\r\n",
        "models=['bias_baseline','PMF_baseline','NCF','NCF_ANN','ANN_UU','FM','Hybrid']\r\n",
        "files=['bias_baseline','mf_baseline_ls','ncf_all_ls','ann_ncf','ann_uu','fm','new_hybrid']"
      ],
      "execution_count": 56,
      "outputs": []
    },
    {
      "cell_type": "code",
      "metadata": {
        "id": "0nKrt5Obykd5"
      },
      "source": [
        "columns = ['MAP','ndcg', 'precision','recall','k','model']\r\n",
        "df_ = pd.DataFrame(columns=columns)\r\n",
        "for model,file in zip(models,files):\r\n",
        "  df=pd.read_csv(pre+file+post)\r\n",
        "  df['model']=model\r\n",
        "  df_=df_.append(df)"
      ],
      "execution_count": 57,
      "outputs": []
    },
    {
      "cell_type": "code",
      "metadata": {
        "id": "VFBBeKfMyr1c"
      },
      "source": [
        "def plot_topk_ndcg(dataframe,value):\r\n",
        "    \"\"\"\r\n",
        "    Input: a tidy dataframe with topk for all models\r\n",
        "    Output: a ndcg@k plot\r\n",
        "    \"\"\"\r\n",
        "    ## add more if needed\r\n",
        "    color = ['black','m','goldenrod', 'wheat', 'c',\r\n",
        "            'brown', 'slateblue', 'skyblue', 'yellowgreen', \r\n",
        "             'tomato', 'darkorange', 'lavender'] \r\n",
        "    marker = ['P', '^' ,'o','H', 'v', 'D', 'X', 'p', 'x','*']\r\n",
        "    \r\n",
        "    ## get model names (number of line)\r\n",
        "    dfs = dict(tuple(dataframe.groupby('model')))\r\n",
        "    modelname = dataframe['model'].unique()\r\n",
        "    \r\n",
        "    ## size of template\r\n",
        "    size = len(modelname)\r\n",
        "    colorsize = len(color)\r\n",
        "    markersize = len(marker)\r\n",
        "    tempsize = min(colorsize, markersize)\r\n",
        "    \r\n",
        "    ## plotting\r\n",
        "    fig, ax = plt.subplots(1,1, figsize = (10,6))\r\n",
        "    \r\n",
        "    t = 0 ## default template index\r\n",
        "    for i in range(size):\r\n",
        "        t = i\r\n",
        "        if t > tempsize: ## reset \r\n",
        "            t = 0    \r\n",
        "        ax.plot(dfs[modelname[i]]['k'], dfs[modelname[i]][value], \r\n",
        "            marker=marker[t], color=color[t], linewidth=2, label = modelname[i])\r\n",
        "        t =+ 1\r\n",
        "    ax.legend(prop={'size': 10})\r\n",
        "    ax.set_xlabel(\"k\", fontsize = 20)\r\n",
        "    ax.set_ylabel(value+'@k', fontsize = 20)\r\n",
        "    ax.xaxis.set_tick_params(labelsize = 18)\r\n",
        "    ax.yaxis.set_tick_params(labelsize = 18)\r\n",
        "    ax.legend(bbox_to_anchor=(0.5,1.15), loc=\"upper center\", ncol=5, prop={'size': 13.5})\r\n",
        "    \r\n",
        "    plt.tight_layout()\r\n",
        "    #plt.saveig('figs/ndcg@k.eps', format='eps')\r\n",
        "    \r\n",
        "    return ax"
      ],
      "execution_count": 73,
      "outputs": []
    },
    {
      "cell_type": "code",
      "metadata": {
        "colab": {
          "base_uri": "https://localhost:8080/",
          "height": 440
        },
        "id": "yf4P3Dky0Kly",
        "outputId": "bcf6d079-3661-4e42-c7f1-066b633082e0"
      },
      "source": [
        "plot_topk_ndcg(df_,'precision')\r\n",
        "plt.show()"
      ],
      "execution_count": 74,
      "outputs": [
        {
          "output_type": "display_data",
          "data": {
            "image/png": "[encoded data removed]",
            "text/plain": [
              "<Figure size 720x432 with 1 Axes>"
            ]
          },
          "metadata": {
            "tags": [],
            "needs_background": "light"
          }
        }
      ]
    },
    {
      "cell_type": "code",
      "metadata": {
        "colab": {
          "base_uri": "https://localhost:8080/",
          "height": 440
        },
        "id": "U5EEwr5m0SRt",
        "outputId": "88bc652e-5b89-4910-d785-0b4e8684c7ab"
      },
      "source": [
        "plot_topk_ndcg(df_,'recall')\r\n",
        "plt.show()"
      ],
      "execution_count": 75,
      "outputs": [
        {
          "output_type": "display_data",
          "data": {
            "image/png": "[encoded data removed]",
            "text/plain": [
              "<Figure size 720x432 with 1 Axes>"
            ]
          },
          "metadata": {
            "tags": [],
            "needs_background": "light"
          }
        }
      ]
    },
    {
      "cell_type": "code",
      "metadata": {
        "colab": {
          "base_uri": "https://localhost:8080/",
          "height": 440
        },
        "id": "6Ky0UKlI1gEN",
        "outputId": "91743ccf-fd6a-40fc-f6cd-5bdd987c9310"
      },
      "source": [
        "plot_topk_ndcg(df_,'MAP')\r\n",
        "plt.show()"
      ],
      "execution_count": 76,
      "outputs": [
        {
          "output_type": "display_data",
          "data": {
            "image/png": "[encoded data removed]",
            "text/plain": [
              "<Figure size 720x432 with 1 Axes>"
            ]
          },
          "metadata": {
            "tags": [],
            "needs_background": "light"
          }
        }
      ]
    },
    {
      "cell_type": "code",
      "metadata": {
        "id": "3AoNV37-4P82"
      },
      "source": [
        "def get_pred_data(all_predictions,test):\r\n",
        "  data=pd.merge(all_predictions,test,on=['userID','itemID'],how='inner')\r\n",
        "  return(data)\r\n",
        "def pred_rank(pred):\r\n",
        "    pred.sort_values(['userID', 'rating'], ascending=[True, False],inplace=True)\r\n",
        "    pred[\"rating_rank\"] = pred.groupby(\"userID\")[\"rating\"].rank(\"min\", ascending=False)\r\n",
        "    pred.sort_values(['userID', 'prediction'], ascending=[True, False],inplace=True)\r\n",
        "    pred[\"pred_rank\"] = pred.groupby(\"userID\")[\"prediction\"].rank(\"min\", ascending=False)\r\n",
        "    return(pred)\r\n",
        "def test_all_for_ndcg(pred,data):\r\n",
        "    data.sort_values(['userID', 'prediction'], ascending=[True, False],inplace=True)\r\n",
        "    data[\"pred_rank\"] = data.groupby(\"userID\")[\"prediction\"].rank(\"min\", ascending=False)\r\n",
        "    pred=pred[['userID','itemID','rating_rank','rating']]\r\n",
        "    df = pd.merge(pred, data, on=['userID','itemID'],how='inner')\r\n",
        "    return(df)\r\n",
        "\r\n",
        "\r\n",
        "\r\n",
        "def ndcg_k(data1,k=10):\r\n",
        "    data1['top_10_pred']=1\r\n",
        "    data1.loc[(data1['pred_rank']>=k) ,'top_10_pred'] = 0\r\n",
        "    data1['top_10_rating']=1\r\n",
        "    data1.loc[(data1['rating_rank']>=k) ,'top_10_rating'] = 0\r\n",
        "    data1['relevance']=data1['top_10_pred']*data1['top_10_rating']\r\n",
        "    data1['log_den']=1/(np.log2(data1['pred_rank']+1))\r\n",
        "    data1['dcg_num']=data1['relevance']*data1['log_den']\r\n",
        "    data1[\"idcg_rank\"] = data1.groupby(\"userID\")[\"relevance\"].rank(\"first\", ascending=False)\r\n",
        "    data1[\"idcg_log\"]=1/(np.log2(data1['idcg_rank']+1))\r\n",
        "    data1['idcg_num']=data1['relevance']*data1['idcg_log']\r\n",
        "    user_list = data1['userID'].unique()\r\n",
        "    ndcg=0\r\n",
        "    len_ls=data1['userID'].nunique()\r\n",
        "    for user in user_list:\r\n",
        "      #print(user)\r\n",
        "        _d=data1[data1['userID']==user]\r\n",
        "        if _d['userID'].count()==1:\r\n",
        "            len_ls=len_ls-1\r\n",
        "        else:\r\n",
        "            num=np.sum(data1[data1['userID']==user]['dcg_num'])\r\n",
        "            den=np.sum(data1[data1['userID']==user]['idcg_num'])\r\n",
        "            if den==0:\r\n",
        "                continue\r\n",
        "            else:\r\n",
        "                ndcg+=num/den\r\n",
        "            #break\r\n",
        "    \r\n",
        "    ndcg=ndcg/len_ls\r\n",
        "    return(ndcg)\r\n",
        "\r\n",
        "def get_ndcg(all_predictions):\r\n",
        "  pred=get_pred_data(all_predictions,test)\r\n",
        "  pred=pred_rank(pred)\r\n",
        "  test_all_for_ndcg_=test_all_for_ndcg(pred,all_predictions)\r\n",
        "  lst=[]\r\n",
        "  for i in range(10):\r\n",
        "    lst.append([ndcg_k(test_all_for_ndcg_,k=i+1),i+1])\r\n",
        "  return(lst)"
      ],
      "execution_count": 77,
      "outputs": []
    },
    {
      "cell_type": "code",
      "metadata": {
        "id": "QKKTlpAH5sIL"
      },
      "source": [
        "all_predictions=pd.read_csv('/content/drive/MyDrive/main_data/fm_warp.csv')\r\n",
        "all_predictions.drop(['Unnamed: 0'],axis=1,inplace=True)\r\n",
        "all_predictions.rename({'userId': 'userID', 'movieId': 'itemID'}, axis=1, inplace=True)\r\n",
        "all_predictions['prediction']=5*sigmoid(all_predictions['prediction'])"
      ],
      "execution_count": null,
      "outputs": []
    },
    {
      "cell_type": "code",
      "metadata": {
        "id": "GCtgzev8fdqY"
      },
      "source": [
        "lst1=get_ndcg(all_predictions)\r\n",
        "columns = ['ndcg','k']\r\n",
        "df_ = pd.DataFrame(lst1, columns=columns)\r\n",
        "df_.to_csv('/content/drive/MyDrive/main_data/fm_warp_ndcg.csv')"
      ],
      "execution_count": null,
      "outputs": []
    },
    {
      "cell_type": "code",
      "metadata": {
        "colab": {
          "base_uri": "https://localhost:8080/"
        },
        "id": "VP-IjUIneEW3",
        "outputId": "54ae4d81-fdd4-4a6c-91c4-643139f4911d"
      },
      "source": [
        "FM_warp_ls=evals(all_predictions,test)\r\n",
        "columns = ['MAP','ndcg', 'precision','recall','k']\r\n",
        "df_ = pd.DataFrame(FM_warp_ls, columns=columns)\r\n",
        "df_.to_csv('/content/drive/MyDrive/main_data/FM_warp_ls_eval1.csv')"
      ],
      "execution_count": null,
      "outputs": [
        {
          "output_type": "stream",
          "text": [
            "MAP:\t0.010673\n",
            "NDCG:\t0.000000\n",
            "Precision@K:\t0.094168\n",
            "Recall@K:\t0.010673\n",
            "MAP:\t0.015313\n",
            "NDCG:\t0.000000\n",
            "Precision@K:\t0.089134\n",
            "Recall@K:\t0.019222\n",
            "MAP:\t0.018067\n",
            "NDCG:\t0.000000\n",
            "Precision@K:\t0.083840\n",
            "Recall@K:\t0.026275\n",
            "MAP:\t0.020155\n",
            "NDCG:\t0.000000\n",
            "Precision@K:\t0.080476\n",
            "Recall@K:\t0.033000\n",
            "MAP:\t0.021739\n",
            "NDCG:\t0.000000\n",
            "Precision@K:\t0.077076\n",
            "Recall@K:\t0.039174\n",
            "MAP:\t0.022946\n",
            "NDCG:\t0.000000\n",
            "Precision@K:\t0.074015\n",
            "Recall@K:\t0.044571\n",
            "MAP:\t0.023893\n",
            "NDCG:\t0.000000\n",
            "Precision@K:\t0.071196\n",
            "Recall@K:\t0.049344\n",
            "MAP:\t0.024684\n",
            "NDCG:\t0.000000\n",
            "Precision@K:\t0.068808\n",
            "Recall@K:\t0.053567\n",
            "MAP:\t0.025404\n",
            "NDCG:\t0.000000\n",
            "Precision@K:\t0.066567\n",
            "Recall@K:\t0.058059\n",
            "MAP:\t0.026000\n",
            "NDCG:\t0.000000\n",
            "Precision@K:\t0.064478\n",
            "Recall@K:\t0.061893\n"
          ],
          "name": "stdout"
        }
      ]
    },
    {
      "cell_type": "code",
      "metadata": {
        "id": "xfPeZjc05xnT"
      },
      "source": [
        "all_predictions=pd.read_csv('/content/drive/MyDrive/main_data/ncf_ann100_data_preds.csv')\r\n",
        "lst1=get_ndcg(all_predictions)\r\n",
        "columns = ['ndcg','k']\r\n",
        "df_ = pd.DataFrame(lst1, columns=columns)\r\n",
        "df_.to_csv('/content/drive/MyDrive/main_data/ncf_ann_ndcg.csv')"
      ],
      "execution_count": null,
      "outputs": []
    },
    {
      "cell_type": "code",
      "metadata": {
        "id": "kwxM1U0SZQSO"
      },
      "source": [
        "all_predictions=pd.read_csv('/content/drive/MyDrive/main_data/all_predictions_bias_baseline.csv')\r\n",
        "all_predictions.drop(['Unnamed: 0','timestamp','date','year',],axis=1,inplace=True)\r\n",
        "all_predictions.rename({'userId': 'userID', 'movieId': 'itemID','predictions':'prediction'}, axis=1, inplace=True)"
      ],
      "execution_count": null,
      "outputs": []
    },
    {
      "cell_type": "code",
      "metadata": {
        "colab": {
          "base_uri": "https://localhost:8080/"
        },
        "id": "PQgZllty50ld",
        "outputId": "f263ea52-36ad-45b1-e8c4-bd1dd9195fba"
      },
      "source": [
        "\r\n",
        "lst1=get_ndcg(all_predictions)\r\n",
        "columns = ['ndcg','k']\r\n",
        "df_ = pd.DataFrame(lst1, columns=columns)\r\n",
        "df_.to_csv('/content/drive/MyDrive/main_data/bias_baseline_ndcg.csv')\r\n",
        "print(df_)"
      ],
      "execution_count": null,
      "outputs": [
        {
          "output_type": "stream",
          "text": [
            "       ndcg   k\n",
            "0  0.000000   1\n",
            "1  0.005684   2\n",
            "2  0.066509   3\n",
            "3  0.073858   4\n",
            "4  0.082935   5\n",
            "5  0.114615   6\n",
            "6  0.143560   7\n",
            "7  0.158217   8\n",
            "8  0.167012   9\n",
            "9  0.174299  10\n"
          ],
          "name": "stdout"
        }
      ]
    },
    {
      "cell_type": "code",
      "metadata": {
        "colab": {
          "base_uri": "https://localhost:8080/"
        },
        "id": "8y1kWdHA8TfX",
        "outputId": "c567cb51-5095-4af8-c6c6-0543f05a2a4e"
      },
      "source": [
        "!pip install -U -q PyDrive\r\n",
        "from pydrive.auth import GoogleAuth\r\n",
        "from pydrive.drive import GoogleDrive\r\n",
        "from google.colab import auth\r\n",
        "from oauth2client.client import GoogleCredentials\r\n",
        "\r\n",
        "auth.authenticate_user()\r\n",
        "gauth = GoogleAuth()\r\n",
        "gauth.credentials = GoogleCredentials.get_application_default()\r\n",
        "drive = GoogleDrive(gauth)\r\n",
        "\r\n",
        "id = '1rTUfHwHtHNZ4DszfBD-i0Hh9VWME4bVn'\r\n",
        "\r\n",
        "downloaded = drive.CreateFile({'id':id}) \r\n",
        "downloaded.GetContentFile('final_dataset.csv')  \r\n",
        "all_predictions = pd.read_csv('final_dataset.csv')\r\n",
        "all_predictions.rename({'userId': 'userID', 'movieId': 'itemID','predictions':'prediction'}, axis=1, inplace=True)\r\n",
        "lst1=get_ndcg(all_predictions)\r\n",
        "columns = ['ndcg','k']\r\n",
        "df_ = pd.DataFrame(lst1, columns=columns)\r\n",
        "df_.to_csv('/content/drive/MyDrive/main_data/ann_uu_ndcg.csv')\r\n",
        "print(df_)"
      ],
      "execution_count": null,
      "outputs": [
        {
          "output_type": "stream",
          "text": [
            "       ndcg   k\n",
            "0  0.000000   1\n",
            "1  0.001582   2\n",
            "2  0.003565   3\n",
            "3  0.005288   4\n",
            "4  0.007250   5\n",
            "5  0.009095   6\n",
            "6  0.011045   7\n",
            "7  0.013079   8\n",
            "8  0.015480   9\n",
            "9  0.017951  10\n"
          ],
          "name": "stdout"
        }
      ]
    },
    {
      "cell_type": "code",
      "metadata": {
        "colab": {
          "base_uri": "https://localhost:8080/"
        },
        "id": "5EqT2Abh9AGt",
        "outputId": "40771e16-468d-4d42-9a2b-7a3416c6f9d6"
      },
      "source": [
        "all_predictions=pd.read_csv('/content/drive/MyDrive/main_data/ncf_all_data_preds.csv')\r\n",
        "lst1=get_ndcg(all_predictions)\r\n",
        "columns = ['ndcg','k']\r\n",
        "df_ = pd.DataFrame(lst1, columns=columns)\r\n",
        "df_.to_csv('/content/drive/MyDrive/main_data/ncf_all_ndcg.csv')\r\n",
        "print(df_)"
      ],
      "execution_count": null,
      "outputs": [
        {
          "output_type": "stream",
          "text": [
            "       ndcg   k\n",
            "0  0.000000   1\n",
            "1  0.145900   2\n",
            "2  0.247379   3\n",
            "3  0.314453   4\n",
            "4  0.360491   5\n",
            "5  0.392578   6\n",
            "6  0.415256   7\n",
            "7  0.432048   8\n",
            "8  0.445885   9\n",
            "9  0.455953  10\n"
          ],
          "name": "stdout"
        }
      ]
    },
    {
      "cell_type": "code",
      "metadata": {
        "colab": {
          "base_uri": "https://localhost:8080/"
        },
        "id": "4CQPgCdRF1xN",
        "outputId": "95804da0-7251-4bf6-8515-ccf20e8a4c6c"
      },
      "source": [
        "!pip install -U -q PyDrive\r\n",
        "from pydrive.auth import GoogleAuth\r\n",
        "from pydrive.drive import GoogleDrive\r\n",
        "from google.colab import auth\r\n",
        "from oauth2client.client import GoogleCredentials\r\n",
        "\r\n",
        "auth.authenticate_user()\r\n",
        "gauth = GoogleAuth()\r\n",
        "gauth.credentials = GoogleCredentials.get_application_default()\r\n",
        "drive = GoogleDrive(gauth)\r\n",
        "\r\n",
        "id = '1AVbw5s6aZFLZGUlupHDbASeXugc869fA'\r\n",
        "\r\n",
        "downloaded = drive.CreateFile({'id':id}) \r\n",
        "downloaded.GetContentFile('final_dataset.csv')  \r\n",
        "all_predictions = pd.read_csv('final_dataset.csv')\r\n",
        "\r\n",
        "all_predictions.rename({'userId': 'userID', 'movieId': 'itemID','predictions':'prediction'}, axis=1, inplace=True)\r\n",
        "all_predictions.drop('rating',axis=1,inplace=True)\r\n",
        "lst1=get_ndcg(all_predictions)\r\n",
        "columns = ['ndcg','k']\r\n",
        "df_ = pd.DataFrame(lst1, columns=columns)\r\n",
        "df_.to_csv('/content/drive/MyDrive/main_data/baseline_mf_ndcg.csv')\r\n",
        "print(df_)"
      ],
      "execution_count": null,
      "outputs": [
        {
          "output_type": "stream",
          "text": [
            "       ndcg   k\n",
            "0  0.000000   1\n",
            "1  0.020933   2\n",
            "2  0.038805   3\n",
            "3  0.053227   4\n",
            "4  0.065372   5\n",
            "5  0.076619   6\n",
            "6  0.086413   7\n",
            "7  0.094583   8\n",
            "8  0.101488   9\n",
            "9  0.107493  10\n"
          ],
          "name": "stdout"
        }
      ]
    },
    {
      "cell_type": "code",
      "metadata": {
        "id": "_j1H-U-RGLDS"
      },
      "source": [
        "pre='/content/drive/MyDrive/main_data/'\r\n",
        "post='.csv'\r\n",
        "models=['bias_baseline','PMF_baseline','NCF','NCF_ANN','ANN_UU','FM','Hybrid']\r\n",
        "\r\n",
        "files=['bias_baseline_ndcg','baseline_mf_ndcg','ncf_all_ndcg','ncf_ann_ndcg','ann_uu_ndcg','fmj_ndcg','ndcg_new_hybrid']\r\n",
        "columns = ['ndcg','k']\r\n",
        "df_ = pd.DataFrame(columns=columns)\r\n",
        "for model,file in zip(models,files):\r\n",
        "  df=pd.read_csv(pre+file+post)\r\n",
        "  df['model']=model\r\n",
        "  df_=df_.append(df)"
      ],
      "execution_count": 80,
      "outputs": []
    },
    {
      "cell_type": "code",
      "metadata": {
        "colab": {
          "base_uri": "https://localhost:8080/",
          "height": 440
        },
        "id": "O4-B4BS1OTvM",
        "outputId": "bba82dc3-397b-453c-e7b8-e3d05a68e522"
      },
      "source": [
        "plot_topk_ndcg(df_,'ndcg')\r\n",
        "plt.show()"
      ],
      "execution_count": 81,
      "outputs": [
        {
          "output_type": "display_data",
          "data": {
            "image/png": "[encoded data removed]",
            "text/plain": [
              "<Figure size 720x432 with 1 Axes>"
            ]
          },
          "metadata": {
            "tags": [],
            "needs_background": "light"
          }
        }
      ]
    },
    {
      "cell_type": "code",
      "metadata": {
        "colab": {
          "base_uri": "https://localhost:8080/",
          "height": 459
        },
        "id": "21GJdbjKOXUR",
        "outputId": "2b1821cd-2286-4db8-a9d4-e6e811e28f7c"
      },
      "source": [
        "pre='/content/drive/MyDrive/main_data/'\r\n",
        "post='.csv'\r\n",
        "models=['NCF','NCF_ANN']\r\n",
        "files=['ncf_all_ndcg','ncf_ann_ndcg']\r\n",
        "columns = ['ndcg','k']\r\n",
        "df_ = pd.DataFrame(columns=columns)\r\n",
        "for model,file in zip(models,files):\r\n",
        "  df=pd.read_csv(pre+file+post)\r\n",
        "  df['model']=model\r\n",
        "  df_=df_.append(df)\r\n",
        "\r\n",
        "plot_topk_ndcg(df_,'ndcg')"
      ],
      "execution_count": null,
      "outputs": [
        {
          "output_type": "execute_result",
          "data": {
            "text/plain": [
              "<matplotlib.axes._subplots.AxesSubplot at 0x7fe7ee667dd8>"
            ]
          },
          "metadata": {
            "tags": []
          },
          "execution_count": 87
        },
        {
          "output_type": "display_data",
          "data": {
            "image/png": "[encoded data removed]",
            "text/plain": [
              "<Figure size 720x432 with 1 Axes>"
            ]
          },
          "metadata": {
            "tags": [],
            "needs_background": "light"
          }
        }
      ]
    },
    {
      "cell_type": "code",
      "metadata": {
        "id": "NypEL6dhQHvL"
      },
      "source": [
        "pre='/content/drive/MyDrive/main_data/'\r\n",
        "post='_eval1.csv'\r\n",
        "models=['NCF','NCF_ANN']\r\n",
        "files=['ncf_all_ls','ann_ncf']"
      ],
      "execution_count": null,
      "outputs": []
    },
    {
      "cell_type": "markdown",
      "metadata": {
        "id": "6uEwacDzNY0T"
      },
      "source": [
        "## Precision - Recall for ANN-NCF, NCF"
      ]
    },
    {
      "cell_type": "code",
      "metadata": {
        "id": "c6nyhpohQYs6"
      },
      "source": [
        "columns = ['MAP','ndcg', 'precision','recall','k','model']\r\n",
        "df_ = pd.DataFrame(columns=columns)\r\n",
        "for model,file in zip(models,files):\r\n",
        "  df=pd.read_csv(pre+file+post)\r\n",
        "  df['model']=model\r\n",
        "  df_=df_.append(df)\r\n"
      ],
      "execution_count": null,
      "outputs": []
    },
    {
      "cell_type": "code",
      "metadata": {
        "colab": {
          "base_uri": "https://localhost:8080/",
          "height": 1000
        },
        "id": "ECsOEt3BQcGg",
        "outputId": "29ec7351-f93d-477c-a77a-f1103025082e"
      },
      "source": [
        "plot_topk_ndcg(df_,'precision')\r\n",
        "plot_topk_ndcg(df_,'recall')\r\n",
        "plot_topk_ndcg(df_,'MAP')"
      ],
      "execution_count": null,
      "outputs": [
        {
          "output_type": "execute_result",
          "data": {
            "text/plain": [
              "<matplotlib.axes._subplots.AxesSubplot at 0x7fe7ee128668>"
            ]
          },
          "metadata": {
            "tags": []
          },
          "execution_count": 90
        },
        {
          "output_type": "display_data",
          "data": {
            "image/png": "[encoded data removed]",
            "text/plain": [
              "<Figure size 720x432 with 1 Axes>"
            ]
          },
          "metadata": {
            "tags": [],
            "needs_background": "light"
          }
        },
        {
          "output_type": "display_data",
          "data": {
            "image/png": "[encoded data removed]",
            "text/plain": [
              "<Figure size 720x432 with 1 Axes>"
            ]
          },
          "metadata": {
            "tags": [],
            "needs_background": "light"
          }
        },
        {
          "output_type": "display_data",
          "data": {
            "image/png": "[encoded data removed]",
            "text/plain": [
              "<Figure size 720x432 with 1 Axes>"
            ]
          },
          "metadata": {
            "tags": [],
            "needs_background": "light"
          }
        }
      ]
    },
    {
      "cell_type": "markdown",
      "metadata": {
        "id": "UURYEvQZNnD7"
      },
      "source": [
        "### Coverage - User and catalog calculations"
      ]
    },
    {
      "cell_type": "code",
      "metadata": {
        "id": "u4q5XqYQoLPp"
      },
      "source": [
        "def user_coverage(all_predictions,threshold=3.5,n=10):\r\n",
        "  sub=all_predictions[all_predictions['prediction']>=threshold]\r\n",
        "  user_count=sub.groupby('userID', as_index=False).agg(num_movies=('itemID','count'))\r\n",
        "  user_count_sub=user_count[user_count['num_movies']>=n]\r\n",
        "  return(len(user_count_sub)/all_predictions['userID'].nunique())\r\n",
        "\r\n",
        "def catalogue_coverage(all_predictions,threshold=3.5,n=10):\r\n",
        "  sub=all_predictions[all_predictions['prediction']>=threshold]\r\n",
        "  movie_count=sub.groupby('itemID', as_index=False).agg(num_users=('userID','count'))\r\n",
        "  movie_count_sub=movie_count[movie_count['num_users']>=n]\r\n",
        "  return(len(movie_count_sub)/all_predictions['itemID'].nunique())\r\n"
      ],
      "execution_count": 43,
      "outputs": []
    },
    {
      "cell_type": "code",
      "metadata": {
        "id": "ugcXKmW5CaL-"
      },
      "source": [
        "def coverage(all_predictions,test):\r\n",
        "  lst=[]\r\n",
        "  for k in range(10):\r\n",
        "    i=(k+1)*10\r\n",
        "    TOP_K = i\r\n",
        "    user_cov = user_coverage(all_predictions,threshold=3.5,n=i)\r\n",
        "    cat_cov = catalogue_coverage(all_predictions,threshold=3.5,n=i)\r\n",
        "\r\n",
        "    lst.append([user_cov,cat_cov,i])\r\n",
        "  return(lst)"
      ],
      "execution_count": 44,
      "outputs": []
    },
    {
      "cell_type": "code",
      "metadata": {
        "colab": {
          "base_uri": "https://localhost:8080/",
          "height": 355
        },
        "id": "w6ddm6RpzqYQ",
        "outputId": "f499269d-745f-4b06-cc4e-b7f59db2a41f"
      },
      "source": [
        "all_predictions=pd.read_csv('/content/drive/MyDrive/main_data/new_hybrid_preds.csv')\r\n",
        "\r\n",
        "all_predictions['prediction'] = all_predictions['prediction']*5\r\n",
        "hybrid_cov=coverage(all_predictions,test)\r\n",
        "\r\n",
        "\r\n",
        "columns = ['user_cov','cat_cov', 'k']\r\n",
        "dfh = pd.DataFrame(hybrid_cov, columns=columns)\r\n",
        "dfh.to_csv('/content/drive/MyDrive/main_data/hybrid_cov.csv')\r\n",
        "dfh"
      ],
      "execution_count": 45,
      "outputs": [
        {
          "output_type": "execute_result",
          "data": {
            "text/html": [
              "<div>\n",
              "<style scoped>\n",
              "    .dataframe tbody tr th:only-of-type {\n",
              "        vertical-align: middle;\n",
              "    }\n",
              "\n",
              "    .dataframe tbody tr th {\n",
              "        vertical-align: top;\n",
              "    }\n",
              "\n",
              "    .dataframe thead th {\n",
              "        text-align: right;\n",
              "    }\n",
              "</style>\n",
              "<table border=\"1\" class=\"dataframe\">\n",
              "  <thead>\n",
              "    <tr style=\"text-align: right;\">\n",
              "      <th></th>\n",
              "      <th>user_cov</th>\n",
              "      <th>cat_cov</th>\n",
              "      <th>k</th>\n",
              "    </tr>\n",
              "  </thead>\n",
              "  <tbody>\n",
              "    <tr>\n",
              "      <th>0</th>\n",
              "      <td>0.873987</td>\n",
              "      <td>0.860381</td>\n",
              "      <td>10</td>\n",
              "    </tr>\n",
              "    <tr>\n",
              "      <th>1</th>\n",
              "      <td>0.632688</td>\n",
              "      <td>0.786945</td>\n",
              "      <td>20</td>\n",
              "    </tr>\n",
              "    <tr>\n",
              "      <th>2</th>\n",
              "      <td>0.352341</td>\n",
              "      <td>0.732548</td>\n",
              "      <td>30</td>\n",
              "    </tr>\n",
              "    <tr>\n",
              "      <th>3</th>\n",
              "      <td>0.154239</td>\n",
              "      <td>0.682684</td>\n",
              "      <td>40</td>\n",
              "    </tr>\n",
              "    <tr>\n",
              "      <th>4</th>\n",
              "      <td>0.065176</td>\n",
              "      <td>0.652765</td>\n",
              "      <td>50</td>\n",
              "    </tr>\n",
              "    <tr>\n",
              "      <th>5</th>\n",
              "      <td>0.027892</td>\n",
              "      <td>0.620127</td>\n",
              "      <td>60</td>\n",
              "    </tr>\n",
              "    <tr>\n",
              "      <th>6</th>\n",
              "      <td>0.013493</td>\n",
              "      <td>0.587489</td>\n",
              "      <td>70</td>\n",
              "    </tr>\n",
              "    <tr>\n",
              "      <th>7</th>\n",
              "      <td>0.007533</td>\n",
              "      <td>0.549411</td>\n",
              "      <td>80</td>\n",
              "    </tr>\n",
              "    <tr>\n",
              "      <th>8</th>\n",
              "      <td>0.004482</td>\n",
              "      <td>0.526745</td>\n",
              "      <td>90</td>\n",
              "    </tr>\n",
              "    <tr>\n",
              "      <th>9</th>\n",
              "      <td>0.002861</td>\n",
              "      <td>0.512239</td>\n",
              "      <td>100</td>\n",
              "    </tr>\n",
              "  </tbody>\n",
              "</table>\n",
              "</div>"
            ],
            "text/plain": [
              "   user_cov   cat_cov    k\n",
              "0  0.873987  0.860381   10\n",
              "1  0.632688  0.786945   20\n",
              "2  0.352341  0.732548   30\n",
              "3  0.154239  0.682684   40\n",
              "4  0.065176  0.652765   50\n",
              "5  0.027892  0.620127   60\n",
              "6  0.013493  0.587489   70\n",
              "7  0.007533  0.549411   80\n",
              "8  0.004482  0.526745   90\n",
              "9  0.002861  0.512239  100"
            ]
          },
          "metadata": {
            "tags": []
          },
          "execution_count": 45
        }
      ]
    },
    {
      "cell_type": "code",
      "metadata": {
        "colab": {
          "base_uri": "https://localhost:8080/",
          "height": 363
        },
        "id": "Nk6H8OjwDLfh",
        "outputId": "02b9804f-14b4-44ff-af2d-1bc99b436aa6"
      },
      "source": [
        "all_predictions=pd.read_csv('/content/drive/MyDrive/main_data/ncf_ann100_data_preds.csv')\r\n",
        "all_predictions['prediction']=all_predictions['prediction']*5\r\n",
        "ann100_ncf_cov=coverage(all_predictions,test)\r\n",
        "\r\n",
        "\r\n",
        "columns = ['user_cov','cat_cov', 'k']\r\n",
        "df_ = pd.DataFrame(ann100_ncf_cov, columns=columns)\r\n",
        "df_.to_csv('/content/drive/MyDrive/main_data/ann100_ncf_cov.csv')\r\n",
        "df_"
      ],
      "execution_count": null,
      "outputs": [
        {
          "output_type": "execute_result",
          "data": {
            "text/html": [
              "<div>\n",
              "<style scoped>\n",
              "    .dataframe tbody tr th:only-of-type {\n",
              "        vertical-align: middle;\n",
              "    }\n",
              "\n",
              "    .dataframe tbody tr th {\n",
              "        vertical-align: top;\n",
              "    }\n",
              "\n",
              "    .dataframe thead th {\n",
              "        text-align: right;\n",
              "    }\n",
              "</style>\n",
              "<table border=\"1\" class=\"dataframe\">\n",
              "  <thead>\n",
              "    <tr style=\"text-align: right;\">\n",
              "      <th></th>\n",
              "      <th>user_cov</th>\n",
              "      <th>cat_cov</th>\n",
              "      <th>k</th>\n",
              "    </tr>\n",
              "  </thead>\n",
              "  <tbody>\n",
              "    <tr>\n",
              "      <th>0</th>\n",
              "      <td>0.899018</td>\n",
              "      <td>0.848595</td>\n",
              "      <td>10</td>\n",
              "    </tr>\n",
              "    <tr>\n",
              "      <th>1</th>\n",
              "      <td>0.625060</td>\n",
              "      <td>0.769719</td>\n",
              "      <td>20</td>\n",
              "    </tr>\n",
              "    <tr>\n",
              "      <th>2</th>\n",
              "      <td>0.304615</td>\n",
              "      <td>0.704442</td>\n",
              "      <td>30</td>\n",
              "    </tr>\n",
              "    <tr>\n",
              "      <th>3</th>\n",
              "      <td>0.106274</td>\n",
              "      <td>0.664551</td>\n",
              "      <td>40</td>\n",
              "    </tr>\n",
              "    <tr>\n",
              "      <th>4</th>\n",
              "      <td>0.034376</td>\n",
              "      <td>0.625567</td>\n",
              "      <td>50</td>\n",
              "    </tr>\n",
              "    <tr>\n",
              "      <th>5</th>\n",
              "      <td>0.013731</td>\n",
              "      <td>0.598368</td>\n",
              "      <td>60</td>\n",
              "    </tr>\n",
              "    <tr>\n",
              "      <th>6</th>\n",
              "      <td>0.006723</td>\n",
              "      <td>0.554850</td>\n",
              "      <td>70</td>\n",
              "    </tr>\n",
              "    <tr>\n",
              "      <th>7</th>\n",
              "      <td>0.003719</td>\n",
              "      <td>0.524025</td>\n",
              "      <td>80</td>\n",
              "    </tr>\n",
              "    <tr>\n",
              "      <th>8</th>\n",
              "      <td>0.002241</td>\n",
              "      <td>0.503173</td>\n",
              "      <td>90</td>\n",
              "    </tr>\n",
              "    <tr>\n",
              "      <th>9</th>\n",
              "      <td>0.001430</td>\n",
              "      <td>0.485041</td>\n",
              "      <td>100</td>\n",
              "    </tr>\n",
              "  </tbody>\n",
              "</table>\n",
              "</div>"
            ],
            "text/plain": [
              "   user_cov   cat_cov    k\n",
              "0  0.899018  0.848595   10\n",
              "1  0.625060  0.769719   20\n",
              "2  0.304615  0.704442   30\n",
              "3  0.106274  0.664551   40\n",
              "4  0.034376  0.625567   50\n",
              "5  0.013731  0.598368   60\n",
              "6  0.006723  0.554850   70\n",
              "7  0.003719  0.524025   80\n",
              "8  0.002241  0.503173   90\n",
              "9  0.001430  0.485041  100"
            ]
          },
          "metadata": {
            "tags": []
          },
          "execution_count": 36
        }
      ]
    },
    {
      "cell_type": "code",
      "metadata": {
        "colab": {
          "base_uri": "https://localhost:8080/",
          "height": 363
        },
        "id": "KN5_mp7sKOsF",
        "outputId": "aac4bdb2-3afc-4877-fb8c-fba097897167"
      },
      "source": [
        "all_predictions=pd.read_csv('/content/drive/MyDrive/main_data/all_predictions_bias_baseline.csv')\r\n",
        "all_predictions.drop(['Unnamed: 0','timestamp','date','year',],axis=1,inplace=True)\r\n",
        "all_predictions.rename({'userId': 'userID', 'movieId': 'itemID','predictions':'prediction'}, axis=1, inplace=True)\r\n",
        "bias_baseline_cov=coverage(all_predictions,test)\r\n",
        "columns = ['user_cov','cat_cov', 'k']\r\n",
        "df_ = pd.DataFrame(bias_baseline_cov, columns=columns)\r\n",
        "df_.to_csv('/content/drive/MyDrive/main_data/bias_baseline_cov.csv')\r\n",
        "df_"
      ],
      "execution_count": null,
      "outputs": [
        {
          "output_type": "execute_result",
          "data": {
            "text/html": [
              "<div>\n",
              "<style scoped>\n",
              "    .dataframe tbody tr th:only-of-type {\n",
              "        vertical-align: middle;\n",
              "    }\n",
              "\n",
              "    .dataframe tbody tr th {\n",
              "        vertical-align: top;\n",
              "    }\n",
              "\n",
              "    .dataframe thead th {\n",
              "        text-align: right;\n",
              "    }\n",
              "</style>\n",
              "<table border=\"1\" class=\"dataframe\">\n",
              "  <thead>\n",
              "    <tr style=\"text-align: right;\">\n",
              "      <th></th>\n",
              "      <th>user_cov</th>\n",
              "      <th>cat_cov</th>\n",
              "      <th>k</th>\n",
              "    </tr>\n",
              "  </thead>\n",
              "  <tbody>\n",
              "    <tr>\n",
              "      <th>0</th>\n",
              "      <td>0.985744</td>\n",
              "      <td>0.970988</td>\n",
              "      <td>10</td>\n",
              "    </tr>\n",
              "    <tr>\n",
              "      <th>1</th>\n",
              "      <td>0.982454</td>\n",
              "      <td>0.963735</td>\n",
              "      <td>20</td>\n",
              "    </tr>\n",
              "    <tr>\n",
              "      <th>2</th>\n",
              "      <td>0.980452</td>\n",
              "      <td>0.953762</td>\n",
              "      <td>30</td>\n",
              "    </tr>\n",
              "    <tr>\n",
              "      <th>3</th>\n",
              "      <td>0.978926</td>\n",
              "      <td>0.949229</td>\n",
              "      <td>40</td>\n",
              "    </tr>\n",
              "    <tr>\n",
              "      <th>4</th>\n",
              "      <td>0.977115</td>\n",
              "      <td>0.945603</td>\n",
              "      <td>50</td>\n",
              "    </tr>\n",
              "    <tr>\n",
              "      <th>5</th>\n",
              "      <td>0.975064</td>\n",
              "      <td>0.943790</td>\n",
              "      <td>60</td>\n",
              "    </tr>\n",
              "    <tr>\n",
              "      <th>6</th>\n",
              "      <td>0.973443</td>\n",
              "      <td>0.939257</td>\n",
              "      <td>70</td>\n",
              "    </tr>\n",
              "    <tr>\n",
              "      <th>7</th>\n",
              "      <td>0.971775</td>\n",
              "      <td>0.932004</td>\n",
              "      <td>80</td>\n",
              "    </tr>\n",
              "    <tr>\n",
              "      <th>8</th>\n",
              "      <td>0.970344</td>\n",
              "      <td>0.922937</td>\n",
              "      <td>90</td>\n",
              "    </tr>\n",
              "    <tr>\n",
              "      <th>9</th>\n",
              "      <td>0.968628</td>\n",
              "      <td>0.915684</td>\n",
              "      <td>100</td>\n",
              "    </tr>\n",
              "  </tbody>\n",
              "</table>\n",
              "</div>"
            ],
            "text/plain": [
              "   user_cov   cat_cov    k\n",
              "0  0.985744  0.970988   10\n",
              "1  0.982454  0.963735   20\n",
              "2  0.980452  0.953762   30\n",
              "3  0.978926  0.949229   40\n",
              "4  0.977115  0.945603   50\n",
              "5  0.975064  0.943790   60\n",
              "6  0.973443  0.939257   70\n",
              "7  0.971775  0.932004   80\n",
              "8  0.970344  0.922937   90\n",
              "9  0.968628  0.915684  100"
            ]
          },
          "metadata": {
            "tags": []
          },
          "execution_count": 37
        }
      ]
    },
    {
      "cell_type": "code",
      "metadata": {
        "colab": {
          "base_uri": "https://localhost:8080/",
          "height": 363
        },
        "id": "sLpGcrnaKY2m",
        "outputId": "298fec55-191d-4600-ec76-130eaa5b8009"
      },
      "source": [
        "!pip install -U -q PyDrive\r\n",
        "from pydrive.auth import GoogleAuth\r\n",
        "from pydrive.drive import GoogleDrive\r\n",
        "from google.colab import auth\r\n",
        "from oauth2client.client import GoogleCredentials\r\n",
        "\r\n",
        "auth.authenticate_user()\r\n",
        "gauth = GoogleAuth()\r\n",
        "gauth.credentials = GoogleCredentials.get_application_default()\r\n",
        "drive = GoogleDrive(gauth)\r\n",
        "id = '1rTUfHwHtHNZ4DszfBD-i0Hh9VWME4bVn'\r\n",
        "downloaded = drive.CreateFile({'id':id}) \r\n",
        "downloaded.GetContentFile('final_dataset.csv')  \r\n",
        "all_predictions = pd.read_csv('final_dataset.csv')\r\n",
        "all_predictions.rename({'userId': 'userID', 'movieId': 'itemID','predictions':'prediction'}, axis=1, inplace=True)\r\n",
        "\r\n",
        "ann_uu_cov=coverage(all_predictions,test)\r\n",
        "columns = ['user_cov','cat_cov', 'k']\r\n",
        "df_ = pd.DataFrame(ann_uu_cov, columns=columns)\r\n",
        "df_.to_csv('/content/drive/MyDrive/main_data/ann_uu_cov.csv')\r\n",
        "df_"
      ],
      "execution_count": null,
      "outputs": [
        {
          "output_type": "execute_result",
          "data": {
            "text/html": [
              "<div>\n",
              "<style scoped>\n",
              "    .dataframe tbody tr th:only-of-type {\n",
              "        vertical-align: middle;\n",
              "    }\n",
              "\n",
              "    .dataframe tbody tr th {\n",
              "        vertical-align: top;\n",
              "    }\n",
              "\n",
              "    .dataframe thead th {\n",
              "        text-align: right;\n",
              "    }\n",
              "</style>\n",
              "<table border=\"1\" class=\"dataframe\">\n",
              "  <thead>\n",
              "    <tr style=\"text-align: right;\">\n",
              "      <th></th>\n",
              "      <th>user_cov</th>\n",
              "      <th>cat_cov</th>\n",
              "      <th>k</th>\n",
              "    </tr>\n",
              "  </thead>\n",
              "  <tbody>\n",
              "    <tr>\n",
              "      <th>0</th>\n",
              "      <td>0.968151</td>\n",
              "      <td>1.0</td>\n",
              "      <td>10</td>\n",
              "    </tr>\n",
              "    <tr>\n",
              "      <th>1</th>\n",
              "      <td>0.955278</td>\n",
              "      <td>1.0</td>\n",
              "      <td>20</td>\n",
              "    </tr>\n",
              "    <tr>\n",
              "      <th>2</th>\n",
              "      <td>0.945933</td>\n",
              "      <td>1.0</td>\n",
              "      <td>30</td>\n",
              "    </tr>\n",
              "    <tr>\n",
              "      <th>3</th>\n",
              "      <td>0.937351</td>\n",
              "      <td>1.0</td>\n",
              "      <td>40</td>\n",
              "    </tr>\n",
              "    <tr>\n",
              "      <th>4</th>\n",
              "      <td>0.928531</td>\n",
              "      <td>1.0</td>\n",
              "      <td>50</td>\n",
              "    </tr>\n",
              "    <tr>\n",
              "      <th>5</th>\n",
              "      <td>0.920092</td>\n",
              "      <td>1.0</td>\n",
              "      <td>60</td>\n",
              "    </tr>\n",
              "    <tr>\n",
              "      <th>6</th>\n",
              "      <td>0.912940</td>\n",
              "      <td>1.0</td>\n",
              "      <td>70</td>\n",
              "    </tr>\n",
              "    <tr>\n",
              "      <th>7</th>\n",
              "      <td>0.905931</td>\n",
              "      <td>1.0</td>\n",
              "      <td>80</td>\n",
              "    </tr>\n",
              "    <tr>\n",
              "      <th>8</th>\n",
              "      <td>0.899876</td>\n",
              "      <td>1.0</td>\n",
              "      <td>90</td>\n",
              "    </tr>\n",
              "    <tr>\n",
              "      <th>9</th>\n",
              "      <td>0.893535</td>\n",
              "      <td>1.0</td>\n",
              "      <td>100</td>\n",
              "    </tr>\n",
              "  </tbody>\n",
              "</table>\n",
              "</div>"
            ],
            "text/plain": [
              "   user_cov  cat_cov    k\n",
              "0  0.968151      1.0   10\n",
              "1  0.955278      1.0   20\n",
              "2  0.945933      1.0   30\n",
              "3  0.937351      1.0   40\n",
              "4  0.928531      1.0   50\n",
              "5  0.920092      1.0   60\n",
              "6  0.912940      1.0   70\n",
              "7  0.905931      1.0   80\n",
              "8  0.899876      1.0   90\n",
              "9  0.893535      1.0  100"
            ]
          },
          "metadata": {
            "tags": []
          },
          "execution_count": 38
        }
      ]
    },
    {
      "cell_type": "code",
      "metadata": {
        "colab": {
          "base_uri": "https://localhost:8080/",
          "height": 363
        },
        "id": "mQX6oGHQKqL5",
        "outputId": "0d2c52e4-52b2-4174-a417-845eadb849a7"
      },
      "source": [
        "all_predictions=pd.read_csv('/content/drive/MyDrive/main_data/ncf_all_data_preds.csv')\r\n",
        "all_predictions['prediction']=all_predictions['prediction']*5\r\n",
        "all_ncf_cov=coverage(all_predictions,test)\r\n",
        "\r\n",
        "\r\n",
        "columns = ['user_cov','cat_cov', 'k']\r\n",
        "df_ = pd.DataFrame(all_ncf_cov, columns=columns)\r\n",
        "df_.to_csv('/content/drive/MyDrive/main_data/all_ncf_cov.csv')\r\n",
        "df_"
      ],
      "execution_count": null,
      "outputs": [
        {
          "output_type": "execute_result",
          "data": {
            "text/html": [
              "<div>\n",
              "<style scoped>\n",
              "    .dataframe tbody tr th:only-of-type {\n",
              "        vertical-align: middle;\n",
              "    }\n",
              "\n",
              "    .dataframe tbody tr th {\n",
              "        vertical-align: top;\n",
              "    }\n",
              "\n",
              "    .dataframe thead th {\n",
              "        text-align: right;\n",
              "    }\n",
              "</style>\n",
              "<table border=\"1\" class=\"dataframe\">\n",
              "  <thead>\n",
              "    <tr style=\"text-align: right;\">\n",
              "      <th></th>\n",
              "      <th>user_cov</th>\n",
              "      <th>cat_cov</th>\n",
              "      <th>k</th>\n",
              "    </tr>\n",
              "  </thead>\n",
              "  <tbody>\n",
              "    <tr>\n",
              "      <th>0</th>\n",
              "      <td>0.918137</td>\n",
              "      <td>0.871260</td>\n",
              "      <td>10</td>\n",
              "    </tr>\n",
              "    <tr>\n",
              "      <th>1</th>\n",
              "      <td>0.626013</td>\n",
              "      <td>0.805984</td>\n",
              "      <td>20</td>\n",
              "    </tr>\n",
              "    <tr>\n",
              "      <th>2</th>\n",
              "      <td>0.284257</td>\n",
              "      <td>0.743427</td>\n",
              "      <td>30</td>\n",
              "    </tr>\n",
              "    <tr>\n",
              "      <th>3</th>\n",
              "      <td>0.098837</td>\n",
              "      <td>0.703536</td>\n",
              "      <td>40</td>\n",
              "    </tr>\n",
              "    <tr>\n",
              "      <th>4</th>\n",
              "      <td>0.038953</td>\n",
              "      <td>0.653672</td>\n",
              "      <td>50</td>\n",
              "    </tr>\n",
              "    <tr>\n",
              "      <th>5</th>\n",
              "      <td>0.015686</td>\n",
              "      <td>0.631006</td>\n",
              "      <td>60</td>\n",
              "    </tr>\n",
              "    <tr>\n",
              "      <th>6</th>\n",
              "      <td>0.006055</td>\n",
              "      <td>0.596555</td>\n",
              "      <td>70</td>\n",
              "    </tr>\n",
              "    <tr>\n",
              "      <th>7</th>\n",
              "      <td>0.002527</td>\n",
              "      <td>0.564823</td>\n",
              "      <td>80</td>\n",
              "    </tr>\n",
              "    <tr>\n",
              "      <th>8</th>\n",
              "      <td>0.001478</td>\n",
              "      <td>0.534905</td>\n",
              "      <td>90</td>\n",
              "    </tr>\n",
              "    <tr>\n",
              "      <th>9</th>\n",
              "      <td>0.000763</td>\n",
              "      <td>0.521306</td>\n",
              "      <td>100</td>\n",
              "    </tr>\n",
              "  </tbody>\n",
              "</table>\n",
              "</div>"
            ],
            "text/plain": [
              "   user_cov   cat_cov    k\n",
              "0  0.918137  0.871260   10\n",
              "1  0.626013  0.805984   20\n",
              "2  0.284257  0.743427   30\n",
              "3  0.098837  0.703536   40\n",
              "4  0.038953  0.653672   50\n",
              "5  0.015686  0.631006   60\n",
              "6  0.006055  0.596555   70\n",
              "7  0.002527  0.564823   80\n",
              "8  0.001478  0.534905   90\n",
              "9  0.000763  0.521306  100"
            ]
          },
          "metadata": {
            "tags": []
          },
          "execution_count": 39
        }
      ]
    },
    {
      "cell_type": "code",
      "metadata": {
        "colab": {
          "base_uri": "https://localhost:8080/",
          "height": 363
        },
        "id": "of4-6FLULQYT",
        "outputId": "1c53790f-0eaf-486f-9efc-24d6dbbe9098"
      },
      "source": [
        "!pip install -U -q PyDrive\r\n",
        "from pydrive.auth import GoogleAuth\r\n",
        "from pydrive.drive import GoogleDrive\r\n",
        "from google.colab import auth\r\n",
        "from oauth2client.client import GoogleCredentials\r\n",
        "\r\n",
        "auth.authenticate_user()\r\n",
        "gauth = GoogleAuth()\r\n",
        "gauth.credentials = GoogleCredentials.get_application_default()\r\n",
        "drive = GoogleDrive(gauth)\r\n",
        "\r\n",
        "id = '1AVbw5s6aZFLZGUlupHDbASeXugc869fA'\r\n",
        "\r\n",
        "downloaded = drive.CreateFile({'id':id}) \r\n",
        "downloaded.GetContentFile('final_dataset.csv')  \r\n",
        "all_predictions = pd.read_csv('final_dataset.csv')\r\n",
        "\r\n",
        "all_predictions.rename({'userId': 'userID', 'movieId': 'itemID','predictions':'prediction'}, axis=1, inplace=True)\r\n",
        "all_predictions.drop('rating',axis=1,inplace=True)\r\n",
        "mf_baseline_cov=coverage(all_predictions,test)\r\n",
        "\r\n",
        "\r\n",
        "columns = ['user_cov','cat_cov', 'k']\r\n",
        "df_ = pd.DataFrame(mf_baseline_cov, columns=columns)\r\n",
        "df_.to_csv('/content/drive/MyDrive/main_data/mf_baseline_cov.csv')\r\n",
        "df_"
      ],
      "execution_count": null,
      "outputs": [
        {
          "output_type": "execute_result",
          "data": {
            "text/html": [
              "<div>\n",
              "<style scoped>\n",
              "    .dataframe tbody tr th:only-of-type {\n",
              "        vertical-align: middle;\n",
              "    }\n",
              "\n",
              "    .dataframe tbody tr th {\n",
              "        vertical-align: top;\n",
              "    }\n",
              "\n",
              "    .dataframe thead th {\n",
              "        text-align: right;\n",
              "    }\n",
              "</style>\n",
              "<table border=\"1\" class=\"dataframe\">\n",
              "  <thead>\n",
              "    <tr style=\"text-align: right;\">\n",
              "      <th></th>\n",
              "      <th>user_cov</th>\n",
              "      <th>cat_cov</th>\n",
              "      <th>k</th>\n",
              "    </tr>\n",
              "  </thead>\n",
              "  <tbody>\n",
              "    <tr>\n",
              "      <th>0</th>\n",
              "      <td>0.952942</td>\n",
              "      <td>1.0</td>\n",
              "      <td>10</td>\n",
              "    </tr>\n",
              "    <tr>\n",
              "      <th>1</th>\n",
              "      <td>0.934681</td>\n",
              "      <td>1.0</td>\n",
              "      <td>20</td>\n",
              "    </tr>\n",
              "    <tr>\n",
              "      <th>2</th>\n",
              "      <td>0.918947</td>\n",
              "      <td>1.0</td>\n",
              "      <td>30</td>\n",
              "    </tr>\n",
              "    <tr>\n",
              "      <th>3</th>\n",
              "      <td>0.904501</td>\n",
              "      <td>1.0</td>\n",
              "      <td>40</td>\n",
              "    </tr>\n",
              "    <tr>\n",
              "      <th>4</th>\n",
              "      <td>0.889148</td>\n",
              "      <td>1.0</td>\n",
              "      <td>50</td>\n",
              "    </tr>\n",
              "    <tr>\n",
              "      <th>5</th>\n",
              "      <td>0.873653</td>\n",
              "      <td>1.0</td>\n",
              "      <td>60</td>\n",
              "    </tr>\n",
              "    <tr>\n",
              "      <th>6</th>\n",
              "      <td>0.862020</td>\n",
              "      <td>1.0</td>\n",
              "      <td>70</td>\n",
              "    </tr>\n",
              "    <tr>\n",
              "      <th>7</th>\n",
              "      <td>0.848098</td>\n",
              "      <td>1.0</td>\n",
              "      <td>80</td>\n",
              "    </tr>\n",
              "    <tr>\n",
              "      <th>8</th>\n",
              "      <td>0.835129</td>\n",
              "      <td>1.0</td>\n",
              "      <td>90</td>\n",
              "    </tr>\n",
              "    <tr>\n",
              "      <th>9</th>\n",
              "      <td>0.822018</td>\n",
              "      <td>1.0</td>\n",
              "      <td>100</td>\n",
              "    </tr>\n",
              "  </tbody>\n",
              "</table>\n",
              "</div>"
            ],
            "text/plain": [
              "   user_cov  cat_cov    k\n",
              "0  0.952942      1.0   10\n",
              "1  0.934681      1.0   20\n",
              "2  0.918947      1.0   30\n",
              "3  0.904501      1.0   40\n",
              "4  0.889148      1.0   50\n",
              "5  0.873653      1.0   60\n",
              "6  0.862020      1.0   70\n",
              "7  0.848098      1.0   80\n",
              "8  0.835129      1.0   90\n",
              "9  0.822018      1.0  100"
            ]
          },
          "metadata": {
            "tags": []
          },
          "execution_count": 40
        }
      ]
    },
    {
      "cell_type": "code",
      "metadata": {
        "colab": {
          "base_uri": "https://localhost:8080/",
          "height": 363
        },
        "id": "h6EHhSucRP0b",
        "outputId": "1929e381-b31c-4f70-d11f-7ac12f87e138"
      },
      "source": [
        "all_predictions=pd.read_csv('/content/drive/MyDrive/main_data/fm_warp.csv')\r\n",
        "all_predictions.drop(['Unnamed: 0'],axis=1,inplace=True)\r\n",
        "all_predictions.rename({'userId': 'userID', 'movieId': 'itemID'}, axis=1, inplace=True)\r\n",
        "all_predictions['prediction']=5*sigmoid(all_predictions['prediction'])\r\n",
        "fm_warp_cov=coverage(all_predictions,test)\r\n",
        "\r\n",
        "\r\n",
        "columns = ['user_cov','cat_cov', 'k']\r\n",
        "df_ = pd.DataFrame(fm_warp_cov, columns=columns)\r\n",
        "df_.to_csv('/content/drive/MyDrive/main_data/fm_warp_cov.csv')\r\n",
        "df_\r\n"
      ],
      "execution_count": null,
      "outputs": [
        {
          "output_type": "execute_result",
          "data": {
            "text/html": [
              "<div>\n",
              "<style scoped>\n",
              "    .dataframe tbody tr th:only-of-type {\n",
              "        vertical-align: middle;\n",
              "    }\n",
              "\n",
              "    .dataframe tbody tr th {\n",
              "        vertical-align: top;\n",
              "    }\n",
              "\n",
              "    .dataframe thead th {\n",
              "        text-align: right;\n",
              "    }\n",
              "</style>\n",
              "<table border=\"1\" class=\"dataframe\">\n",
              "  <thead>\n",
              "    <tr style=\"text-align: right;\">\n",
              "      <th></th>\n",
              "      <th>user_cov</th>\n",
              "      <th>cat_cov</th>\n",
              "      <th>k</th>\n",
              "    </tr>\n",
              "  </thead>\n",
              "  <tbody>\n",
              "    <tr>\n",
              "      <th>0</th>\n",
              "      <td>0.614237</td>\n",
              "      <td>0.948323</td>\n",
              "      <td>10</td>\n",
              "    </tr>\n",
              "    <tr>\n",
              "      <th>1</th>\n",
              "      <td>0.500906</td>\n",
              "      <td>0.920218</td>\n",
              "      <td>20</td>\n",
              "    </tr>\n",
              "    <tr>\n",
              "      <th>2</th>\n",
              "      <td>0.416992</td>\n",
              "      <td>0.892112</td>\n",
              "      <td>30</td>\n",
              "    </tr>\n",
              "    <tr>\n",
              "      <th>3</th>\n",
              "      <td>0.347716</td>\n",
              "      <td>0.868540</td>\n",
              "      <td>40</td>\n",
              "    </tr>\n",
              "    <tr>\n",
              "      <th>4</th>\n",
              "      <td>0.285067</td>\n",
              "      <td>0.837715</td>\n",
              "      <td>50</td>\n",
              "    </tr>\n",
              "    <tr>\n",
              "      <th>5</th>\n",
              "      <td>0.231334</td>\n",
              "      <td>0.819583</td>\n",
              "      <td>60</td>\n",
              "    </tr>\n",
              "    <tr>\n",
              "      <th>6</th>\n",
              "      <td>0.184991</td>\n",
              "      <td>0.791478</td>\n",
              "      <td>70</td>\n",
              "    </tr>\n",
              "    <tr>\n",
              "      <th>7</th>\n",
              "      <td>0.145323</td>\n",
              "      <td>0.762466</td>\n",
              "      <td>80</td>\n",
              "    </tr>\n",
              "    <tr>\n",
              "      <th>8</th>\n",
              "      <td>0.112377</td>\n",
              "      <td>0.742520</td>\n",
              "      <td>90</td>\n",
              "    </tr>\n",
              "    <tr>\n",
              "      <th>9</th>\n",
              "      <td>0.084056</td>\n",
              "      <td>0.720762</td>\n",
              "      <td>100</td>\n",
              "    </tr>\n",
              "  </tbody>\n",
              "</table>\n",
              "</div>"
            ],
            "text/plain": [
              "   user_cov   cat_cov    k\n",
              "0  0.614237  0.948323   10\n",
              "1  0.500906  0.920218   20\n",
              "2  0.416992  0.892112   30\n",
              "3  0.347716  0.868540   40\n",
              "4  0.285067  0.837715   50\n",
              "5  0.231334  0.819583   60\n",
              "6  0.184991  0.791478   70\n",
              "7  0.145323  0.762466   80\n",
              "8  0.112377  0.742520   90\n",
              "9  0.084056  0.720762  100"
            ]
          },
          "metadata": {
            "tags": []
          },
          "execution_count": 41
        }
      ]
    },
    {
      "cell_type": "code",
      "metadata": {
        "id": "Haa1URDqRzN5"
      },
      "source": [
        "pre='/content/drive/MyDrive/main_data/'\r\n",
        "post='.csv'\r\n",
        "models=['NCF','NCF_ANN','FM','bias_baseline','pmf_baseline','Hybrid','ANN_UU']\r\n",
        "files=['all_ncf_cov','ann100_ncf_cov','fm_warp_cov','bias_baseline_cov','mf_baseline_cov','hybrid_cov','ann_uu_cov']\r\n",
        "columns = ['user_cov','cat_cov', 'k']\r\n",
        "df_ = pd.DataFrame(columns=columns)\r\n",
        "for model,file in zip(models,files):\r\n",
        "  df=pd.read_csv(pre+file+post)\r\n",
        "  df['model']=model\r\n",
        "  df_=df_.append(df)"
      ],
      "execution_count": 82,
      "outputs": []
    },
    {
      "cell_type": "code",
      "metadata": {
        "colab": {
          "base_uri": "https://localhost:8080/",
          "height": 863
        },
        "id": "ocKxE2Z1SiaX",
        "outputId": "83959f45-dd16-491c-a8e2-15fa6984ee10"
      },
      "source": [
        "plot_topk_ndcg(df_,'user_cov')\r\n",
        "plot_topk_ndcg(df_,'cat_cov')\r\n",
        "plt.show()"
      ],
      "execution_count": 83,
      "outputs": [
        {
          "output_type": "display_data",
          "data": {
            "image/png": "[encoded data removed]",
            "text/plain": [
              "<Figure size 720x432 with 1 Axes>"
            ]
          },
          "metadata": {
            "tags": [],
            "needs_background": "light"
          }
        },
        {
          "output_type": "display_data",
          "data": {
            "image/png": "[encoded data removed]",
            "text/plain": [
              "<Figure size 720x432 with 1 Axes>"
            ]
          },
          "metadata": {
            "tags": [],
            "needs_background": "light"
          }
        }
      ]
    },
    {
      "cell_type": "code",
      "metadata": {
        "id": "mgoUskoSZD7z"
      },
      "source": [
        ""
      ],
      "execution_count": null,
      "outputs": []
    }
  ]
}