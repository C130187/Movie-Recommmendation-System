{
  "nbformat": 4,
  "nbformat_minor": 0,
  "metadata": {
    "colab": {
      "name": "NCF ANN.ipynb",
      "provenance": [],
      "collapsed_sections": [],
      "toc_visible": true
    },
    "kernelspec": {
      "display_name": "Python 3",
      "name": "python3"
    }
  },
  "cells": [
    {
      "cell_type": "markdown",
      "metadata": {
        "id": "BdK0MebeROxc"
      },
      "source": [
        "##ANN"
      ]
    },
    {
      "cell_type": "markdown",
      "metadata": {
        "id": "3WT97NbTwNhC"
      },
      "source": [
        "## Imports"
      ]
    },
    {
      "cell_type": "code",
      "metadata": {
        "id": "DCJvmJMEkNZL",
        "colab": {
          "base_uri": "https://localhost:8080/"
        },
        "outputId": "58d41009-f961-4228-ef10-a73477dfa02d"
      },
      "source": [
        "!pip install surprise\n",
        "!pip uninstall tensorflow\n",
        "!pip install tensorflow==1.15\n",
        "!pip install annoy"
      ],
      "execution_count": null,
      "outputs": [
        {
          "output_type": "stream",
          "text": [
            "Requirement already satisfied: surprise in /usr/local/lib/python3.6/dist-packages (0.1)\n",
            "Requirement already satisfied: scikit-surprise in /usr/local/lib/python3.6/dist-packages (from surprise) (1.1.1)\n",
            "Requirement already satisfied: joblib>=0.11 in /usr/local/lib/python3.6/dist-packages (from scikit-surprise->surprise) (0.17.0)\n",
            "Requirement already satisfied: scipy>=1.0.0 in /usr/local/lib/python3.6/dist-packages (from scikit-surprise->surprise) (1.4.1)\n",
            "Requirement already satisfied: six>=1.10.0 in /usr/local/lib/python3.6/dist-packages (from scikit-surprise->surprise) (1.15.0)\n",
            "Requirement already satisfied: numpy>=1.11.2 in /usr/local/lib/python3.6/dist-packages (from scikit-surprise->surprise) (1.18.5)\n"
          ],
          "name": "stdout"
        }
      ]
    },
    {
      "cell_type": "code",
      "metadata": {
        "id": "wcoF4uS2RSDQ"
      },
      "source": [
        "\n",
        "from hyperopt import tpe, fmin, hp, Trials, STATUS_OK,space_eval\n",
        "import sys\n",
        "import seaborn as sns\n",
        "from timeit import Timer\n",
        "from datetime import datetime\n",
        "\n",
        "from hyperopt import tpe, fmin, hp, Trials, STATUS_OK,space_eval\n",
        "from collections import defaultdict\n",
        "import random\n",
        "from sklearn.metrics import mean_squared_error\n",
        "from numpy.linalg import inv\n",
        "import pandas as pd\n",
        "import numpy as np\n",
        "import math\n",
        "from numpy.linalg import inv\n",
        "from numpy.linalg import multi_dot\n",
        "import matplotlib.pyplot as plt\n",
        "import itertools\n",
        "import warnings\n",
        "warnings.filterwarnings(\"ignore\")"
      ],
      "execution_count": null,
      "outputs": []
    },
    {
      "cell_type": "markdown",
      "metadata": {
        "id": "KRu_sKw7wQQZ"
      },
      "source": [
        "## Get data from drive"
      ]
    },
    {
      "cell_type": "code",
      "metadata": {
        "id": "G6pHnhtHRWhG"
      },
      "source": [
        "!pip install -U -q PyDrive\n",
        "from pydrive.auth import GoogleAuth\n",
        "from pydrive.drive import GoogleDrive\n",
        "from google.colab import auth\n",
        "from oauth2client.client import GoogleCredentials\n",
        "\n",
        "auth.authenticate_user()\n",
        "gauth = GoogleAuth()\n",
        "gauth.credentials = GoogleCredentials.get_application_default()\n",
        "drive = GoogleDrive(gauth)\n",
        "\n",
        "id = \"1FFYnZRIuzQLeBkDUuJpK_oRtUmdxMd9O\"\n",
        "\n",
        "downloaded = drive.CreateFile({'id':id}) \n",
        "downloaded.GetContentFile('final_dataset.csv')  \n",
        "data = pd.read_csv('final_dataset.csv')"
      ],
      "execution_count": null,
      "outputs": []
    },
    {
      "cell_type": "code",
      "metadata": {
        "colab": {
          "base_uri": "https://localhost:8080/",
          "height": 206
        },
        "id": "95qj-DqdViDB",
        "outputId": "35d25755-7ada-473a-8673-d0a395bf05c7"
      },
      "source": [
        "data.drop(columns=['Unnamed: 0','timestamp','date','year'],inplace=True)\n",
        "data.head()"
      ],
      "execution_count": null,
      "outputs": [
        {
          "output_type": "execute_result",
          "data": {
            "text/html": [
              "<div>\n",
              "<style scoped>\n",
              "    .dataframe tbody tr th:only-of-type {\n",
              "        vertical-align: middle;\n",
              "    }\n",
              "\n",
              "    .dataframe tbody tr th {\n",
              "        vertical-align: top;\n",
              "    }\n",
              "\n",
              "    .dataframe thead th {\n",
              "        text-align: right;\n",
              "    }\n",
              "</style>\n",
              "<table border=\"1\" class=\"dataframe\">\n",
              "  <thead>\n",
              "    <tr style=\"text-align: right;\">\n",
              "      <th></th>\n",
              "      <th>userId</th>\n",
              "      <th>movieId</th>\n",
              "      <th>rating</th>\n",
              "    </tr>\n",
              "  </thead>\n",
              "  <tbody>\n",
              "    <tr>\n",
              "      <th>0</th>\n",
              "      <td>2</td>\n",
              "      <td>849</td>\n",
              "      <td>3.5</td>\n",
              "    </tr>\n",
              "    <tr>\n",
              "      <th>1</th>\n",
              "      <td>339</td>\n",
              "      <td>849</td>\n",
              "      <td>5.0</td>\n",
              "    </tr>\n",
              "    <tr>\n",
              "      <th>2</th>\n",
              "      <td>1707</td>\n",
              "      <td>849</td>\n",
              "      <td>2.5</td>\n",
              "    </tr>\n",
              "    <tr>\n",
              "      <th>3</th>\n",
              "      <td>2040</td>\n",
              "      <td>849</td>\n",
              "      <td>1.0</td>\n",
              "    </tr>\n",
              "    <tr>\n",
              "      <th>4</th>\n",
              "      <td>2759</td>\n",
              "      <td>849</td>\n",
              "      <td>4.0</td>\n",
              "    </tr>\n",
              "  </tbody>\n",
              "</table>\n",
              "</div>"
            ],
            "text/plain": [
              "   userId  movieId  rating\n",
              "0       2      849     3.5\n",
              "1     339      849     5.0\n",
              "2    1707      849     2.5\n",
              "3    2040      849     1.0\n",
              "4    2759      849     4.0"
            ]
          },
          "metadata": {
            "tags": []
          },
          "execution_count": 19
        }
      ]
    },
    {
      "cell_type": "markdown",
      "metadata": {
        "id": "DEfY4_rMwXcH"
      },
      "source": [
        "## Make train-test split"
      ]
    },
    {
      "cell_type": "code",
      "metadata": {
        "id": "NCHFQrfCU4wg"
      },
      "source": [
        "# Splitting Main dataset to a train and a test dataset\n",
        "user_freq=data.groupby(['userId']).size().reset_index(name='counts')\n",
        "users_lt3=user_freq[user_freq['counts']<3][['userId']]\n",
        "users_ge3=user_freq[user_freq['counts']>=3][['userId']]\n",
        "train1 = pd.merge(data, users_lt3, on=['userId'],how='inner')\n",
        "data1 = pd.merge(data, users_ge3, on=['userId'],how='inner')\n",
        "random.seed(2)\n",
        "test=data1.groupby('userId').sample(frac=.3, random_state=2)\n",
        "test_idx = data1.index.isin(test.index.to_list())\n",
        "train = train1.append(data1[~test_idx])\n",
        "\n",
        "\n",
        "\n",
        "train_df = train\n",
        "test_df = test"
      ],
      "execution_count": null,
      "outputs": []
    },
    {
      "cell_type": "markdown",
      "metadata": {
        "id": "ETpZp05do-r2"
      },
      "source": [
        "##  Before Applying ANN, it is a prerequisite that we have our latent matrix i.e. U and V matrices ready.\n",
        "Therefore, I am reusing code from the SVD Collaborative Filtering model to get the latent matrix."
      ]
    },
    {
      "cell_type": "code",
      "metadata": {
        "id": "sgNYT20YUksB"
      },
      "source": [
        "train_df = train\n",
        "test_df = test\n",
        "\n",
        "def create_SVD_UV(train,test,user_freq):\n",
        "  train=train[['userId', 'movieId', 'rating']]\n",
        "  test=test[['userId', 'movieId', 'rating']]\n",
        "  reader = Reader(rating_scale=(1,5))\n",
        "  train = Dataset.load_from_df(train[['userId', 'movieId', 'rating']], reader=reader)\n",
        "  test = Dataset.load_from_df(test[['userId', 'movieId', 'rating']], reader=reader)\n",
        "  raw_ratings = test.raw_ratings\n",
        "  threshold = int(1 * len(raw_ratings))\n",
        "  A_raw_ratings = raw_ratings[:threshold]\n",
        "  test = test.construct_testset(A_raw_ratings)\n",
        "\n",
        "  raw_ratings1 = train.raw_ratings\n",
        "  threshold = int(1 * len(raw_ratings1))\n",
        "  B_raw_ratings = raw_ratings1[:threshold]\n",
        "  train_test = train.construct_testset(B_raw_ratings)\n",
        "\n",
        "  model = SVD(n_epochs=50,n_factors=15,reg_all=0.1,lr_all=0.02)\n",
        "  trainset = train.build_full_trainset()\n",
        "  model.fit(trainset)\n",
        "\n",
        "  # Retrieiving inner ids, as used by surprise package during model training\n",
        "  user_inner_ids = [x for x in trainset.all_users()]\n",
        "  item_inner_ids = [i for i in trainset.all_items()]\n",
        "\n",
        "  # All ids mapped back to values in the actual train set \n",
        "  user_raw_ids = [trainset.to_raw_uid(x) for x in user_inner_ids]\n",
        "  item_raw_ids = [trainset.to_raw_iid(x) for x in item_inner_ids]\n",
        "\n",
        "  U = model.pu \n",
        "  V = model.qi\n",
        "\n",
        "  return U, V, trainset, user_inner_ids\n",
        "\n",
        "\n",
        "\n",
        "U,V, trainset, user_inner_ids = create_SVD_UV(train,test,user_freq)\n",
        "\n",
        "\n",
        "\n",
        "\n",
        "\n",
        "\n",
        "\n",
        "\n",
        "  \n",
        "\n",
        "\n",
        "\n",
        "\n",
        "\n"
      ],
      "execution_count": null,
      "outputs": []
    },
    {
      "cell_type": "markdown",
      "metadata": {
        "id": "t8U0hqU8x0x-"
      },
      "source": [
        "# Exploratory Data Analysis"
      ]
    },
    {
      "cell_type": "code",
      "metadata": {
        "id": "_usOl4W7x20l"
      },
      "source": [
        "# Movie frequency per user for all users in our training dataset\n",
        "user_freq = train_df.groupby('userId', as_index=False).agg(num_movies=('movieId','count'))"
      ],
      "execution_count": null,
      "outputs": []
    },
    {
      "cell_type": "code",
      "metadata": {
        "colab": {
          "base_uri": "https://localhost:8080/",
          "height": 334
        },
        "id": "ZZz8S43W3Hfq",
        "outputId": "eeb00f7e-5305-4ed4-ab7c-a77321858917"
      },
      "source": [
        "plt.figure(figsize=(15,5))\n",
        "plt.hist(user_freq['num_movies'], bins=100, edgecolor='b', log=True)\n",
        "plt.xlim(0,)\n",
        "plt.xticks(np.arange(0,1000,50))\n",
        "plt.xlabel('Number of ratings')\n",
        "plt.ylabel('Number of users')\n",
        "plt.show()\n"
      ],
      "execution_count": null,
      "outputs": [
        {
          "output_type": "display_data",
          "data": {
            "image/png": "[encoded data removed]",
            "text/plain": [
              "<Figure size 1080x360 with 1 Axes>"
            ]
          },
          "metadata": {
            "tags": [],
            "needs_background": "light"
          }
        }
      ]
    },
    {
      "cell_type": "markdown",
      "metadata": {
        "id": "nGhwOGOTAUDg"
      },
      "source": [
        "We have a lot of users who have rated more than 50 ratings.\n",
        "We will be looking at using nearest neighbours to reduce the size of the the user-movie pairs in the train dataset."
      ]
    },
    {
      "cell_type": "code",
      "metadata": {
        "colab": {
          "base_uri": "https://localhost:8080/",
          "height": 334
        },
        "id": "-EcePdmn3Mpe",
        "outputId": "fb921dbf-03cb-44ab-e0d5-6ac7ee53643c"
      },
      "source": [
        "plt.figure(figsize=(15,5))\n",
        "plt.hist(user_freq['num_movies'], bins=100, edgecolor='b', log=True)\n",
        "plt.xlim(0,200)\n",
        "plt.xticks(np.arange(0,200,50))\n",
        "plt.xlabel('Number of ratings')\n",
        "plt.ylabel('Number of users')\n",
        "plt.show()"
      ],
      "execution_count": null,
      "outputs": [
        {
          "output_type": "display_data",
          "data": {
            "image/png": "[encoded data removed]",
            "text/plain": [
              "<Figure size 1080x360 with 1 Axes>"
            ]
          },
          "metadata": {
            "tags": []
          }
        }
      ]
    },
    {
      "cell_type": "markdown",
      "metadata": {
        "id": "qz7GedxTBTOP"
      },
      "source": [
        "The latent matrix is a numpy array of shape (n_items, n_factors. The first raw corresponds to the first raw item id (see this: http://surprise.readthedocs.io/en/latest/FAQ.html#what-are-raw-and-inner-ids), the second correspond to the second raw item id, etc..."
      ]
    },
    {
      "cell_type": "markdown",
      "metadata": {
        "id": "qv_VReVyfiqO"
      },
      "source": [
        "# Annoy package \n",
        "\n",
        "Annoy is a C++ library with Python bindings that builds random projection trees. An index is built with a forest of k trees, where k is a tunable parameter that trades off between precision and performance. It also creates large read-only, file-based data structures that are mapped into memory so that many processes can share the data."
      ]
    },
    {
      "cell_type": "code",
      "metadata": {
        "id": "udvhe0zyT3ih"
      },
      "source": [
        "from annoy import AnnoyIndex"
      ],
      "execution_count": null,
      "outputs": []
    },
    {
      "cell_type": "markdown",
      "metadata": {
        "id": "fi84OPhM3OjD"
      },
      "source": [
        "From our ANN User-User Similarity notebook, we find that the optimal number of trees should be about 50. So we assume 50 to be our best value for number of trees for the User-Item Similarity Task."
      ]
    },
    {
      "cell_type": "code",
      "metadata": {
        "id": "kDoVOAbPWRic"
      },
      "source": [
        "def run_ann(user_inner_ids, V, train_df):\n",
        "  #To be used for serialized process; user item search\n",
        "\n",
        "  f = 15 # n_factors\n",
        "  t = AnnoyIndex(f, 'angular')  # Length of item vector that will be indexed\n",
        "  for i,v in zip(user_inner_ids,V):\n",
        "      t.add_item(i, v)\n",
        "\n",
        "  t.build(100)\n",
        "  t.save('test_user_item.ann')\n",
        "\n",
        "\n",
        "  u = AnnoyIndex(f, 'angular')\n",
        "  u.load('test_user_item.ann') \n",
        "  # super fast, will just map the file\n",
        "\n",
        "  user_ids_nn = list(user_freq[user_freq['num_movies']>50]['userId'].values)\n",
        "\n",
        "  def find_nn_greater_than_k(user_id, k=100):\n",
        "    return t.get_nns_by_vector(U[trainset.to_inner_uid(user_id)], k) \n",
        "\n",
        "  user_nn_items = list(map(find_nn_greater_than_k,user_ids_nn))\n",
        "  user_nn_items_dict={}\n",
        "  for userid,items in zip(user_ids_nn,user_nn_items):\n",
        "    user_nn_items_dict[userid] = [trainset.to_raw_iid(i) for i in items]\n",
        "  \n",
        "  user_nn_items_df = pd.concat({k: pd.Series(v) for k, v in user_nn_items_dict.items()})\n",
        "  user_nn_items_df = user_nn_items_df.reset_index()\n",
        "  user_nn_items_df = user_nn_items_df.drop(columns=['level_1'])\n",
        "  user_nn_items_df.rename(columns={'level_0': 'userId', 0: 'movieId'}, inplace=True)\n",
        "\n",
        "  merged_df= pd.merge(train_df,user_nn_items_df,how='inner',on=['userId','movieId'])\n",
        "\n",
        "  #concatenate data for users who rated less than 50 movies merged_df\n",
        "  user_ids_without_nn = set(list(train_df['userId'].unique())) - set(user_ids_nn)\n",
        "  user_ids_without_nn_df = pd.DataFrame(user_ids_without_nn,columns =['userId']) \n",
        "\n",
        "  user_ids_without_nn_df = pd.merge(train_df,user_ids_without_nn_df,how='inner',on='userId')\n",
        "\n",
        "  # ANN reduced matrix\n",
        "  train_concat_df = pd.concat([user_ids_without_nn_df, merged_df])\n",
        "  #train_concat_df = merged_df\n",
        "  return train_concat_df\n",
        "\n",
        "\n",
        "train_concat_df = def run_ann(user_inner_ids, V, train_df)\n",
        "\n",
        "\n",
        "\n",
        "\n",
        "\n",
        "\n",
        "\n",
        "\n",
        "  \n",
        "\n",
        "  \n",
        "\n",
        "\n",
        "\n",
        "\n"
      ],
      "execution_count": null,
      "outputs": []
    },
    {
      "cell_type": "code",
      "metadata": {
        "colab": {
          "base_uri": "https://localhost:8080/"
        },
        "id": "7e1lee8fhf4f",
        "outputId": "58230fdd-6193-4de5-8202-736c8db81ab2"
      },
      "source": [
        "#To be used for serialized process; user item search\n",
        "\n",
        "f = 15 # n_factors\n",
        "t = AnnoyIndex(f, 'angular')  # Length of item vector that will be indexed\n",
        "for i,v in zip(user_inner_ids,V):\n",
        "    t.add_item(i, v)\n",
        "\n",
        "t.build(100)\n",
        "t.save('test_user_item.ann')"
      ],
      "execution_count": null,
      "outputs": [
        {
          "output_type": "execute_result",
          "data": {
            "text/plain": [
              "True"
            ]
          },
          "metadata": {
            "tags": []
          },
          "execution_count": 14
        }
      ]
    },
    {
      "cell_type": "code",
      "metadata": {
        "colab": {
          "base_uri": "https://localhost:8080/"
        },
        "id": "k2YTCWArGXXG",
        "outputId": "2222688d-53f7-4b66-d638-58578613a864"
      },
      "source": [
        "\n",
        "u = AnnoyIndex(f, 'angular')\n",
        "u.load('test_user_item.ann') \n",
        "# super fast, will just map the file"
      ],
      "execution_count": null,
      "outputs": [
        {
          "output_type": "execute_result",
          "data": {
            "text/plain": [
              "True"
            ]
          },
          "metadata": {
            "tags": []
          },
          "execution_count": 15
        }
      ]
    },
    {
      "cell_type": "markdown",
      "metadata": {
        "id": "DWgy-Gncgtj1"
      },
      "source": [
        "### Creating filtered training model with reduced rows per user "
      ]
    },
    {
      "cell_type": "code",
      "metadata": {
        "id": "5Cq1H9Uk8j0s"
      },
      "source": [
        "user_ids_nn = list(user_freq[user_freq['num_movies']>50]['userId'].values)"
      ],
      "execution_count": null,
      "outputs": []
    },
    {
      "cell_type": "code",
      "metadata": {
        "colab": {
          "base_uri": "https://localhost:8080/"
        },
        "id": "A8x5qH_uH-A2",
        "outputId": "912e73d7-1b76-4a10-8f6f-0237b411f18d"
      },
      "source": [
        "len(user_ids_nn)"
      ],
      "execution_count": null,
      "outputs": [
        {
          "output_type": "execute_result",
          "data": {
            "text/plain": [
              "3533"
            ]
          },
          "metadata": {
            "tags": []
          },
          "execution_count": 17
        }
      ]
    },
    {
      "cell_type": "code",
      "metadata": {
        "id": "o80U0vDe9O88"
      },
      "source": [
        "def find_nn_greater_than_k(user_id, k=100):\n",
        "  return t.get_nns_by_vector(U[trainset.to_inner_uid(user_id)], k) "
      ],
      "execution_count": null,
      "outputs": []
    },
    {
      "cell_type": "code",
      "metadata": {
        "id": "yFkCtod2-XOK"
      },
      "source": [
        "user_nn_items = list(map(find_nn_greater_than_k,user_ids_nn))\n",
        "user_nn_items_dict={}\n",
        "for userid,items in zip(user_ids_nn,user_nn_items):\n",
        "  user_nn_items_dict[userid] = [trainset.to_raw_iid(i) for i in items]"
      ],
      "execution_count": null,
      "outputs": []
    },
    {
      "cell_type": "code",
      "metadata": {
        "colab": {
          "base_uri": "https://localhost:8080/",
          "height": 424
        },
        "id": "fLewm3bt_Jbk",
        "outputId": "b1d97aad-0540-4b1e-9eda-51bcaac3182a"
      },
      "source": [
        "user_nn_items_df = pd.concat({k: pd.Series(v) for k, v in user_nn_items_dict.items()})\n",
        "user_nn_items_df = user_nn_items_df.reset_index()\n",
        "user_nn_items_df = user_nn_items_df.drop(columns=['level_1'])\n",
        "user_nn_items_df.rename(columns={'level_0': 'userId', 0: 'movieId'}, inplace=True)\n",
        "user_nn_items_df"
      ],
      "execution_count": null,
      "outputs": [
        {
          "output_type": "execute_result",
          "data": {
            "text/html": [
              "<div>\n",
              "<style scoped>\n",
              "    .dataframe tbody tr th:only-of-type {\n",
              "        vertical-align: middle;\n",
              "    }\n",
              "\n",
              "    .dataframe tbody tr th {\n",
              "        vertical-align: top;\n",
              "    }\n",
              "\n",
              "    .dataframe thead th {\n",
              "        text-align: right;\n",
              "    }\n",
              "</style>\n",
              "<table border=\"1\" class=\"dataframe\">\n",
              "  <thead>\n",
              "    <tr style=\"text-align: right;\">\n",
              "      <th></th>\n",
              "      <th>userId</th>\n",
              "      <th>movieId</th>\n",
              "    </tr>\n",
              "  </thead>\n",
              "  <tbody>\n",
              "    <tr>\n",
              "      <th>0</th>\n",
              "      <td>73</td>\n",
              "      <td>2065</td>\n",
              "    </tr>\n",
              "    <tr>\n",
              "      <th>1</th>\n",
              "      <td>73</td>\n",
              "      <td>48774</td>\n",
              "    </tr>\n",
              "    <tr>\n",
              "      <th>2</th>\n",
              "      <td>73</td>\n",
              "      <td>1228</td>\n",
              "    </tr>\n",
              "    <tr>\n",
              "      <th>3</th>\n",
              "      <td>73</td>\n",
              "      <td>8340</td>\n",
              "    </tr>\n",
              "    <tr>\n",
              "      <th>4</th>\n",
              "      <td>73</td>\n",
              "      <td>1178</td>\n",
              "    </tr>\n",
              "    <tr>\n",
              "      <th>...</th>\n",
              "      <td>...</td>\n",
              "      <td>...</td>\n",
              "    </tr>\n",
              "    <tr>\n",
              "      <th>353295</th>\n",
              "      <td>283184</td>\n",
              "      <td>8966</td>\n",
              "    </tr>\n",
              "    <tr>\n",
              "      <th>353296</th>\n",
              "      <td>283184</td>\n",
              "      <td>165549</td>\n",
              "    </tr>\n",
              "    <tr>\n",
              "      <th>353297</th>\n",
              "      <td>283184</td>\n",
              "      <td>39381</td>\n",
              "    </tr>\n",
              "    <tr>\n",
              "      <th>353298</th>\n",
              "      <td>283184</td>\n",
              "      <td>48696</td>\n",
              "    </tr>\n",
              "    <tr>\n",
              "      <th>353299</th>\n",
              "      <td>283184</td>\n",
              "      <td>5902</td>\n",
              "    </tr>\n",
              "  </tbody>\n",
              "</table>\n",
              "<p>353300 rows × 2 columns</p>\n",
              "</div>"
            ],
            "text/plain": [
              "        userId  movieId\n",
              "0           73     2065\n",
              "1           73    48774\n",
              "2           73     1228\n",
              "3           73     8340\n",
              "4           73     1178\n",
              "...        ...      ...\n",
              "353295  283184     8966\n",
              "353296  283184   165549\n",
              "353297  283184    39381\n",
              "353298  283184    48696\n",
              "353299  283184     5902\n",
              "\n",
              "[353300 rows x 2 columns]"
            ]
          },
          "metadata": {
            "tags": []
          },
          "execution_count": 20
        }
      ]
    },
    {
      "cell_type": "code",
      "metadata": {
        "colab": {
          "base_uri": "https://localhost:8080/"
        },
        "id": "vK70ZgdkvYIZ",
        "outputId": "dc16932d-ef6b-4987-815b-bd59c31fdf72"
      },
      "source": [
        "len(user_nn_items_df['userId'].unique())"
      ],
      "execution_count": null,
      "outputs": [
        {
          "output_type": "execute_result",
          "data": {
            "text/plain": [
              "3533"
            ]
          },
          "metadata": {
            "tags": []
          },
          "execution_count": 21
        }
      ]
    },
    {
      "cell_type": "code",
      "metadata": {
        "colab": {
          "base_uri": "https://localhost:8080/"
        },
        "id": "jX4LeYArEsj7",
        "outputId": "cc3dbf22-df72-491f-d4f9-0058a472674e"
      },
      "source": [
        "merged_df= pd.merge(train_df,user_nn_items_df,how='inner',on=['userId','movieId'])\n",
        "len(merged_df['userId'].unique())"
      ],
      "execution_count": null,
      "outputs": [
        {
          "output_type": "execute_result",
          "data": {
            "text/plain": [
              "3531"
            ]
          },
          "metadata": {
            "tags": []
          },
          "execution_count": 22
        }
      ]
    },
    {
      "cell_type": "code",
      "metadata": {
        "colab": {
          "base_uri": "https://localhost:8080/"
        },
        "id": "QXekdYlqGWVZ",
        "outputId": "2ae00ce0-024c-4685-d8ff-37729e1d2e85"
      },
      "source": [
        "#concatenate data for users who rated less than 50 movies merged_df\n",
        "user_ids_without_nn = set(list(train_df['userId'].unique())) - set(user_ids_nn)\n",
        "user_ids_without_nn_df = pd.DataFrame(user_ids_without_nn,columns =['userId']) \n",
        "len(user_ids_without_nn_df['userId'].unique())"
      ],
      "execution_count": null,
      "outputs": [
        {
          "output_type": "execute_result",
          "data": {
            "text/plain": [
              "17441"
            ]
          },
          "metadata": {
            "tags": []
          },
          "execution_count": 23
        }
      ]
    },
    {
      "cell_type": "code",
      "metadata": {
        "colab": {
          "base_uri": "https://localhost:8080/"
        },
        "id": "MpJ-4I4mHVpM",
        "outputId": "90bee4ca-3945-48dc-ac35-9dbbec8493a0"
      },
      "source": [
        "user_ids_without_nn_df = pd.merge(train_df,user_ids_without_nn_df,how='inner',on='userId')\n",
        "len(user_ids_without_nn_df['userId'].unique())"
      ],
      "execution_count": null,
      "outputs": [
        {
          "output_type": "execute_result",
          "data": {
            "text/plain": [
              "17441"
            ]
          },
          "metadata": {
            "tags": []
          },
          "execution_count": 24
        }
      ]
    },
    {
      "cell_type": "code",
      "metadata": {
        "colab": {
          "base_uri": "https://localhost:8080/",
          "height": 424
        },
        "id": "QMzAIE0KIge6",
        "outputId": "281930ca-889f-46d3-ff8c-6ac50a10613d"
      },
      "source": [
        "# ANN reduced matrix\n",
        "train_concat_df = pd.concat([user_ids_without_nn_df, merged_df])\n",
        "#train_concat_df = merged_df\n",
        "train_concat_df"
      ],
      "execution_count": null,
      "outputs": [
        {
          "output_type": "execute_result",
          "data": {
            "text/html": [
              "<div>\n",
              "<style scoped>\n",
              "    .dataframe tbody tr th:only-of-type {\n",
              "        vertical-align: middle;\n",
              "    }\n",
              "\n",
              "    .dataframe tbody tr th {\n",
              "        vertical-align: top;\n",
              "    }\n",
              "\n",
              "    .dataframe thead th {\n",
              "        text-align: right;\n",
              "    }\n",
              "</style>\n",
              "<table border=\"1\" class=\"dataframe\">\n",
              "  <thead>\n",
              "    <tr style=\"text-align: right;\">\n",
              "      <th></th>\n",
              "      <th>userId</th>\n",
              "      <th>movieId</th>\n",
              "      <th>rating</th>\n",
              "    </tr>\n",
              "  </thead>\n",
              "  <tbody>\n",
              "    <tr>\n",
              "      <th>0</th>\n",
              "      <td>16421</td>\n",
              "      <td>849</td>\n",
              "      <td>4.5</td>\n",
              "    </tr>\n",
              "    <tr>\n",
              "      <th>1</th>\n",
              "      <td>16421</td>\n",
              "      <td>2746</td>\n",
              "      <td>4.0</td>\n",
              "    </tr>\n",
              "    <tr>\n",
              "      <th>2</th>\n",
              "      <td>260732</td>\n",
              "      <td>849</td>\n",
              "      <td>3.0</td>\n",
              "    </tr>\n",
              "    <tr>\n",
              "      <th>3</th>\n",
              "      <td>260732</td>\n",
              "      <td>256</td>\n",
              "      <td>1.0</td>\n",
              "    </tr>\n",
              "    <tr>\n",
              "      <th>4</th>\n",
              "      <td>102234</td>\n",
              "      <td>1186</td>\n",
              "      <td>3.0</td>\n",
              "    </tr>\n",
              "    <tr>\n",
              "      <th>...</th>\n",
              "      <td>...</td>\n",
              "      <td>...</td>\n",
              "      <td>...</td>\n",
              "    </tr>\n",
              "    <tr>\n",
              "      <th>57896</th>\n",
              "      <td>139879</td>\n",
              "      <td>132480</td>\n",
              "      <td>4.5</td>\n",
              "    </tr>\n",
              "    <tr>\n",
              "      <th>57897</th>\n",
              "      <td>139879</td>\n",
              "      <td>72641</td>\n",
              "      <td>5.0</td>\n",
              "    </tr>\n",
              "    <tr>\n",
              "      <th>57898</th>\n",
              "      <td>139879</td>\n",
              "      <td>34534</td>\n",
              "      <td>5.0</td>\n",
              "    </tr>\n",
              "    <tr>\n",
              "      <th>57899</th>\n",
              "      <td>139879</td>\n",
              "      <td>79139</td>\n",
              "      <td>4.0</td>\n",
              "    </tr>\n",
              "    <tr>\n",
              "      <th>57900</th>\n",
              "      <td>139879</td>\n",
              "      <td>81782</td>\n",
              "      <td>4.5</td>\n",
              "    </tr>\n",
              "  </tbody>\n",
              "</table>\n",
              "<p>288697 rows × 3 columns</p>\n",
              "</div>"
            ],
            "text/plain": [
              "       userId  movieId  rating\n",
              "0       16421      849     4.5\n",
              "1       16421     2746     4.0\n",
              "2      260732      849     3.0\n",
              "3      260732      256     1.0\n",
              "4      102234     1186     3.0\n",
              "...       ...      ...     ...\n",
              "57896  139879   132480     4.5\n",
              "57897  139879    72641     5.0\n",
              "57898  139879    34534     5.0\n",
              "57899  139879    79139     4.0\n",
              "57900  139879    81782     4.5\n",
              "\n",
              "[288697 rows x 3 columns]"
            ]
          },
          "metadata": {
            "tags": []
          },
          "execution_count": 25
        }
      ]
    },
    {
      "cell_type": "code",
      "metadata": {
        "colab": {
          "base_uri": "https://localhost:8080/"
        },
        "id": "OY0srqrVjDsD",
        "outputId": "e49ca899-ba36-42b9-b8c4-a982c1cae644"
      },
      "source": [
        "print(len(train_concat_df['userId'].unique()))"
      ],
      "execution_count": null,
      "outputs": [
        {
          "output_type": "stream",
          "text": [
            "20972\n"
          ],
          "name": "stdout"
        }
      ]
    },
    {
      "cell_type": "code",
      "metadata": {
        "id": "rk_K0ASbjpSL"
      },
      "source": [
        ""
      ],
      "execution_count": null,
      "outputs": []
    },
    {
      "cell_type": "markdown",
      "metadata": {
        "id": "Cdm8UzFOxIFE"
      },
      "source": [
        "### End of code to produce filtered matrix"
      ]
    },
    {
      "cell_type": "markdown",
      "metadata": {
        "id": "GmXHkXWAwpD4"
      },
      "source": [
        "##NCF"
      ]
    },
    {
      "cell_type": "code",
      "metadata": {
        "id": "3k894lkhlEMJ"
      },
      "source": [
        "from ncf_singlenode import *\r\n",
        "from dataset import Dataset as NCFDataset\r\n",
        "from constants import SEED as DEFAULT_SEED\r\n",
        "SEED = DEFAULT_SEED"
      ],
      "execution_count": null,
      "outputs": []
    },
    {
      "cell_type": "code",
      "metadata": {
        "id": "zsvoAo9bf1FB"
      },
      "source": [
        "def run_ncf(train_concat_df,test_df):\n",
        "  train=train_df[['userId' ,'movieId' ,'rating']]\n",
        "  test=test_df[['userId' ,'movieId' ,'rating']]\n",
        "  train.rename({'userId': 'userID', 'movieId': 'itemID'}, axis=1, inplace=True)\n",
        "  test.rename({'userId': 'userID', 'movieId': 'itemID'}, axis=1, inplace=True)\n",
        "  test=pd.merge(test,pd.DataFrame(np.unique(train['userID']),columns=['userID']),on=['userID'],how='inner')\n",
        "  data = NCFDataset(train=train, test=test, seed=SEED)\n",
        "  \n",
        "  EPOCHS = 100\n",
        "  BATCH_SIZE = 256\n",
        "\n",
        "  model = NCF (\n",
        "      n_users=data.n_users, \n",
        "      n_items=data.n_items,\n",
        "      model_type=\"NeuMF\",\n",
        "      n_factors=4,\n",
        "      layer_sizes=[16,8,4],\n",
        "      n_epochs=EPOCHS,\n",
        "      batch_size=BATCH_SIZE,\n",
        "      learning_rate=1e-3,\n",
        "      verbose=10,\n",
        "      seed=SEED)\n",
        "  model.fit(data)\n",
        "\n",
        "  users, items, preds = [], [], []\n",
        "  item = list(train.itemID.unique())\n",
        "  for user in train.userID.unique():\n",
        "      user = [user] * len(item) \n",
        "      users.extend(user)\n",
        "      items.extend(item)\n",
        "      preds.extend(list(model.predict(user, item, is_list=True)))\n",
        "\n",
        "  all_predictions = pd.DataFrame(data={\"userID\": users, \"itemID\":items, \"prediction\":preds})\n",
        "\n",
        "  merged = pd.merge(train, all_predictions, on=[\"userID\", \"itemID\"], how=\"outer\")\n",
        "  all_predictions = merged[merged.rating.isnull()].drop('rating', axis=1)\n",
        "\n",
        "  return all_predictions\n",
        "\n"
      ],
      "execution_count": null,
      "outputs": []
    },
    {
      "cell_type": "code",
      "metadata": {
        "id": "RECeOCw6jq9n"
      },
      "source": [
        "train=train_df[['userId' ,'movieId' ,'rating']]\r\n",
        "test=test_df[['userId' ,'movieId' ,'rating']]\r\n",
        "train.rename({'userId': 'userID', 'movieId': 'itemID'}, axis=1, inplace=True)\r\n",
        "test.rename({'userId': 'userID', 'movieId': 'itemID'}, axis=1, inplace=True)"
      ],
      "execution_count": null,
      "outputs": []
    },
    {
      "cell_type": "code",
      "metadata": {
        "id": "ebhPtbmYk9Bt"
      },
      "source": [
        "test=pd.merge(test,pd.DataFrame(np.unique(train['userID']),columns=['userID']),on=['userID'],how='inner')"
      ],
      "execution_count": null,
      "outputs": []
    },
    {
      "cell_type": "code",
      "metadata": {
        "id": "G5a1nNDolaD_"
      },
      "source": [
        "data = NCFDataset(train=train, test=test, seed=SEED)"
      ],
      "execution_count": null,
      "outputs": []
    },
    {
      "cell_type": "code",
      "metadata": {
        "colab": {
          "base_uri": "https://localhost:8080/"
        },
        "id": "lXbhHtXFliJ_",
        "outputId": "9ee799e7-ee4c-4092-9b8b-ec337d6862cc"
      },
      "source": [
        "EPOCHS = 100\r\n",
        "BATCH_SIZE = 256\r\n",
        "\r\n",
        "model = NCF (\r\n",
        "    n_users=data.n_users, \r\n",
        "    n_items=data.n_items,\r\n",
        "    model_type=\"NeuMF\",\r\n",
        "    n_factors=4,\r\n",
        "    layer_sizes=[16,8,4],\r\n",
        "    n_epochs=EPOCHS,\r\n",
        "    batch_size=BATCH_SIZE,\r\n",
        "    learning_rate=1e-3,\r\n",
        "    verbose=10,\r\n",
        "    seed=SEED\r\n",
        ")"
      ],
      "execution_count": null,
      "outputs": [
        {
          "output_type": "stream",
          "text": [
            "WARNING:tensorflow:\n",
            "The TensorFlow contrib module will not be included in TensorFlow 2.0.\n",
            "For more information, please see:\n",
            "  * https://github.com/tensorflow/community/blob/master/rfcs/20180907-contrib-sunset.md\n",
            "  * https://github.com/tensorflow/addons\n",
            "  * https://github.com/tensorflow/io (for I/O related ops)\n",
            "If you depend on functionality not listed there, please file an issue.\n",
            "\n",
            "WARNING:tensorflow:From /usr/local/lib/python3.6/dist-packages/tensorflow_core/contrib/layers/python/layers/layers.py:1866: Layer.apply (from tensorflow.python.keras.engine.base_layer) is deprecated and will be removed in a future version.\n",
            "Instructions for updating:\n",
            "Please use `layer.__call__` method instead.\n",
            "WARNING:tensorflow:From /usr/local/lib/python3.6/dist-packages/tensorflow_core/python/ops/losses/losses_impl.py:121: where (from tensorflow.python.ops.array_ops) is deprecated and will be removed in a future version.\n",
            "Instructions for updating:\n",
            "Use tf.where in 2.0, which has the same broadcast rule as np.where\n"
          ],
          "name": "stdout"
        }
      ]
    },
    {
      "cell_type": "code",
      "metadata": {
        "id": "nqgiiYwCl5VF"
      },
      "source": [
        "model.fit(data)"
      ],
      "execution_count": null,
      "outputs": []
    },
    {
      "cell_type": "code",
      "metadata": {
        "id": "BrZstw0u4P83"
      },
      "source": [
        "from timer import Timer\r\n",
        "with Timer() as test_time:\r\n",
        "\r\n",
        "    users, items, preds = [], [], []\r\n",
        "    item = list(train.itemID.unique())\r\n",
        "    for user in train.userID.unique():\r\n",
        "        user = [user] * len(item) \r\n",
        "        users.extend(user)\r\n",
        "        items.extend(item)\r\n",
        "        preds.extend(list(model.predict(user, item, is_list=True)))\r\n",
        "\r\n",
        "    all_predictions = pd.DataFrame(data={\"userID\": users, \"itemID\":items, \"prediction\":preds})\r\n",
        "\r\n",
        "    merged = pd.merge(train, all_predictions, on=[\"userID\", \"itemID\"], how=\"outer\")\r\n",
        "    all_predictions = merged[merged.rating.isnull()].drop('rating', axis=1)\r\n",
        "\r\n",
        "print(\"Took {} seconds for prediction.\".format(test_time.interval))\r\n",
        "all_predictions.to_csv('/content/drive/MyDrive/main_data/ncf_ann100_data_preds.csv')\r\n"
      ],
      "execution_count": null,
      "outputs": []
    },
    {
      "cell_type": "code",
      "metadata": {
        "id": "0U2c0oxBrJsT"
      },
      "source": [
        "all_predictions.to_csv('/content/drive/MyDrive/main_data/ncf_ann100_data_preds.csv')\r\n"
      ],
      "execution_count": null,
      "outputs": []
    }
  ]
}