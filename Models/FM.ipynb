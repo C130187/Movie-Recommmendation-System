{
  "nbformat": 4,
  "nbformat_minor": 0,
  "metadata": {
    "colab": {
      "name": "FM.ipynb",
      "provenance": [],
      "collapsed_sections": [],
      "toc_visible": true
    },
    "kernelspec": {
      "name": "python3",
      "display_name": "Python 3"
    }
  },
  "cells": [
    {
      "cell_type": "markdown",
      "metadata": {
        "id": "aUXvVdkaD4fo"
      },
      "source": [
        "## Imports"
      ]
    },
    {
      "cell_type": "code",
      "metadata": {
        "id": "uHELyFO2q62r"
      },
      "source": [
        "!pip install fastFM\n",
        "!pip install surprise \n",
        "!pip install lightfm\n",
        "!pip install hyperopt"
      ],
      "execution_count": 48,
      "outputs": []
    },
    {
      "cell_type": "code",
      "metadata": {
        "id": "oUdWGb7x53qK"
      },
      "source": [
        "import pandas as pd\n",
        "import math\n",
        "import numpy as np\n",
        "import random\n",
        "from numpy.linalg import inv\n",
        "from numpy.linalg import multi_dot\n",
        "import matplotlib.pyplot as plt\n",
        "import itertools\n",
        "import warnings\n",
        "from math import sqrt\n",
        "from sklearn.feature_extraction import DictVectorizer\n",
        "from sklearn.model_selection import train_test_split\n",
        "from sklearn.preprocessing import OneHotEncoder\n",
        "from fastFM import als\n",
        "from sklearn.metrics import mean_squared_error\n",
        "from lightfm.datasets import fetch_movielens\n",
        "from lightfm import LightFM\n",
        "from pydrive.auth import GoogleAuth\n",
        "from pydrive.drive import GoogleDrive\n",
        "from google.colab import auth\n",
        "from oauth2client.client import GoogleCredentials\n",
        "warnings.filterwarnings(\"ignore\")\n",
        "from scipy import sparse\n",
        "from lightfm import LightFM\n",
        "from sklearn.metrics.pairwise import cosine_similarity"
      ],
      "execution_count": 4,
      "outputs": []
    },
    {
      "cell_type": "markdown",
      "metadata": {
        "id": "F7H7AbdPD8Kt"
      },
      "source": [
        "##Get sampled data from location in drive"
      ]
    },
    {
      "cell_type": "code",
      "metadata": {
        "id": "DBJ8u9_L6Bcr"
      },
      "source": [
        "def get_data():\n",
        "  !pip install -U -q PyDrive\n",
        "  from pydrive.auth import GoogleAuth\n",
        "  from pydrive.drive import GoogleDrive\n",
        "  from google.colab import auth\n",
        "  from oauth2client.client import GoogleCredentials\n",
        "  # Authenticate and create the PyDrive client.\n",
        "  auth.authenticate_user()\n",
        "  gauth = GoogleAuth()\n",
        "  gauth.credentials = GoogleCredentials.get_application_default()\n",
        "  drive = GoogleDrive(gauth)\n",
        "\n",
        "  id = \"1FFYnZRIuzQLeBkDUuJpK_oRtUmdxMd9O\"\n",
        "\n",
        "  downloaded = drive.CreateFile({'id':id}) \n",
        "  downloaded.GetContentFile('final_dataset.csv')  \n",
        "  data = pd.read_csv('final_dataset.csv')\n",
        "  return data\n"
      ],
      "execution_count": 6,
      "outputs": []
    },
    {
      "cell_type": "code",
      "metadata": {
        "id": "etbNK_yPkInP"
      },
      "source": [
        "data = get_data()"
      ],
      "execution_count": 7,
      "outputs": []
    },
    {
      "cell_type": "markdown",
      "metadata": {
        "id": "9QnuXpcSEBuA"
      },
      "source": [
        "## Create train-test datasets"
      ]
    },
    {
      "cell_type": "code",
      "metadata": {
        "id": "IBQrCkQ9et4W"
      },
      "source": [
        "def train_test_split(data):\n",
        "\n",
        "  user_freq=data.groupby(['userId']).size().reset_index(name='counts')\n",
        "  users_lt3=user_freq[user_freq['counts']<3][['userId']]\n",
        "  users_ge3=user_freq[user_freq['counts']>=3][['userId']]\n",
        "  train1=pd.merge(data, users_lt3, on=['userId'],how='inner')\n",
        "  data1=pd.merge(data, users_ge3, on=['userId'],how='inner')\n",
        "  data1.sort_values(['userId', 'timestamp'], ascending=[True, False],inplace=True)\n",
        "  test=data1.groupby('userId').sample(frac=.3, random_state=2) \n",
        "  test_idx=data1.index.isin(test.index.to_list())\n",
        "  train=train1.append(data1[~test_idx])\n",
        "  return train, test, user_freq\n",
        "\n",
        "train, test, user_freq = train_test_split(data)"
      ],
      "execution_count": 8,
      "outputs": []
    },
    {
      "cell_type": "markdown",
      "metadata": {
        "id": "UHorA9OQF3qt"
      },
      "source": [
        "### Create data for giving inputs to model"
      ]
    },
    {
      "cell_type": "code",
      "metadata": {
        "id": "LpUYYU1RBHda"
      },
      "source": [
        "def create_interaction_matrix(df,user_col, item_col, rating_col):\r\n",
        "\r\n",
        "    interactions = df.groupby([user_col, item_col])[rating_col] \\\r\n",
        "            .sum().unstack().reset_index(). \\\r\n",
        "            fillna(0).set_index(user_col)\r\n",
        "\r\n",
        "    return interactions"
      ],
      "execution_count": 9,
      "outputs": []
    },
    {
      "cell_type": "code",
      "metadata": {
        "id": "AWNfDpnvDQT6"
      },
      "source": [
        "def create_user_dict(interactions):\r\n",
        "    user_id = list(interactions.index)\r\n",
        "    user_dict = {}\r\n",
        "    counter = 0 \r\n",
        "    for i in user_id:\r\n",
        "        user_dict[i] = counter\r\n",
        "        counter += 1\r\n",
        "    return user_dict"
      ],
      "execution_count": 10,
      "outputs": []
    },
    {
      "cell_type": "code",
      "metadata": {
        "id": "eD6QDeaBDTSy"
      },
      "source": [
        "def create_item_dict(df,id_col,name_col):\r\n",
        "    item_dict ={}\r\n",
        "    for i in range(df.shape[0]):\r\n",
        "        item_dict[(df.loc[i,id_col])] = df.loc[i,name_col]\r\n",
        "    return item_dict"
      ],
      "execution_count": 11,
      "outputs": []
    },
    {
      "cell_type": "code",
      "metadata": {
        "id": "hJZzTuuiG-jv"
      },
      "source": [
        "def create_data_fm(train, test, user_freq):\n",
        "  train=train[['userId', 'movieId', 'rating']]\n",
        "  test=test[['userId', 'movieId', 'rating']]\n",
        "\n",
        "  train.rename(columns = {'rating':'0_rating'}, inplace = True) \n",
        "  test.rename(columns = {'rating':'0_rating'}, inplace = True) \n",
        "  missing_test_users = user_freq[user_freq['counts']<3]['userId'].values\n",
        "  interactions = create_interaction_matrix(df = train,\n",
        "                                          user_col = 'userId',\n",
        "                                          item_col = 'movieId',\n",
        "                                          rating_col = '0_rating')\n",
        "  test_int=create_interaction_matrix(df = test,\n",
        "                                          user_col = 'userId',\n",
        "                                          item_col = 'movieId',\n",
        "                                          rating_col = '0_rating')\n",
        "  a = np.zeros(shape=(len(missing_test_users),test_int.shape[1]))\n",
        "  missing = pd.DataFrame(a,columns= test_int.columns.values)\n",
        "  missing = missing.set_index(missing_test_users)\n",
        "  test_int = pd.concat([test_int,missing])\n",
        "  return interactions, test_int\n",
        "\n",
        "interactions, test_int = create_data_fm(train,test, user_freq)"
      ],
      "execution_count": 14,
      "outputs": []
    },
    {
      "cell_type": "markdown",
      "metadata": {
        "id": "5Z_YYyNpS-MM"
      },
      "source": [
        "## Bayesian hyperparameter tuning"
      ]
    },
    {
      "cell_type": "code",
      "metadata": {
        "id": "XpUsS68LTCEz"
      },
      "source": [
        "from lightfm.evaluation import precision_at_k\n",
        "from hyperopt import tpe, fmin, hp, Trials, STATUS_OK,space_eval\n",
        "\n",
        "def fm_fn(params): \n",
        "\n",
        "  x = sparse.csr_matrix(interactions.values)\n",
        "  test_intr = sparse.csr_matrix(test_int.values)\n",
        "\n",
        "  fm = LightFM(loss='warp',no_components = params['n_components'],k=params['k'])\n",
        "\n",
        "  fm.fit(x,epochs = params['epoch'],num_threads=3)\n",
        "\n",
        "  # results = cross_validate(model, train, measures = ['rmse'],cv=5, verbose=True)\n",
        "  \n",
        "  res = precision_at_k(fm,test_interactions = test_intr, k=params['k']).mean()\n",
        "  return -res"
      ],
      "execution_count": 15,
      "outputs": []
    },
    {
      "cell_type": "code",
      "metadata": {
        "colab": {
          "base_uri": "https://localhost:8080/"
        },
        "id": "Xhpr2YUcTLNQ",
        "outputId": "a00c1c36-807c-443d-cdc9-4b03653edd45"
      },
      "source": [
        "space = {\n",
        "        'n_components': hp.choice('n_components',[10,15,20,30]),\n",
        "        'epoch': hp.choice('epoch', [50,30,100]),\n",
        "         'k': hp.choice('k', [20,10,30])\n",
        "    }\n",
        "trials = Trials()\n",
        "\n",
        "best = fmin(algo = tpe.suggest,\n",
        "               fn = fm_fn,\n",
        "               trials = trials,\n",
        "               max_evals = 20,\n",
        "               space = space)"
      ],
      "execution_count": 16,
      "outputs": [
        {
          "output_type": "stream",
          "text": [
            "100%|██████████| 20/20 [18:24<00:00, 55.22s/it, best loss: -0.06386011838912964]\n"
          ],
          "name": "stdout"
        }
      ]
    },
    {
      "cell_type": "code",
      "metadata": {
        "colab": {
          "base_uri": "https://localhost:8080/"
        },
        "id": "L-iLpKZTpY51",
        "outputId": "44f0bc65-c67b-4aa9-bdef-e4b22d860658"
      },
      "source": [
        "space_eval(space, best)"
      ],
      "execution_count": 22,
      "outputs": [
        {
          "output_type": "execute_result",
          "data": {
            "text/plain": [
              "{'epoch': 30, 'k': 10, 'n_components': 15}"
            ]
          },
          "metadata": {
            "tags": []
          },
          "execution_count": 22
        }
      ]
    },
    {
      "cell_type": "code",
      "metadata": {
        "id": "EPxl8kQSq-1a"
      },
      "source": [
        "n_comps = [10,15,20,30]\n",
        "epochs = [50,30,100]\n",
        "k = [20,10,30]"
      ],
      "execution_count": 31,
      "outputs": []
    },
    {
      "cell_type": "code",
      "metadata": {
        "colab": {
          "base_uri": "https://localhost:8080/"
        },
        "id": "Eqn20zTeqHRu",
        "outputId": "d368579b-a3d6-4622-c1f3-b88c0fc6b3e2"
      },
      "source": [
        "n_comps[trials.trials[0]['misc']['vals']['n_components'][0]]"
      ],
      "execution_count": 45,
      "outputs": [
        {
          "output_type": "execute_result",
          "data": {
            "text/plain": [
              "15"
            ]
          },
          "metadata": {
            "tags": []
          },
          "execution_count": 45
        }
      ]
    },
    {
      "cell_type": "code",
      "metadata": {
        "colab": {
          "base_uri": "https://localhost:8080/"
        },
        "id": "QmjtdCrhsKO9",
        "outputId": "f7ec4a46-33d3-4f94-b9b1-37cc525eaf7e"
      },
      "source": [
        "[epochs[x['misc']['vals']['epoch'][0]] for x in trials.trials]"
      ],
      "execution_count": 40,
      "outputs": [
        {
          "output_type": "execute_result",
          "data": {
            "text/plain": [
              "[50,\n",
              " 100,\n",
              " 100,\n",
              " 100,\n",
              " 30,\n",
              " 50,\n",
              " 100,\n",
              " 30,\n",
              " 50,\n",
              " 50,\n",
              " 30,\n",
              " 30,\n",
              " 100,\n",
              " 100,\n",
              " 100,\n",
              " 50,\n",
              " 30,\n",
              " 100,\n",
              " 50,\n",
              " 100]"
            ]
          },
          "metadata": {
            "tags": []
          },
          "execution_count": 40
        }
      ]
    },
    {
      "cell_type": "code",
      "metadata": {
        "colab": {
          "base_uri": "https://localhost:8080/",
          "height": 628
        },
        "id": "EIKT8YCkpqfN",
        "outputId": "ac1dd1e5-cfc4-4957-d02c-0671916a8e9a"
      },
      "source": [
        "tpe_results=np.array([[x['result']['loss'],epochs[x['misc']['vals']['epoch'][0]], k[x['misc']['vals']['k'][0]],\n",
        "                      n_comps[x['misc']['vals']['n_components'][0]] ]\n",
        "                      for x in trials.trials])\n",
        "\n",
        "tpe_results_df=pd.DataFrame(tpe_results,\n",
        "                           columns=['score', 'learning_rate', 'max_depth', 'n_estimators'])\n",
        "tpe_results_df.plot(subplots=True,figsize=(10, 10))"
      ],
      "execution_count": 47,
      "outputs": [
        {
          "output_type": "execute_result",
          "data": {
            "text/plain": [
              "array([<matplotlib.axes._subplots.AxesSubplot object at 0x7f441289f630>,\n",
              "       <matplotlib.axes._subplots.AxesSubplot object at 0x7f4411ff2898>,\n",
              "       <matplotlib.axes._subplots.AxesSubplot object at 0x7f4411fa8898>,\n",
              "       <matplotlib.axes._subplots.AxesSubplot object at 0x7f441055b898>],\n",
              "      dtype=object)"
            ]
          },
          "metadata": {
            "tags": []
          },
          "execution_count": 47
        },
        {
          "output_type": "display_data",
          "data": {
            "image/png": "[encoded data removed]",
            "text/plain": [
              "<Figure size 720x720 with 4 Axes>"
            ]
          },
          "metadata": {
            "tags": [],
            "needs_background": "light"
          }
        }
      ]
    },
    {
      "cell_type": "markdown",
      "metadata": {
        "id": "KV_tlBXtoKxu"
      },
      "source": [
        "We find the best parameters are 'epoch': 30, 'k': 10, 'n_components': 15"
      ]
    },
    {
      "cell_type": "markdown",
      "metadata": {
        "id": "GbJJDnVyp5a8"
      },
      "source": [
        "OPTIMIZED MODEL"
      ]
    },
    {
      "cell_type": "code",
      "metadata": {
        "id": "cNct_P_BovRA"
      },
      "source": [
        "def runFM(interactions, n_components,  k, epoch ,loss='warp', n_jobs = 4):\r\n",
        "\r\n",
        "    x = sparse.csr_matrix(interactions.values)\r\n",
        "    model = LightFM(no_components= n_components, loss=loss,k=k)\r\n",
        "    model.fit(x,epochs=epoch,num_threads = n_jobs)\r\n",
        "    return model"
      ],
      "execution_count": null,
      "outputs": []
    },
    {
      "cell_type": "code",
      "metadata": {
        "id": "SuF8Gp2dI1Ei"
      },
      "source": [
        "def train_fm_model(train, test, user_freq):\n",
        "  interactions, test_int = create_data(train,test, user_freq)\n",
        "  mf_model = runFM(interactions,10,10,30)\n",
        "  return mf_model\n",
        "\n",
        "mf_model = train_fm_model(train, test, user_freq)"
      ],
      "execution_count": null,
      "outputs": []
    },
    {
      "cell_type": "code",
      "metadata": {
        "id": "EPxkOjW0KMv7"
      },
      "source": [
        "def get_fm_predictions(fm_model):\n",
        "  user_dict = create_user_dict(interactions=interactions)\n",
        "  movies_dict = create_item_dict(df = movies,\n",
        "                               id_col = 'movieId',\n",
        "                               name_col = 'title')\n",
        "  u_list=list(user_dict.values())\n",
        "  n_users, n_items = interactions.shape\n",
        "\n",
        "\n",
        "  preds=pd.DataFrame(columns=['userId','movieId','prediction'])\n",
        "\n",
        "  def predictions(users):\n",
        "    u_vec=[users]*n_items\n",
        "    i_vec=list(np.arange(n_items))\n",
        "    r_vec=list(mf_model.predict(users,np.arange(n_items)))\n",
        "    data = pd.DataFrame({'userId': u_vec, 'movieId': i_vec,'prediction':r_vec})\n",
        "    return(data)\n",
        "  \n",
        "  epc = list(map(predictions,u_list))\n",
        "  df = pd.concat(epc)\n",
        "  m_ls=list(interactions.columns)\n",
        "  m_id=list(np.arange(len(m_ls)))\n",
        "  movie_df = pd.DataFrame({'m_id': m_ls, 'movieId': m_id})\n",
        "\n",
        "  u_ls=list(interactions.index)\n",
        "  u_id=list(np.arange(len(u_ls)))\n",
        "  user_df = pd.DataFrame({'u_id': u_ls, 'userId': u_id})\n",
        "\n",
        "  df=pd.merge(pd.merge(df,user_df,on=['userId'],how='inner'),movie_df,on=['movieId'],how='inner')\n",
        "  df.drop(['movieId','userId'],axis=1,inplace=True)\n",
        "  df.rename({'u_id': 'userId', 'm_id': 'movieId'}, axis=1, inplace=True)\n",
        "  \n",
        "  merged = pd.merge(train, df, on=[\"userId\", \"movieId\"], how=\"outer\")\n",
        "  all_predictions = merged[merged['0_rating'].isnull()].drop('0_rating', axis=1)\n",
        "\n",
        "  all_predictions = all_predictions.rename(columns={'prediction':'predictions'})\n",
        "\n",
        "  return all_predictions \n",
        "\n",
        "fm_predictions = get_fm_predictions(mf_model)\n"
      ],
      "execution_count": null,
      "outputs": []
    },
    {
      "cell_type": "code",
      "metadata": {
        "colab": {
          "base_uri": "https://localhost:8080/"
        },
        "id": "cfDAMgcdW7rg",
        "outputId": "c1eb6e69-cedc-4f91-869c-2f9fcc3ecdbf"
      },
      "source": [
        "from google.colab import drive\n",
        "drive.mount('/content/drive')"
      ],
      "execution_count": null,
      "outputs": [
        {
          "output_type": "stream",
          "text": [
            "Mounted at /content/drive\n"
          ],
          "name": "stdout"
        }
      ]
    },
    {
      "cell_type": "code",
      "metadata": {
        "id": "iKSnrCf8Xrkh"
      },
      "source": [
        "all_predictions.to_csv('/content/drive/MyDrive/main_data/fm_jay_warp.csv',index = None)"
      ],
      "execution_count": null,
      "outputs": []
    },
    {
      "cell_type": "code",
      "metadata": {
        "colab": {
          "base_uri": "https://localhost:8080/"
        },
        "id": "JUqh1AyYmgUC",
        "outputId": "22b713f1-87e8-41fa-cfb2-439634d5e8b4"
      },
      "source": [
        "train['userId'].nunique()"
      ],
      "execution_count": null,
      "outputs": [
        {
          "output_type": "execute_result",
          "data": {
            "text/plain": [
              "20974"
            ]
          },
          "metadata": {
            "tags": []
          },
          "execution_count": 132
        }
      ]
    },
    {
      "cell_type": "code",
      "metadata": {
        "id": "-DEzsUYenTbr"
      },
      "source": [
        ""
      ],
      "execution_count": null,
      "outputs": []
    }
  ]
}