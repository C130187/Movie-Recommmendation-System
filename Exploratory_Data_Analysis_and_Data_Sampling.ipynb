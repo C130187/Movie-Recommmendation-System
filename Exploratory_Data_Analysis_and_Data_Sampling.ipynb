{
  "nbformat": 4,
  "nbformat_minor": 0,
  "metadata": {
    "colab": {
      "name": "Exploratory Data Analysis and Data Sampling.ipynb",
      "provenance": [],
      "collapsed_sections": []
    },
    "kernelspec": {
      "name": "python3",
      "display_name": "Python 3"
    }
  },
  "cells": [
    {
      "cell_type": "code",
      "metadata": {
        "id": "3rFqhb7c47Yg"
      },
      "source": [
        "import pandas as pd\n",
        "import numpy as np\n",
        "from datetime import datetime\n",
        "import matplotlib.pyplot as plt\n",
        "import random\n",
        "import warnings\n",
        "import requests\n",
        "from io import BytesIO\n",
        "from zipfile import ZipFile\n",
        "warnings.filterwarnings(\"ignore\")"
      ],
      "execution_count": 8,
      "outputs": []
    },
    {
      "cell_type": "code",
      "metadata": {
        "id": "RxYOmbFck7nA"
      },
      "source": [
        "data_url = 'http://files.grouplens.org/datasets/movielens/ml-latest.zip'\r\n",
        "res = requests.get(data_url)\r\n",
        "file = ZipFile(BytesIO(res.content)).open('ml-latest/ratings.csv')\r\n",
        "ratings = pd.read_csv(file)\r\n"
      ],
      "execution_count": 9,
      "outputs": []
    },
    {
      "cell_type": "markdown",
      "metadata": {
        "id": "W2yXGyhK54t5"
      },
      "source": [
        "## Exploratory Data Analysis"
      ]
    },
    {
      "cell_type": "code",
      "metadata": {
        "id": "3qRwtwtU5CnB",
        "colab": {
          "base_uri": "https://localhost:8080/",
          "height": 206
        },
        "outputId": "26097c24-83d5-4b4c-be0b-91b7f8d24d22"
      },
      "source": [
        "ratings.head()"
      ],
      "execution_count": 10,
      "outputs": [
        {
          "output_type": "execute_result",
          "data": {
            "text/html": [
              "<div>\n",
              "<style scoped>\n",
              "    .dataframe tbody tr th:only-of-type {\n",
              "        vertical-align: middle;\n",
              "    }\n",
              "\n",
              "    .dataframe tbody tr th {\n",
              "        vertical-align: top;\n",
              "    }\n",
              "\n",
              "    .dataframe thead th {\n",
              "        text-align: right;\n",
              "    }\n",
              "</style>\n",
              "<table border=\"1\" class=\"dataframe\">\n",
              "  <thead>\n",
              "    <tr style=\"text-align: right;\">\n",
              "      <th></th>\n",
              "      <th>userId</th>\n",
              "      <th>movieId</th>\n",
              "      <th>rating</th>\n",
              "      <th>timestamp</th>\n",
              "    </tr>\n",
              "  </thead>\n",
              "  <tbody>\n",
              "    <tr>\n",
              "      <th>0</th>\n",
              "      <td>1</td>\n",
              "      <td>307</td>\n",
              "      <td>3.5</td>\n",
              "      <td>1256677221</td>\n",
              "    </tr>\n",
              "    <tr>\n",
              "      <th>1</th>\n",
              "      <td>1</td>\n",
              "      <td>481</td>\n",
              "      <td>3.5</td>\n",
              "      <td>1256677456</td>\n",
              "    </tr>\n",
              "    <tr>\n",
              "      <th>2</th>\n",
              "      <td>1</td>\n",
              "      <td>1091</td>\n",
              "      <td>1.5</td>\n",
              "      <td>1256677471</td>\n",
              "    </tr>\n",
              "    <tr>\n",
              "      <th>3</th>\n",
              "      <td>1</td>\n",
              "      <td>1257</td>\n",
              "      <td>4.5</td>\n",
              "      <td>1256677460</td>\n",
              "    </tr>\n",
              "    <tr>\n",
              "      <th>4</th>\n",
              "      <td>1</td>\n",
              "      <td>1449</td>\n",
              "      <td>4.5</td>\n",
              "      <td>1256677264</td>\n",
              "    </tr>\n",
              "  </tbody>\n",
              "</table>\n",
              "</div>"
            ],
            "text/plain": [
              "   userId  movieId  rating   timestamp\n",
              "0       1      307     3.5  1256677221\n",
              "1       1      481     3.5  1256677456\n",
              "2       1     1091     1.5  1256677471\n",
              "3       1     1257     4.5  1256677460\n",
              "4       1     1449     4.5  1256677264"
            ]
          },
          "metadata": {
            "tags": []
          },
          "execution_count": 10
        }
      ]
    },
    {
      "cell_type": "code",
      "metadata": {
        "colab": {
          "base_uri": "https://localhost:8080/"
        },
        "id": "TlySvcb7YYKo",
        "outputId": "d3fa51af-4105-4d7f-940e-30cdb1046bdf"
      },
      "source": [
        "# Number of Movies\n",
        "ratingsGroupedByMovie = ratings.groupby(by=[\"movieId\"]).count().reset_index()\n",
        "\n",
        "#Number of Users\n",
        "ratingsGroupedByusers = ratings.groupby(by=[\"userId\"]).count().reset_index()\n",
        "\n",
        "TotalMovies = ratingsGroupedByMovie.shape[0]\n",
        "TotalUsers = ratingsGroupedByusers.shape[0]\n",
        "print(\"The total number of users are\",TotalUsers,\"and the total number of movies are\",TotalMovies)"
      ],
      "execution_count": null,
      "outputs": [
        {
          "output_type": "stream",
          "text": [
            "The total number of users are 283228 and the total number of movies are 53889\n"
          ],
          "name": "stdout"
        }
      ]
    },
    {
      "cell_type": "code",
      "metadata": {
        "id": "XM3sUrhtVtRd"
      },
      "source": [
        "user_freq=ratings.groupby('userId', as_index=False).agg(num_movies=('movieId','count'))\n",
        "movie_freq=ratings.groupby('movieId', as_index=False).agg(num_users=('userId','count'))"
      ],
      "execution_count": null,
      "outputs": []
    },
    {
      "cell_type": "code",
      "metadata": {
        "colab": {
          "base_uri": "https://localhost:8080/",
          "height": 294
        },
        "id": "qkMIfgFaVtYW",
        "outputId": "7ad6259d-ece6-4314-956c-7417113b1f0f"
      },
      "source": [
        "user_freq['num_movies'].to_frame().describe()"
      ],
      "execution_count": null,
      "outputs": [
        {
          "output_type": "execute_result",
          "data": {
            "text/html": [
              "<div>\n",
              "<style scoped>\n",
              "    .dataframe tbody tr th:only-of-type {\n",
              "        vertical-align: middle;\n",
              "    }\n",
              "\n",
              "    .dataframe tbody tr th {\n",
              "        vertical-align: top;\n",
              "    }\n",
              "\n",
              "    .dataframe thead th {\n",
              "        text-align: right;\n",
              "    }\n",
              "</style>\n",
              "<table border=\"1\" class=\"dataframe\">\n",
              "  <thead>\n",
              "    <tr style=\"text-align: right;\">\n",
              "      <th></th>\n",
              "      <th>num_movies</th>\n",
              "    </tr>\n",
              "  </thead>\n",
              "  <tbody>\n",
              "    <tr>\n",
              "      <th>count</th>\n",
              "      <td>283228.000000</td>\n",
              "    </tr>\n",
              "    <tr>\n",
              "      <th>mean</th>\n",
              "      <td>97.989761</td>\n",
              "    </tr>\n",
              "    <tr>\n",
              "      <th>std</th>\n",
              "      <td>212.760722</td>\n",
              "    </tr>\n",
              "    <tr>\n",
              "      <th>min</th>\n",
              "      <td>1.000000</td>\n",
              "    </tr>\n",
              "    <tr>\n",
              "      <th>25%</th>\n",
              "      <td>15.000000</td>\n",
              "    </tr>\n",
              "    <tr>\n",
              "      <th>50%</th>\n",
              "      <td>30.000000</td>\n",
              "    </tr>\n",
              "    <tr>\n",
              "      <th>75%</th>\n",
              "      <td>95.000000</td>\n",
              "    </tr>\n",
              "    <tr>\n",
              "      <th>max</th>\n",
              "      <td>23715.000000</td>\n",
              "    </tr>\n",
              "  </tbody>\n",
              "</table>\n",
              "</div>"
            ],
            "text/plain": [
              "          num_movies\n",
              "count  283228.000000\n",
              "mean       97.989761\n",
              "std       212.760722\n",
              "min         1.000000\n",
              "25%        15.000000\n",
              "50%        30.000000\n",
              "75%        95.000000\n",
              "max     23715.000000"
            ]
          },
          "metadata": {
            "tags": []
          },
          "execution_count": 59
        }
      ]
    },
    {
      "cell_type": "markdown",
      "metadata": {
        "id": "acTWBEJtWASm"
      },
      "source": [
        "The average number of movies rated per user is 98 and 50% of the users rated less then or equal to 30 movies while 75% of them have rated less than or equal to 95 movies."
      ]
    },
    {
      "cell_type": "code",
      "metadata": {
        "colab": {
          "base_uri": "https://localhost:8080/",
          "height": 294
        },
        "id": "_rN3_Qb8VtUr",
        "outputId": "05dc5251-5c8b-4393-d631-4fe2ed7171be"
      },
      "source": [
        "movie_freq['num_users'].to_frame().describe()"
      ],
      "execution_count": null,
      "outputs": [
        {
          "output_type": "execute_result",
          "data": {
            "text/html": [
              "<div>\n",
              "<style scoped>\n",
              "    .dataframe tbody tr th:only-of-type {\n",
              "        vertical-align: middle;\n",
              "    }\n",
              "\n",
              "    .dataframe tbody tr th {\n",
              "        vertical-align: top;\n",
              "    }\n",
              "\n",
              "    .dataframe thead th {\n",
              "        text-align: right;\n",
              "    }\n",
              "</style>\n",
              "<table border=\"1\" class=\"dataframe\">\n",
              "  <thead>\n",
              "    <tr style=\"text-align: right;\">\n",
              "      <th></th>\n",
              "      <th>num_users</th>\n",
              "    </tr>\n",
              "  </thead>\n",
              "  <tbody>\n",
              "    <tr>\n",
              "      <th>count</th>\n",
              "      <td>53889.000000</td>\n",
              "    </tr>\n",
              "    <tr>\n",
              "      <th>mean</th>\n",
              "      <td>515.011301</td>\n",
              "    </tr>\n",
              "    <tr>\n",
              "      <th>std</th>\n",
              "      <td>2934.758939</td>\n",
              "    </tr>\n",
              "    <tr>\n",
              "      <th>min</th>\n",
              "      <td>1.000000</td>\n",
              "    </tr>\n",
              "    <tr>\n",
              "      <th>25%</th>\n",
              "      <td>2.000000</td>\n",
              "    </tr>\n",
              "    <tr>\n",
              "      <th>50%</th>\n",
              "      <td>7.000000</td>\n",
              "    </tr>\n",
              "    <tr>\n",
              "      <th>75%</th>\n",
              "      <td>48.000000</td>\n",
              "    </tr>\n",
              "    <tr>\n",
              "      <th>max</th>\n",
              "      <td>97999.000000</td>\n",
              "    </tr>\n",
              "  </tbody>\n",
              "</table>\n",
              "</div>"
            ],
            "text/plain": [
              "          num_users\n",
              "count  53889.000000\n",
              "mean     515.011301\n",
              "std     2934.758939\n",
              "min        1.000000\n",
              "25%        2.000000\n",
              "50%        7.000000\n",
              "75%       48.000000\n",
              "max    97999.000000"
            ]
          },
          "metadata": {
            "tags": []
          },
          "execution_count": 60
        }
      ]
    },
    {
      "cell_type": "markdown",
      "metadata": {
        "id": "KOFS8OMCWFlr"
      },
      "source": [
        "Total movies = ~54k. On an average a movie has been rated by 515 users, 50% of the movies have been rated by less than or equal to 7 users while 75% of the movies have been rated by less than or equal to 48 users"
      ]
    },
    {
      "cell_type": "code",
      "metadata": {
        "colab": {
          "base_uri": "https://localhost:8080/",
          "height": 334
        },
        "id": "nrLqMrbTVtPW",
        "outputId": "d0409783-d1cc-4e7d-c9d0-e775ac574819"
      },
      "source": [
        "plt.figure(figsize=(15,5))\n",
        "plt.hist(user_freq['num_movies'], bins=100, edgecolor='b', log=True)\n",
        "plt.xlim(0,)\n",
        "plt.xticks(np.arange(0,25000,2000))\n",
        "plt.xlabel('Number of ratings')\n",
        "plt.ylabel('Number of users')\n",
        "plt.show()"
      ],
      "execution_count": null,
      "outputs": [
        {
          "output_type": "display_data",
          "data": {
            "image/png": "[encoded data removed]",
            "text/plain": [
              "<Figure size 1080x360 with 1 Axes>"
            ]
          },
          "metadata": {
            "tags": [],
            "needs_background": "light"
          }
        }
      ]
    },
    {
      "cell_type": "code",
      "metadata": {
        "colab": {
          "base_uri": "https://localhost:8080/",
          "height": 334
        },
        "id": "2pM1LhLmVtMC",
        "outputId": "c5960c36-1cea-46b3-84ad-0b076c2e81e1"
      },
      "source": [
        "plt.figure(figsize=(15,5))\n",
        "plt.hist(movie_freq['num_users'], bins=100, edgecolor='b', log=True)\n",
        "plt.xlim(0,)\n",
        "plt.xticks(np.arange(0,110000,10000))\n",
        "plt.xlabel('Number of ratings')\n",
        "plt.ylabel('Number of movies')\n",
        "plt.show()"
      ],
      "execution_count": null,
      "outputs": [
        {
          "output_type": "display_data",
          "data": {
            "image/png": "[encoded data removed]",
            "text/plain": [
              "<Figure size 1080x360 with 1 Axes>"
            ]
          },
          "metadata": {
            "tags": [],
            "needs_background": "light"
          }
        }
      ]
    },
    {
      "cell_type": "code",
      "metadata": {
        "colab": {
          "base_uri": "https://localhost:8080/",
          "height": 336
        },
        "id": "MuHjTLOEWruQ",
        "outputId": "2ec8ff94-2b62-4269-8719-6364f7237862"
      },
      "source": [
        "df_mv_gp = ratings[['movieId','rating']].groupby('movieId').agg(mean_rating=('rating','mean'))\n",
        "df_mv_gp.hist(bins=30, grid=False, edgecolor='b', density=True, figsize=(10,5))\n",
        "df_mv_gp['mean_rating'].plot(grid=False, alpha=10, kind='kde')\n",
        "plt.title('Average rating per movie')\n",
        "plt.show()"
      ],
      "execution_count": null,
      "outputs": [
        {
          "output_type": "display_data",
          "data": {
            "image/png": "[encoded data removed]",
            "text/plain": [
              "<Figure size 720x360 with 1 Axes>"
            ]
          },
          "metadata": {
            "tags": [],
            "needs_background": "light"
          }
        }
      ]
    },
    {
      "cell_type": "markdown",
      "metadata": {
        "id": "ks9b9js_WsmC"
      },
      "source": [
        "Density plot of mean rating of movies indicate a multimodal distribution achieving its bimodal peaks around the centre of rating scale"
      ]
    },
    {
      "cell_type": "code",
      "metadata": {
        "colab": {
          "base_uri": "https://localhost:8080/",
          "height": 336
        },
        "id": "vx5jF1IwWryE",
        "outputId": "55fda0b1-e1ff-47dc-91b9-b04619e74649"
      },
      "source": [
        "df_ur_gp = ratings[['userId','rating']].groupby('userId').agg(mean_rating=('rating','mean'))\n",
        "df_ur_gp.hist(bins=30, grid=False, edgecolor='b', density=True, figsize=(10,5))\n",
        "df_ur_gp['mean_rating'].plot(grid=False, alpha=10, kind='kde')\n",
        "plt.title('Average rating per user')\n",
        "plt.show()"
      ],
      "execution_count": null,
      "outputs": [
        {
          "output_type": "display_data",
          "data": {
            "image/png": "[encoded data removed]",
            "text/plain": [
              "<Figure size 720x360 with 1 Axes>"
            ]
          },
          "metadata": {
            "tags": [],
            "needs_background": "light"
          }
        }
      ]
    },
    {
      "cell_type": "markdown",
      "metadata": {
        "id": "iuoZhotCW2l-"
      },
      "source": [
        "Density plot of mean rating per user indicates a left skewed distribution with mean approximately 3.6\n"
      ]
    },
    {
      "cell_type": "markdown",
      "metadata": {
        "id": "pWa7Di3i6rz8"
      },
      "source": [
        "### Filtering users who have rated more than 10 movies and movies that have more than 1000 ratings"
      ]
    },
    {
      "cell_type": "code",
      "metadata": {
        "id": "etALKiAL5arb",
        "colab": {
          "base_uri": "https://localhost:8080/"
        },
        "outputId": "6595826a-3a97-44ad-d769-d0d4b5502d72"
      },
      "source": [
        "# Only keeping Users who have rated more than 10 movies \n",
        "ratings1 = ratings[ratings.groupby(\"userId\")['userId'].transform('size')>10]\n",
        "# Only keeping Movies which have been rated more than 1000 times\n",
        "ratings1 = ratings1[ratings1.groupby(\"movieId\")['movieId'].transform('size')>1000]\n",
        "\n",
        "# Number of Movies after filtering\n",
        "ratingsGroupedByMovie_filtered = ratings1.groupby(by=[\"movieId\"]).count().reset_index()\n",
        "\n",
        "#Number of Users after filtering\n",
        "ratingsGroupedByusers_filtered = ratings1.groupby(by=[\"userId\"]).count().reset_index()\n",
        "\n",
        "TotalMovies_filtered = ratingsGroupedByMovie_filtered.shape[0]\n",
        "TotalUsers_filtered = ratingsGroupedByusers_filtered.shape[0]\n",
        "print(\"The total number of users after filtering are\",TotalUsers_filtered,\"and the total number of movies after filtering are\",TotalMovies_filtered)"
      ],
      "execution_count": null,
      "outputs": [
        {
          "output_type": "stream",
          "text": [
            "The total number of users after filtering are 236649 and the total number of movies after filtering are 3914\n"
          ],
          "name": "stdout"
        }
      ]
    },
    {
      "cell_type": "markdown",
      "metadata": {
        "id": "7MjaRBuXmpr2"
      },
      "source": [
        "# Data Sampling\n"
      ]
    },
    {
      "cell_type": "markdown",
      "metadata": {
        "id": "SBx2NEvf6DAE"
      },
      "source": [
        "## Method 1 : Stratified Sampling : Preserving the total number of movies depending upon the number of times they have been rated (Preserving the proportion/distribution of our original dataset)"
      ]
    },
    {
      "cell_type": "code",
      "metadata": {
        "id": "O4iJUa_V4xo1"
      },
      "source": [
        "def create_stratified_sample(n=100):\n",
        "  np.random.seed(10)\n",
        "  # N --> Total Sample size desired\n",
        "  N = 1000000\n",
        "  final_ratings = ratings1.groupby('movieId', group_keys=False).apply(lambda x: x.sample(int(np.rint(N*len(x)/len(ratings1))))).sample(frac=1).reset_index(drop=True)\n",
        "\n",
        "  return final_ratings"
      ],
      "execution_count": null,
      "outputs": []
    },
    {
      "cell_type": "code",
      "metadata": {
        "id": "mRXFFPQJD8eJ"
      },
      "source": [
        "final_ratings1 = create_stratified_sample()"
      ],
      "execution_count": null,
      "outputs": []
    },
    {
      "cell_type": "code",
      "metadata": {
        "id": "RuP4OWZdIFfz",
        "colab": {
          "base_uri": "https://localhost:8080/"
        },
        "outputId": "b5407c4a-639b-4903-861b-0fd278733b11"
      },
      "source": [
        "print(\"The total number of users after stratified sampling are\", final_ratings1.groupby(by=[\"userId\"]).count().shape[0])"
      ],
      "execution_count": null,
      "outputs": [
        {
          "output_type": "stream",
          "text": [
            "The total number of users after stratified sampling are 180289\n"
          ],
          "name": "stdout"
        }
      ]
    },
    {
      "cell_type": "code",
      "metadata": {
        "id": "q9M_R2y3IIIW",
        "colab": {
          "base_uri": "https://localhost:8080/"
        },
        "outputId": "31741ca2-d4ad-4aa4-d3da-eef5fe52e4ac"
      },
      "source": [
        "print(\"The total number of movies after stratified sampling are\", final_ratings1.groupby(by=[\"movieId\"]).count().shape[0])"
      ],
      "execution_count": null,
      "outputs": [
        {
          "output_type": "stream",
          "text": [
            "The total number of movies after stratified sampling are 3914\n"
          ],
          "name": "stdout"
        }
      ]
    },
    {
      "cell_type": "code",
      "metadata": {
        "id": "B3ezbD5vJ6QW",
        "colab": {
          "base_uri": "https://localhost:8080/"
        },
        "outputId": "c85204ac-e2df-4b48-b9b3-7e29b682e6df"
      },
      "source": [
        "final_ratings1_movie_grouping = final_ratings1.groupby(by=[\"movieId\"]).count().reset_index()\n",
        "print(\"Minimum number of ratings per movie: \",final_ratings1_movie_grouping[\"userId\"].mean())"
      ],
      "execution_count": null,
      "outputs": [
        {
          "output_type": "stream",
          "text": [
            "Minimum number of ratings per movie:  255.4982115482882\n"
          ],
          "name": "stdout"
        }
      ]
    },
    {
      "cell_type": "code",
      "metadata": {
        "id": "_NRq1yaLAkUR"
      },
      "source": [
        "user_freq1=final_ratings1.groupby('userId', as_index=False).agg(num_movies=('movieId','count'))\n",
        "movie_freq1 = final_ratings1.groupby('movieId', as_index=False).agg(num_users=('userId','count'))"
      ],
      "execution_count": null,
      "outputs": []
    },
    {
      "cell_type": "code",
      "metadata": {
        "colab": {
          "base_uri": "https://localhost:8080/",
          "height": 334
        },
        "id": "AuZiI_6eAXP1",
        "outputId": "f9818d7b-f897-411a-e6c7-30f78f0028a7"
      },
      "source": [
        "plt.figure(figsize=(15,5))\n",
        "plt.hist(user_freq1['num_movies'], bins=100, edgecolor='b', log=True)\n",
        "plt.xlim(0,)\n",
        "plt.xticks(np.arange(0,200,10))\n",
        "plt.xlabel('Number of ratings')\n",
        "plt.ylabel('Number of users')\n",
        "plt.show()"
      ],
      "execution_count": null,
      "outputs": [
        {
          "output_type": "display_data",
          "data": {
            "image/png": "[encoded data removed]",
            "text/plain": [
              "<Figure size 1080x360 with 1 Axes>"
            ]
          },
          "metadata": {
            "tags": [],
            "needs_background": "light"
          }
        }
      ]
    },
    {
      "cell_type": "code",
      "metadata": {
        "colab": {
          "base_uri": "https://localhost:8080/"
        },
        "id": "CG_nudVCZvjP",
        "outputId": "99bf4cfb-bf91-4d0a-a45c-84164677473d"
      },
      "source": [
        "plt.figure(figsize=(15,5))\n",
        "plt.hist(movie_freq1['num_users'], bins=100, edgecolor='b', log=True)\n",
        "plt.xlim(0,)\n",
        "plt.xticks(np.arange(0,4000,200))\n",
        "plt.xlabel('Number of ratings')\n",
        "plt.ylabel('Number of movies')\n",
        "plt.show()"
      ],
      "execution_count": null,
      "outputs": [
        {
          "output_type": "display_data",
          "data": {
            "image/png": "[encoded data removed]",
            "text/plain": [
              "<Figure size 1080x360 with 1 Axes>"
            ]
          },
          "metadata": {
            "tags": [],
            "needs_background": "light"
          }
        }
      ]
    },
    {
      "cell_type": "code",
      "metadata": {
        "colab": {
          "base_uri": "https://localhost:8080/",
          "height": 336
        },
        "id": "Mpg05_axbIrt",
        "outputId": "3f0e3c76-8584-4654-8c66-5616f5f93859"
      },
      "source": [
        "df_ur_gp1 = final_ratings1[['userId','rating']].groupby('userId').agg(mean_rating=('rating','mean'))\n",
        "df_ur_gp1.hist(bins=30, grid=False, edgecolor='b', density=True, figsize=(10,5))\n",
        "df_ur_gp1['mean_rating'].plot(grid=False, alpha=10, kind='kde')\n",
        "plt.title('Average rating per user')\n",
        "plt.show()"
      ],
      "execution_count": null,
      "outputs": [
        {
          "output_type": "display_data",
          "data": {
            "image/png": "[encoded data removed]",
            "text/plain": [
              "<Figure size 720x360 with 1 Axes>"
            ]
          },
          "metadata": {
            "tags": [],
            "needs_background": "light"
          }
        }
      ]
    },
    {
      "cell_type": "code",
      "metadata": {
        "colab": {
          "base_uri": "https://localhost:8080/",
          "height": 336
        },
        "id": "CqjZz07reQSY",
        "outputId": "f32a07c3-ce36-48b1-b48a-6b9d30e88438"
      },
      "source": [
        "df_mv_gp1 = final_ratings1[['movieId','rating']].groupby('movieId').agg(mean_rating=('rating','mean'))\n",
        "df_mv_gp1.hist(bins=30, grid=False, edgecolor='b', density=True, figsize=(10,5))\n",
        "df_mv_gp1['mean_rating'].plot(grid=False, alpha=10, kind='kde')\n",
        "plt.title('Average rating per movie')\n",
        "plt.show()"
      ],
      "execution_count": null,
      "outputs": [
        {
          "output_type": "display_data",
          "data": {
            "image/png": "[encoded data removed]",
            "text/plain": [
              "<Figure size 720x360 with 1 Axes>"
            ]
          },
          "metadata": {
            "tags": [],
            "needs_background": "light"
          }
        }
      ]
    },
    {
      "cell_type": "markdown",
      "metadata": {
        "id": "Kss_b8en6AsF"
      },
      "source": [
        "## Method 2 : Sampling Based on Timestamp "
      ]
    },
    {
      "cell_type": "markdown",
      "metadata": {
        "id": "75bFW4FqWgCX"
      },
      "source": [
        "### Observing the trend of of movies rated for per given years"
      ]
    },
    {
      "cell_type": "code",
      "metadata": {
        "id": "JAZ5YTbXFfAZ",
        "colab": {
          "base_uri": "https://localhost:8080/",
          "height": 415
        },
        "outputId": "3ff0c164-a612-4fb5-c731-fab16f09a352"
      },
      "source": [
        "import matplotlib.pyplot as plt\n",
        "from datetime import datetime\n",
        "ratings1_with_date = ratings1\n",
        "ratings1_with_date['date'] = [datetime.fromtimestamp(x) for x in ratings1_with_date['timestamp']]\n",
        "ratings1_with_date['date'] = pd.to_datetime(ratings1_with_date['date'])\n",
        "ratings1_with_date['year'] = ratings1_with_date['date'].dt.year\n",
        "ratings1_with_date"
      ],
      "execution_count": null,
      "outputs": [
        {
          "output_type": "execute_result",
          "data": {
            "text/html": [
              "<div>\n",
              "<style scoped>\n",
              "    .dataframe tbody tr th:only-of-type {\n",
              "        vertical-align: middle;\n",
              "    }\n",
              "\n",
              "    .dataframe tbody tr th {\n",
              "        vertical-align: top;\n",
              "    }\n",
              "\n",
              "    .dataframe thead th {\n",
              "        text-align: right;\n",
              "    }\n",
              "</style>\n",
              "<table border=\"1\" class=\"dataframe\">\n",
              "  <thead>\n",
              "    <tr style=\"text-align: right;\">\n",
              "      <th></th>\n",
              "      <th>userId</th>\n",
              "      <th>movieId</th>\n",
              "      <th>rating</th>\n",
              "      <th>timestamp</th>\n",
              "      <th>date</th>\n",
              "      <th>year</th>\n",
              "    </tr>\n",
              "  </thead>\n",
              "  <tbody>\n",
              "    <tr>\n",
              "      <th>0</th>\n",
              "      <td>1</td>\n",
              "      <td>307</td>\n",
              "      <td>3.5</td>\n",
              "      <td>1256677221</td>\n",
              "      <td>2009-10-27 21:00:21</td>\n",
              "      <td>2009</td>\n",
              "    </tr>\n",
              "    <tr>\n",
              "      <th>1</th>\n",
              "      <td>1</td>\n",
              "      <td>481</td>\n",
              "      <td>3.5</td>\n",
              "      <td>1256677456</td>\n",
              "      <td>2009-10-27 21:04:16</td>\n",
              "      <td>2009</td>\n",
              "    </tr>\n",
              "    <tr>\n",
              "      <th>2</th>\n",
              "      <td>1</td>\n",
              "      <td>1091</td>\n",
              "      <td>1.5</td>\n",
              "      <td>1256677471</td>\n",
              "      <td>2009-10-27 21:04:31</td>\n",
              "      <td>2009</td>\n",
              "    </tr>\n",
              "    <tr>\n",
              "      <th>3</th>\n",
              "      <td>1</td>\n",
              "      <td>1257</td>\n",
              "      <td>4.5</td>\n",
              "      <td>1256677460</td>\n",
              "      <td>2009-10-27 21:04:20</td>\n",
              "      <td>2009</td>\n",
              "    </tr>\n",
              "    <tr>\n",
              "      <th>4</th>\n",
              "      <td>1</td>\n",
              "      <td>1449</td>\n",
              "      <td>4.5</td>\n",
              "      <td>1256677264</td>\n",
              "      <td>2009-10-27 21:01:04</td>\n",
              "      <td>2009</td>\n",
              "    </tr>\n",
              "    <tr>\n",
              "      <th>...</th>\n",
              "      <td>...</td>\n",
              "      <td>...</td>\n",
              "      <td>...</td>\n",
              "      <td>...</td>\n",
              "      <td>...</td>\n",
              "      <td>...</td>\n",
              "    </tr>\n",
              "    <tr>\n",
              "      <th>27753438</th>\n",
              "      <td>283228</td>\n",
              "      <td>8228</td>\n",
              "      <td>5.0</td>\n",
              "      <td>1354137317</td>\n",
              "      <td>2012-11-28 21:15:17</td>\n",
              "      <td>2012</td>\n",
              "    </tr>\n",
              "    <tr>\n",
              "      <th>27753439</th>\n",
              "      <td>283228</td>\n",
              "      <td>8542</td>\n",
              "      <td>4.5</td>\n",
              "      <td>1379882795</td>\n",
              "      <td>2013-09-22 20:46:35</td>\n",
              "      <td>2013</td>\n",
              "    </tr>\n",
              "    <tr>\n",
              "      <th>27753441</th>\n",
              "      <td>283228</td>\n",
              "      <td>34405</td>\n",
              "      <td>4.5</td>\n",
              "      <td>1379882889</td>\n",
              "      <td>2013-09-22 20:48:09</td>\n",
              "      <td>2013</td>\n",
              "    </tr>\n",
              "    <tr>\n",
              "      <th>27753442</th>\n",
              "      <td>283228</td>\n",
              "      <td>44761</td>\n",
              "      <td>4.5</td>\n",
              "      <td>1354159524</td>\n",
              "      <td>2012-11-29 03:25:24</td>\n",
              "      <td>2012</td>\n",
              "    </tr>\n",
              "    <tr>\n",
              "      <th>27753443</th>\n",
              "      <td>283228</td>\n",
              "      <td>54286</td>\n",
              "      <td>4.5</td>\n",
              "      <td>1354159718</td>\n",
              "      <td>2012-11-29 03:28:38</td>\n",
              "      <td>2012</td>\n",
              "    </tr>\n",
              "  </tbody>\n",
              "</table>\n",
              "<p>24644737 rows × 6 columns</p>\n",
              "</div>"
            ],
            "text/plain": [
              "          userId  movieId  rating   timestamp                date  year\n",
              "0              1      307     3.5  1256677221 2009-10-27 21:00:21  2009\n",
              "1              1      481     3.5  1256677456 2009-10-27 21:04:16  2009\n",
              "2              1     1091     1.5  1256677471 2009-10-27 21:04:31  2009\n",
              "3              1     1257     4.5  1256677460 2009-10-27 21:04:20  2009\n",
              "4              1     1449     4.5  1256677264 2009-10-27 21:01:04  2009\n",
              "...          ...      ...     ...         ...                 ...   ...\n",
              "27753438  283228     8228     5.0  1354137317 2012-11-28 21:15:17  2012\n",
              "27753439  283228     8542     4.5  1379882795 2013-09-22 20:46:35  2013\n",
              "27753441  283228    34405     4.5  1379882889 2013-09-22 20:48:09  2013\n",
              "27753442  283228    44761     4.5  1354159524 2012-11-29 03:25:24  2012\n",
              "27753443  283228    54286     4.5  1354159718 2012-11-29 03:28:38  2012\n",
              "\n",
              "[24644737 rows x 6 columns]"
            ]
          },
          "metadata": {
            "tags": []
          },
          "execution_count": 77
        }
      ]
    },
    {
      "cell_type": "code",
      "metadata": {
        "id": "m4UPuVjyGXJi",
        "colab": {
          "base_uri": "https://localhost:8080/"
        },
        "outputId": "1a483f68-a9fe-4dd0-b63a-adc5518a9990"
      },
      "source": [
        "# Printing frequencey of movies rated every year \n",
        "df = ratings1_with_date.groupby(by=[\"year\",\"movieId\"])['userId'].count()\n",
        "df=pd.DataFrame(df)\n",
        "df = df.reset_index()\n",
        "plt.xlabel('Year')\n",
        "plt.ylabel('Frequency')\n",
        "plt.plot(df.groupby(\"year\")['movieId'].count())\n",
        "plt.title(\"Frequency of rating of movies per year\")"
      ],
      "execution_count": null,
      "outputs": [
        {
          "output_type": "execute_result",
          "data": {
            "text/plain": [
              "Text(0.5, 1.0, 'Frequency of rating of movies per year')"
            ]
          },
          "metadata": {
            "tags": []
          },
          "execution_count": 78
        },
        {
          "output_type": "display_data",
          "data": {
            "image/png": "[encoded data removed]",
            "text/plain": [
              "<Figure size 432x288 with 1 Axes>"
            ]
          },
          "metadata": {
            "tags": [],
            "needs_background": "light"
          }
        }
      ]
    },
    {
      "cell_type": "markdown",
      "metadata": {
        "id": "zkCvKCN2nwlo"
      },
      "source": [
        "We observe that the number of movie ratings have an increasing trend. We therefore, decide to sample our data with the movie ratings from the most recent years in this timestamp-based sampling. "
      ]
    },
    {
      "cell_type": "code",
      "metadata": {
        "id": "XN_xiW-B6HQ_"
      },
      "source": [
        "def create_timestamp_based_sample(n=100):\n",
        "\n",
        "  # Random sampling to be used as a part of timestamp-based sampling\n",
        "  def gen_sample(df,var,size):\n",
        "    np.random.seed(10)\n",
        "    user_cnt=df.groupby([var], as_index=False).size()\n",
        "    user_cnt['decile'] = pd.qcut(user_cnt['size'], 20, labels=False,duplicates='drop')\n",
        "    sample_df = user_cnt.groupby('decile').sample(frac=(size+5)/df[var].nunique())\n",
        "    return(sample_df[var].to_frame().reset_index(drop=True))\n",
        "\n",
        "  # Create new columns date and year extracted from timestamp\n",
        "\n",
        "  ratings1_with_date = ratings1\n",
        "  ratings1_with_date['date'] = [datetime.fromtimestamp(x) for x in ratings1_with_date['timestamp']]\n",
        "  ratings1_with_date['date'] = pd.to_datetime(ratings1_with_date['date'])\n",
        "  ratings1_with_date['year'] = ratings1_with_date['date'].dt.year\n",
        "\n",
        "  # Sorting the ratings table with the latest dates at the top\n",
        "  ratings1_with_date = ratings1_with_date.sort_values(by='date',ascending=False).reset_index().drop(columns='index')\n",
        "\n",
        "  # Filtering for ratings given between 2005 and 2018\n",
        "  ratings1_with_date_sample = ratings1_with_date[(ratings1_with_date['year']>=2005) & (ratings1_with_date['year']<=2018) ]\n",
        "  ratings1_with_date_sample = ratings1_with_date_sample.drop(['date','year'],axis=1)\n",
        "\n",
        "  # Print the number of users and movies for all ratings between 2005 and 2018\n",
        "  #print(\"No of users between 2005 and 2018: \",ratings1_with_date_sample['userId'].nunique())\n",
        "  #print(\"No of movies rated between 2005 and 2018: \" ,ratings1_with_date_sample['movieId'].nunique())\n",
        "\n",
        "  ratings_with_most_rated_movies = ratings1_with_date_sample\n",
        "\n",
        "  \"\"\"\n",
        "  Since the number of movies is way above the 1000 movies we need, reducing number of unique movies by :\n",
        "  1. aggregating number of movies per user\n",
        "  2. selecting 3000 movies with highest number of user ratings\n",
        "  3. joining the ratings1_with_date_sample table with the movieIds found by steps 1. and 2. to retrieve a sample with 20000+ users and most rated movies.\n",
        "  \"\"\"\n",
        "  # Number of Movies\n",
        "  ratings2GroupedByMovie = ratings1_with_date_sample.groupby(by=[\"movieId\"]).count().reset_index()\n",
        "\n",
        "  # Choosing top 3000 movies with maximum number of user ratings\n",
        "  ratings2GroupedByMovie = ratings2GroupedByMovie.sort_values('userId', ascending=False).head(3000)\n",
        "\n",
        "  # Mapping the movieIds obtained from above grouping table with original ratings table\n",
        "  ratings_with_most_rated_movies = ratings1_with_date_sample.merge(ratings2GroupedByMovie['movieId'],how='inner',on='movieId')\n",
        "\n",
        "  # Print the number of users and movies for most rated movies between 2005 and 2018\n",
        "  #print(\"No of users for highly rated movies between 2005 and 2018: \", ratings_with_most_rated_movies['userId'].nunique())\n",
        "  #print(\"No of movies for highly rated movies rated between 2005 and 2018: \", ratings_with_most_rated_movies['movieId'].nunique())\n",
        "\n",
        "  # Method 2 : Random sampling to reduce the sample data set size \n",
        "  number_of_users = 21000 * (n/100)\n",
        "  number_of_movies = 1100 * (n/100)\n",
        "\n",
        "  ratings_with_most_rated_movies_user_sample=gen_sample(ratings_with_most_rated_movies,'userId', number_of_users)\n",
        "  ratings_with_most_rated_movies_movie_sample=gen_sample(ratings_with_most_rated_movies,'movieId', number_of_movies)  \n",
        "\n",
        "  \n",
        "  ratings_with_most_rated_movies_sample=pd.merge(pd.merge(ratings1, ratings_with_most_rated_movies_user_sample, on=['userId'],how='inner'),\\\n",
        "                     ratings_with_most_rated_movies_movie_sample,on=['movieId'],how='inner')\n",
        "  final_ratings = ratings_with_most_rated_movies_sample\n",
        "\n",
        "  # print(\"Shape of final_ratings: \", final_ratings.shape)\n",
        "  return final_ratings"
      ],
      "execution_count": null,
      "outputs": []
    },
    {
      "cell_type": "code",
      "metadata": {
        "id": "rG6RLPAu6iGQ",
        "colab": {
          "base_uri": "https://localhost:8080/",
          "height": 415
        },
        "outputId": "3181015b-9ea3-409c-d143-28388f54101f"
      },
      "source": [
        "final_ratings2 = create_timestamp_based_sample(100)\n",
        "final_ratings2.to_csv('/data/final_dataset.csv')"
      ],
      "execution_count": null,
      "outputs": [
        {
          "output_type": "execute_result",
          "data": {
            "text/html": [
              "<div>\n",
              "<style scoped>\n",
              "    .dataframe tbody tr th:only-of-type {\n",
              "        vertical-align: middle;\n",
              "    }\n",
              "\n",
              "    .dataframe tbody tr th {\n",
              "        vertical-align: top;\n",
              "    }\n",
              "\n",
              "    .dataframe thead th {\n",
              "        text-align: right;\n",
              "    }\n",
              "</style>\n",
              "<table border=\"1\" class=\"dataframe\">\n",
              "  <thead>\n",
              "    <tr style=\"text-align: right;\">\n",
              "      <th></th>\n",
              "      <th>userId</th>\n",
              "      <th>movieId</th>\n",
              "      <th>rating</th>\n",
              "      <th>timestamp</th>\n",
              "      <th>date</th>\n",
              "      <th>year</th>\n",
              "    </tr>\n",
              "  </thead>\n",
              "  <tbody>\n",
              "    <tr>\n",
              "      <th>0</th>\n",
              "      <td>2</td>\n",
              "      <td>849</td>\n",
              "      <td>3.5</td>\n",
              "      <td>1192913537</td>\n",
              "      <td>2007-10-20 20:52:17</td>\n",
              "      <td>2007</td>\n",
              "    </tr>\n",
              "    <tr>\n",
              "      <th>1</th>\n",
              "      <td>339</td>\n",
              "      <td>849</td>\n",
              "      <td>5.0</td>\n",
              "      <td>1513001910</td>\n",
              "      <td>2017-12-11 14:18:30</td>\n",
              "      <td>2017</td>\n",
              "    </tr>\n",
              "    <tr>\n",
              "      <th>2</th>\n",
              "      <td>1707</td>\n",
              "      <td>849</td>\n",
              "      <td>2.5</td>\n",
              "      <td>1126569926</td>\n",
              "      <td>2005-09-13 00:05:26</td>\n",
              "      <td>2005</td>\n",
              "    </tr>\n",
              "    <tr>\n",
              "      <th>3</th>\n",
              "      <td>2040</td>\n",
              "      <td>849</td>\n",
              "      <td>1.0</td>\n",
              "      <td>1131363822</td>\n",
              "      <td>2005-11-07 11:43:42</td>\n",
              "      <td>2005</td>\n",
              "    </tr>\n",
              "    <tr>\n",
              "      <th>4</th>\n",
              "      <td>2759</td>\n",
              "      <td>849</td>\n",
              "      <td>4.0</td>\n",
              "      <td>1172969224</td>\n",
              "      <td>2007-03-04 00:47:04</td>\n",
              "      <td>2007</td>\n",
              "    </tr>\n",
              "    <tr>\n",
              "      <th>...</th>\n",
              "      <td>...</td>\n",
              "      <td>...</td>\n",
              "      <td>...</td>\n",
              "      <td>...</td>\n",
              "      <td>...</td>\n",
              "      <td>...</td>\n",
              "    </tr>\n",
              "    <tr>\n",
              "      <th>897059</th>\n",
              "      <td>279416</td>\n",
              "      <td>4090</td>\n",
              "      <td>4.0</td>\n",
              "      <td>1042467628</td>\n",
              "      <td>2003-01-13 14:20:28</td>\n",
              "      <td>2003</td>\n",
              "    </tr>\n",
              "    <tr>\n",
              "      <th>897060</th>\n",
              "      <td>279765</td>\n",
              "      <td>4090</td>\n",
              "      <td>3.0</td>\n",
              "      <td>1062707006</td>\n",
              "      <td>2003-09-04 20:23:26</td>\n",
              "      <td>2003</td>\n",
              "    </tr>\n",
              "    <tr>\n",
              "      <th>897061</th>\n",
              "      <td>279869</td>\n",
              "      <td>4090</td>\n",
              "      <td>3.0</td>\n",
              "      <td>1111569008</td>\n",
              "      <td>2005-03-23 09:10:08</td>\n",
              "      <td>2005</td>\n",
              "    </tr>\n",
              "    <tr>\n",
              "      <th>897062</th>\n",
              "      <td>280137</td>\n",
              "      <td>4090</td>\n",
              "      <td>3.0</td>\n",
              "      <td>1285482668</td>\n",
              "      <td>2010-09-26 06:31:08</td>\n",
              "      <td>2010</td>\n",
              "    </tr>\n",
              "    <tr>\n",
              "      <th>897063</th>\n",
              "      <td>282586</td>\n",
              "      <td>4090</td>\n",
              "      <td>5.0</td>\n",
              "      <td>1286325531</td>\n",
              "      <td>2010-10-06 00:38:51</td>\n",
              "      <td>2010</td>\n",
              "    </tr>\n",
              "  </tbody>\n",
              "</table>\n",
              "<p>897064 rows × 6 columns</p>\n",
              "</div>"
            ],
            "text/plain": [
              "        userId  movieId  rating   timestamp                date  year\n",
              "0            2      849     3.5  1192913537 2007-10-20 20:52:17  2007\n",
              "1          339      849     5.0  1513001910 2017-12-11 14:18:30  2017\n",
              "2         1707      849     2.5  1126569926 2005-09-13 00:05:26  2005\n",
              "3         2040      849     1.0  1131363822 2005-11-07 11:43:42  2005\n",
              "4         2759      849     4.0  1172969224 2007-03-04 00:47:04  2007\n",
              "...        ...      ...     ...         ...                 ...   ...\n",
              "897059  279416     4090     4.0  1042467628 2003-01-13 14:20:28  2003\n",
              "897060  279765     4090     3.0  1062707006 2003-09-04 20:23:26  2003\n",
              "897061  279869     4090     3.0  1111569008 2005-03-23 09:10:08  2005\n",
              "897062  280137     4090     3.0  1285482668 2010-09-26 06:31:08  2010\n",
              "897063  282586     4090     5.0  1286325531 2010-10-06 00:38:51  2010\n",
              "\n",
              "[897064 rows x 6 columns]"
            ]
          },
          "metadata": {
            "tags": []
          },
          "execution_count": 80
        }
      ]
    },
    {
      "cell_type": "code",
      "metadata": {
        "id": "tBwndQkccWbl",
        "colab": {
          "base_uri": "https://localhost:8080/"
        },
        "outputId": "bce4dd6b-03db-4db4-871a-ca8966641d7b"
      },
      "source": [
        "# Number of Movies rated per user\n",
        "final_ratings2_users_grouping = final_ratings2.groupby(by=[\"userId\"]).count().reset_index()\n",
        "print(\"Minimum number of ratings per user: \",final_ratings2_users_grouping[\"userId\"].min())\n",
        "print(\"Average number of ratings per user: \",final_ratings2_users_grouping[\"userId\"].mean())"
      ],
      "execution_count": null,
      "outputs": [
        {
          "output_type": "stream",
          "text": [
            "Minimum number of ratings per user:  2\n",
            "Average number of ratings per user:  141269.95937827785\n"
          ],
          "name": "stdout"
        }
      ]
    },
    {
      "cell_type": "code",
      "metadata": {
        "id": "QaslQCnGMD86",
        "colab": {
          "base_uri": "https://localhost:8080/"
        },
        "outputId": "e611a20a-aed4-44fe-82d4-27f8ae680d36"
      },
      "source": [
        "print(\"The total number of users after timestamp based sampling are\",final_ratings2.groupby(by=[\"userId\"]).count().shape[0])"
      ],
      "execution_count": null,
      "outputs": [
        {
          "output_type": "stream",
          "text": [
            "The total number of users after timestamp based sampling are 20974\n"
          ],
          "name": "stdout"
        }
      ]
    },
    {
      "cell_type": "code",
      "metadata": {
        "id": "1FN2nqxcMH3J",
        "colab": {
          "base_uri": "https://localhost:8080/"
        },
        "outputId": "7e783677-cfbe-4e32-e1fc-91a4be2cc2ef"
      },
      "source": [
        "print(\"The total number of movies after timestamp based sampling are\", final_ratings2.groupby(by=[\"movieId\"]).count().shape[0])"
      ],
      "execution_count": null,
      "outputs": [
        {
          "output_type": "stream",
          "text": [
            "The total number of movies after timestamp based sampling are 1103\n"
          ],
          "name": "stdout"
        }
      ]
    },
    {
      "cell_type": "code",
      "metadata": {
        "id": "rTtrQ4uh60aD",
        "colab": {
          "base_uri": "https://localhost:8080/"
        },
        "outputId": "9a1060f1-96e5-49ca-b095-04bf0d73c8ad"
      },
      "source": [
        "final_ratings2_movie_grouping = final_ratings2.groupby(by=[\"movieId\"]).count().reset_index()\n",
        "print(\"Minimum number of ratings per movie: \",final_ratings2_movie_grouping[\"userId\"].min())\n",
        "print(\"Average number of ratings per movie: \",final_ratings2_movie_grouping[\"userId\"].mean())"
      ],
      "execution_count": null,
      "outputs": [
        {
          "output_type": "stream",
          "text": [
            "Minimum number of ratings per movie:  137\n",
            "Average number of ratings per movie:  813.2946509519493\n"
          ],
          "name": "stdout"
        }
      ]
    },
    {
      "cell_type": "code",
      "metadata": {
        "id": "xbVHfN8yUWCG"
      },
      "source": [
        "user_freq2=final_ratings2.groupby('userId', as_index=False).agg(num_movies=('movieId','count'))\n",
        "movie_freq2 = final_ratings2.groupby('movieId', as_index=False).agg(num_users=('userId','count'))"
      ],
      "execution_count": null,
      "outputs": []
    },
    {
      "cell_type": "code",
      "metadata": {
        "colab": {
          "base_uri": "https://localhost:8080/",
          "height": 334
        },
        "id": "eTZZT-v2aYTb",
        "outputId": "e14e07a8-9455-4e24-bfeb-788103c01bfd"
      },
      "source": [
        "plt.figure(figsize=(15,5))\n",
        "plt.hist(user_freq2['num_movies'], bins=100, edgecolor='b', log=True)\n",
        "plt.xlim(0,)\n",
        "plt.xticks(np.arange(0,1000,100))\n",
        "plt.xlabel('Number of ratings')\n",
        "plt.ylabel('Number of users')\n",
        "plt.show()"
      ],
      "execution_count": null,
      "outputs": [
        {
          "output_type": "display_data",
          "data": {
            "image/png": "[encoded data removed]",
            "text/plain": [
              "<Figure size 1080x360 with 1 Axes>"
            ]
          },
          "metadata": {
            "tags": [],
            "needs_background": "light"
          }
        }
      ]
    },
    {
      "cell_type": "code",
      "metadata": {
        "colab": {
          "base_uri": "https://localhost:8080/"
        },
        "id": "QtiLJiVwaZwA",
        "outputId": "f9c105d4-a5a9-45c4-aed3-a635d961add7"
      },
      "source": [
        "plt.figure(figsize=(15,5))\n",
        "plt.hist(movie_freq2['num_users'], bins=100, edgecolor='b', log=True)\n",
        "plt.xlim(0,)\n",
        "plt.xticks(np.arange(0,10000,1000))\n",
        "plt.xlabel('Number of ratings')\n",
        "plt.ylabel('Number of users')\n",
        "plt.show()"
      ],
      "execution_count": null,
      "outputs": [
        {
          "output_type": "display_data",
          "data": {
            "image/png": "[encoded data removed]",
            "text/plain": [
              "<Figure size 1080x360 with 1 Axes>"
            ]
          },
          "metadata": {
            "tags": [],
            "needs_background": "light"
          }
        }
      ]
    },
    {
      "cell_type": "code",
      "metadata": {
        "colab": {
          "base_uri": "https://localhost:8080/",
          "height": 336
        },
        "id": "vT-IaUDtbY1R",
        "outputId": "624a00c6-0914-4886-d2e2-d57dab507bd6"
      },
      "source": [
        "df_ur_gp2 = final_ratings2[['userId','rating']].groupby('userId').agg(mean_rating=('rating','mean'))\n",
        "df_ur_gp2.hist(bins=30, grid=False, edgecolor='b', density=True, figsize=(10,5))\n",
        "df_ur_gp2['mean_rating'].plot(grid=False, alpha=10, kind='kde')\n",
        "plt.title('Average rating per user')\n",
        "plt.show()"
      ],
      "execution_count": null,
      "outputs": [
        {
          "output_type": "display_data",
          "data": {
            "image/png": "[encoded data removed]",
            "text/plain": [
              "<Figure size 720x360 with 1 Axes>"
            ]
          },
          "metadata": {
            "tags": [],
            "needs_background": "light"
          }
        }
      ]
    }
  ]
}